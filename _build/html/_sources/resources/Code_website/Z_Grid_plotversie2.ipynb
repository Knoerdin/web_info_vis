{
 "cells": [
  {
   "cell_type": "code",
   "execution_count": 2,
   "metadata": {},
   "outputs": [
    {
     "data": {
      "application/vnd.jupyter.widget-view+json": {
       "model_id": "ae23263853f04d6094dfaf69a53f2868",
       "version_major": 2,
       "version_minor": 0
      },
      "text/plain": [
       "Output()"
      ]
     },
     "metadata": {},
     "output_type": "display_data"
    }
   ],
   "source": [
    "import pandas as pd\n",
    "from plotnine import ggplot, aes, geom_point, facet_wrap, labs, theme_light, theme, scale_x_continuous, ggtitle, geom_smooth\n",
    "import ipywidgets as widgets\n",
    "from IPython.display import display, clear_output\n",
    "from ipywidgets import interactive_output\n",
    "\n",
    "# Data containing all the info\n",
    "data = pd.read_csv('F_PlotData.csv').dropna(subset=['Average_Severity', 'Weather_Score', 'Region'])\n",
    "data['Date'] = pd.to_datetime(data['Date'])\n",
    "\n",
    "# Dates\n",
    "dates = ['2016-04', '2016-07', '2016-10', '2017-01', '2017-04', '2017-07', '2017-10']\n",
    "\n",
    "# Dropdown widget\n",
    "date_dropdown = widgets.Dropdown(\n",
    "    options=dates,\n",
    "    value='2017-01',\n",
    "    description='Date:'\n",
    ")\n",
    "# Plot function\n",
    "def update_figure(selected_date):\n",
    "    filtered_data = data[data['Date'].dt.to_period('M') == selected_date]\n",
    "    \n",
    "    p = ggplot(filtered_data, aes(x='Average_Severity', y='Weather_Score', color='Region')) + \\\n",
    "        geom_point() + \\\n",
    "        geom_smooth(method='lm', se=False, color='black') + \\\n",
    "        facet_wrap('~Region', ncol=3) + \\\n",
    "        labs(x=\"Average Severity\", y=\"Weather Score\") + \\\n",
    "        ggtitle('The impact of weather on the severity of traffic accidents, in the regions of the US, during a specific timeframe') + \\\n",
    "        theme_light() + \\\n",
    "        theme(legend_position='none') + \\\n",
    "        theme(panel_spacing_y=0, panel_spacing_x=0.03) + \\\n",
    "        scale_x_continuous(limits=(2, 4), breaks=range(1, 5)) + \\\n",
    "        theme(figure_size=(13, 6)) \n",
    "    \n",
    "    #Clear, so new data gets loaded\n",
    "    clear_output(wait=True)\n",
    "    display(date_dropdown)\n",
    "    display(p)\n",
    "\n",
    "# Interactive dropdown with dates\n",
    "interactive_plot = widgets.interactive_output(update_figure, {'selected_date': date_dropdown})\n",
    "display(interactive_plot)\n"
   ]
  },
  {
   "cell_type": "markdown",
   "metadata": {},
   "source": [
    "This facetgrid illustrates how weather scores impact accident severity across various US regions, each characterized by distinct weather patterns. Each subplot represents a different region, showcasing the relationship between weather scores and accident severity. In each subplot, regression lines are included to assess correlation, yet none of these lines show a discernible pattern, suggesting no clear relationship between weather conditions and accident severity."
   ]
  }
 ],
 "metadata": {
  "kernelspec": {
   "display_name": "base",
   "language": "python",
   "name": "python3"
  },
  "language_info": {
   "codemirror_mode": {
    "name": "ipython",
    "version": 3
   },
   "file_extension": ".py",
   "mimetype": "text/x-python",
   "name": "python",
   "nbconvert_exporter": "python",
   "pygments_lexer": "ipython3",
   "version": "3.11.7"
  }
 },
 "nbformat": 4,
 "nbformat_minor": 2
}
