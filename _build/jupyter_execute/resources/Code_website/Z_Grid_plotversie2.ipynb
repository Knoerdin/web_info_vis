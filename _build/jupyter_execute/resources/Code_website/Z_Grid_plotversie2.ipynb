{
 "cells": [
  {
   "cell_type": "code",
   "execution_count": 1,
   "metadata": {},
   "outputs": [
    {
     "ename": "ModuleNotFoundError",
     "evalue": "No module named 'plotnine'",
     "output_type": "error",
     "traceback": [
      "\u001b[0;31m---------------------------------------------------------------------------\u001b[0m",
      "\u001b[0;31mModuleNotFoundError\u001b[0m                       Traceback (most recent call last)",
      "Cell \u001b[0;32mIn[1], line 2\u001b[0m\n\u001b[1;32m      1\u001b[0m \u001b[38;5;28;01mimport\u001b[39;00m \u001b[38;5;21;01mpandas\u001b[39;00m \u001b[38;5;28;01mas\u001b[39;00m \u001b[38;5;21;01mpd\u001b[39;00m\n\u001b[0;32m----> 2\u001b[0m \u001b[38;5;28;01mfrom\u001b[39;00m \u001b[38;5;21;01mplotnine\u001b[39;00m \u001b[38;5;28;01mimport\u001b[39;00m ggplot, aes, geom_point, facet_wrap, labs, theme_light, theme, scale_x_continuous, ggtitle, geom_smooth\n\u001b[1;32m      3\u001b[0m \u001b[38;5;28;01mimport\u001b[39;00m \u001b[38;5;21;01mipywidgets\u001b[39;00m \u001b[38;5;28;01mas\u001b[39;00m \u001b[38;5;21;01mwidgets\u001b[39;00m\n\u001b[1;32m      4\u001b[0m \u001b[38;5;28;01mfrom\u001b[39;00m \u001b[38;5;21;01mipywidgets\u001b[39;00m \u001b[38;5;28;01mimport\u001b[39;00m GridspecLayout\n",
      "\u001b[0;31mModuleNotFoundError\u001b[0m: No module named 'plotnine'"
     ]
    }
   ],
   "source": [
    "import pandas as pd\n",
    "from plotnine import ggplot, aes, geom_point, facet_wrap, labs, theme_light, theme, scale_x_continuous, ggtitle, geom_smooth\n",
    "import ipywidgets as widgets\n",
    "from ipywidgets import GridspecLayout\n",
    "import plotly.graph_objects as go\n",
    "from IPython.display import display, clear_output\n",
    "import plotly.express as px\n",
    "from plotly.subplots import make_subplots\n",
    "\n",
    "data = pd.read_csv('F_PlotData.csv')\n",
    "\n",
    "\n",
    "data['Date'] = pd.to_datetime(data['Date'])\n",
    "\n",
    "def update_figure(selected_date):\n",
    "    filtered_data = data[data['Date'].dt.to_period('M') == selected_date]\n",
    "    \n",
    "    p = ggplot(filtered_data, aes(x='Average_Severity', y='Weather_Score', color='Region')) + \\\n",
    "        geom_point() + \\\n",
    "        geom_smooth(method='lm', se=False, color='black') + \\\n",
    "        facet_wrap('~Region', ncol=3) + \\\n",
    "        labs(x=\"Average Severity\", y=\"Weather Score\") + \\\n",
    "        ggtitle('The impact of weather on the severity of traffic accidents, in the regions of the US, during a specific timeframe') + \\\n",
    "        theme_light() + \\\n",
    "        theme(legend_position='none') + \\\n",
    "        theme(panel_spacing_y=0, panel_spacing_x=0.03) + \\\n",
    "        scale_x_continuous(limits=(2, 4), breaks=range(1, 5)) + \\\n",
    "        theme(figure_size=(13, 6)) \n",
    "    \n",
    "    clear_output(wait=True)\n",
    "    display(date_dropdown)\n",
    "    display(p)\n",
    "\n",
    "dates = ['2016-01', '2016-04', '2016-07', '2016-10', '2017-01', '2017-04', '2017-07', '2017-10']\n",
    "date_dropdown = widgets.Dropdown(\n",
    "    options=dates,\n",
    "    value='2017-01',\n",
    "    description='Date:'\n",
    ")\n",
    "display(date_dropdown)\n",
    "\n",
    "def on_date_change(change):\n",
    "    update_figure(change.new)\n",
    "\n",
    "date_dropdown.observe(on_date_change, names='value')\n",
    "\n",
    "update_figure('2017-01')\n"
   ]
  }
 ],
 "metadata": {
  "kernelspec": {
   "display_name": "base",
   "language": "python",
   "name": "python3"
  },
  "language_info": {
   "codemirror_mode": {
    "name": "ipython",
    "version": 3
   },
   "file_extension": ".py",
   "mimetype": "text/x-python",
   "name": "python",
   "nbconvert_exporter": "python",
   "pygments_lexer": "ipython3",
   "version": "3.10.14"
  }
 },
 "nbformat": 4,
 "nbformat_minor": 2
}