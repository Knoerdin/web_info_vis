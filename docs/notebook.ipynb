{
 "cells": [
  {
   "cell_type": "markdown",
   "metadata": {},
   "source": [
    "# Analyse van weersverschijnselen en verkeersongelukken in de VS"
   ]
  },
  {
   "cell_type": "markdown",
   "metadata": {},
   "source": [
    "## Introduction\n",
    "City planners, civil engineers and car manufacturers have worked tirelessly for decades to make driving a safe, comfortable and accessible option for travel. Safer roads, smarter rules and cutting edge technologies have been implement to reduce the frequency of accidents with motor vehicles, to great success as accidents on the road have dropped tremendously since the 1960s (https://www.iihs.org/topics/fatality-statistics/detail/yearly-snapshot) . Aside from individuals with poor driving skills and faulty vehicles, one of the greatest hindrances in motor safety has been the chaotic essence of mother nature. In the US, forty-two thousand people have died in 2022.\n",
    "\n",
    "Some would argue that weather is primarily responsible for the amount of motor vehicle accidents. Weather phenomena such as hurricanes, heavy rain, icy roads and thick fog are able to severely debilitate a person's driving skills and could pose a threat to their own safety, and that of other drivers around them. Others state that the weather is merely a small issue, and that accidents have many more causes other than weather. They argue that factors such as inexperienced drivers, unmaintained roads or sloppy city planning cause just as much, if not more accidents on the road.\n",
    "\n",
    "We set out to research the correlation between weather and accidents in the US. To achieve this we took a look at two datasets, these being 'US Accidents (2016 - 2023)', and 'Historical Hourly Weather Data 2012-2017'. 'US Accidents (2016 - 2023)' is a detailed record of vehicle accidents in the US between 2016 and 2023, having recorded the time, place and severity of accidents, among many other variables. 'Historical Hourly Weather Data 2012-2017' is a record of weather across the US between the years 2012 and 2017. This dataset has recorded the hourly weather status of many large cities across the United States. With these two datasets we can analyze and compare the link between heavy weather and car accidents across the US."
   ]
  },
  {
   "cell_type": "markdown",
   "metadata": {},
   "source": [
    "## Dataset and Preprocessing\n",
    "\n",
    "The first dataset used in this data story is the dataset US Accidents (2016-2023), found on Kaggle. This dataset contains all traffic accidents in America from Febuary 2016 to March 2023. These datapoints are all collected with the help of multiple API's that record traffic accidents and reports them. These API's send out various traffic details which are captured by various entities, such as US and state departments of transportation, law enforcement agencies, traffic cameras, and traffic sensors within the road networks. This dataset contains 7728394 records and 46 different variables. It contains variables on where the accidents took place, when they took place, if any infrastructure was nearby and the severity of the accident. <br>\n",
    "For this data story only the USA will be researched, so for this dataset we removed all states and cities that were not in the USA. As for the variables, all variables that were not used such as ID, Source, Timezone and so on. To find overlap between the this database and the database mentioned in the next paragraph, only the years 2016 and 2017 were used as these are the overlapping years between the databases.\n",
    "\n",
    "The second dataset used in this data story is Historical Hourly Weather Data 2012-2017, also found on Kaggle. It contains the data of the weather in various US states as well as some canadian and israeli cities. The records are measured by the hour and records variables such as temparature, humidity, air pressure and wind speed. There are roughly 45300 records in the database.\n",
    "The only country that will be researched is the US, so all the records of the other countries have been removed from the database. The variables of the database are all in a different csv file which made it more difficult to find correlation between the databases. To overcome this obstacle all the csv files were melted and filtered on year, after the filtering the database was merged to one csv file. "
   ]
  },
  {
   "cell_type": "markdown",
   "metadata": {},
   "source": [
    "## The First Perspective\n",
    "Driving through heavy rain or severe weather conditions can be disoriëntating and can lead to dangerous situations. This is why weather has a lot of influence on the frequency of accidents. Freezing temperatures and bad weather are a dangere to traffic. Cities with severe weather are more prone to traffic accidents than cities with less severe weather. To combat this issue, more precautions should be taken to prevent accidents caused by weather."
   ]
  },
  {
   "cell_type": "markdown",
   "metadata": {},
   "source": [
    "### Accidents per day\n",
    "In the following graph you can see the amount of accidents per day. It is notable to see that there is a significant increase in accidents during workdays. When zooming in there is a noticable pattern with 5 days of more accidents followed by two days(weekend) of less accidents. It is also noteworthy that there is a slight increase in traffic accidents around January and October. This could be because of freezing and holidays respectively. This is worth a further investigation and this will be discussed later on."
   ]
  },
  {
   "cell_type": "code",
   "execution_count": 6,
   "metadata": {
    "tags": [
     "hide-input"
    ]
   },
   "outputs": [
    {
     "data": {
      "application/vnd.plotly.v1+json": {
       "config": {
        "plotlyServerURL": "https://plot.ly"
       },
       "data": [
        {
         "dimensions": [
          {
           "label": "Month",
           "values": [
            "June",
            "June",
            "June",
            "June",
            "June",
            "June",
            "June",
            "June",
            "June",
            "June",
            "July",
            "July",
            "July",
            "July",
            "July",
            "July",
            "July",
            "July",
            "July",
            "July",
            "July",
            "July",
            "July",
            "July",
            "July",
            "July",
            "July",
            "July",
            "July",
            "July",
            "July",
            "July",
            "July",
            "July",
            "July",
            "July",
            "July",
            "July",
            "July",
            "August",
            "August",
            "August",
            "August",
            "August",
            "August",
            "August",
            "August",
            "August",
            "August",
            "August",
            "August",
            "August",
            "August",
            "August",
            "August",
            "August",
            "August",
            "August",
            "August",
            "August",
            "August",
            "August",
            "August",
            "August",
            "August",
            "August",
            "August",
            "August",
            "August",
            "August",
            "September",
            "September",
            "September",
            "September",
            "September",
            "September",
            "September",
            "September",
            "September",
            "September",
            "September",
            "September",
            "September",
            "September",
            "September",
            "September",
            "September",
            "September",
            "September",
            "September",
            "September",
            "September",
            "September",
            "September",
            "September",
            "September",
            "September",
            "September",
            "September",
            "September",
            "October",
            "October",
            "October",
            "October",
            "October",
            "October",
            "October",
            "October",
            "October",
            "October",
            "October",
            "October",
            "October",
            "October",
            "October",
            "October",
            "October",
            "October",
            "October",
            "October",
            "October",
            "October",
            "October",
            "October",
            "October",
            "October",
            "October",
            "October",
            "October",
            "November",
            "November",
            "November",
            "November",
            "November",
            "November",
            "November",
            "November",
            "November",
            "November",
            "November",
            "November",
            "November",
            "November",
            "November",
            "November",
            "November",
            "November",
            "November",
            "November",
            "November",
            "November",
            "November",
            "November",
            "November",
            "November",
            "November",
            "November",
            "November",
            "November",
            "December",
            "December",
            "December",
            "December",
            "December",
            "December",
            "December",
            "December",
            "December",
            "December",
            "December",
            "December",
            "December",
            "December",
            "December",
            "December",
            "December",
            "December",
            "December",
            "December",
            "December",
            "December",
            "December",
            "December",
            "December",
            "December",
            "December",
            "December",
            "December",
            "December",
            "December",
            "January",
            "January",
            "January",
            "January",
            "January",
            "January",
            "January",
            "January",
            "January",
            "January",
            "January",
            "January",
            "January",
            "January",
            "January",
            "January",
            "January",
            "January",
            "January",
            "January",
            "January",
            "January",
            "January",
            "January",
            "January",
            "January",
            "January",
            "January",
            "January",
            "February",
            "February",
            "February",
            "February",
            "February",
            "February",
            "February",
            "February",
            "February",
            "February",
            "February",
            "February",
            "February",
            "February",
            "February",
            "February",
            "February",
            "February",
            "February",
            "February",
            "February",
            "February",
            "February",
            "February",
            "February",
            "February",
            "February",
            "March",
            "March",
            "March",
            "March",
            "March",
            "March",
            "March",
            "March",
            "March",
            "March",
            "March",
            "March",
            "March",
            "March",
            "March",
            "March",
            "March",
            "March",
            "March",
            "March",
            "March",
            "March",
            "March",
            "March",
            "March",
            "March",
            "March",
            "March",
            "March",
            "March",
            "April",
            "April",
            "April",
            "April",
            "April",
            "April",
            "April",
            "April",
            "April",
            "April",
            "April",
            "April",
            "April",
            "April",
            "April",
            "April",
            "April",
            "April",
            "April",
            "April",
            "April",
            "April",
            "April",
            "April",
            "April",
            "April",
            "April",
            "April",
            "April",
            "May",
            "May",
            "May",
            "May",
            "May",
            "May",
            "May",
            "May",
            "May",
            "May",
            "May",
            "May",
            "May",
            "May",
            "May",
            "May",
            "May",
            "May",
            "May",
            "May",
            "May",
            "May",
            "May",
            "May",
            "May",
            "May",
            "May",
            "May",
            "May",
            "June",
            "June",
            "June",
            "June",
            "June",
            "June",
            "June",
            "June",
            "June",
            "June",
            "June",
            "June",
            "June",
            "June",
            "June",
            "June",
            "June",
            "June",
            "June",
            "June",
            "June",
            "June",
            "June",
            "June",
            "June",
            "June",
            "June",
            "June",
            "June",
            "July",
            "July",
            "July",
            "July",
            "July",
            "July",
            "July",
            "July",
            "July",
            "July",
            "July",
            "July",
            "July",
            "July",
            "July",
            "July",
            "July",
            "July",
            "July",
            "July",
            "July",
            "July",
            "July",
            "July",
            "July",
            "July",
            "July",
            "July",
            "July",
            "July",
            "August",
            "August",
            "August",
            "August",
            "August",
            "August",
            "August",
            "August",
            "August",
            "August",
            "August",
            "August",
            "August",
            "August",
            "August",
            "August",
            "August",
            "August",
            "August",
            "August",
            "August",
            "August",
            "August",
            "August",
            "August",
            "August",
            "August",
            "August",
            "August",
            "August",
            "September",
            "September",
            "September",
            "September",
            "September",
            "September",
            "September",
            "September",
            "September",
            "September",
            "September",
            "September",
            "September",
            "September",
            "September",
            "September",
            "September",
            "September",
            "September",
            "September",
            "September",
            "September",
            "September",
            "September",
            "September",
            "September",
            "September",
            "September",
            "September",
            "October",
            "October",
            "October",
            "October",
            "October",
            "October",
            "October",
            "October",
            "October",
            "October",
            "October",
            "October",
            "October",
            "October",
            "October",
            "October",
            "October",
            "October",
            "October",
            "October",
            "October",
            "October",
            "October",
            "October",
            "October",
            "October",
            "October",
            "October",
            "October",
            "November",
            "November",
            "November",
            "November",
            "November",
            "November",
            "November",
            "November",
            "November",
            "November",
            "November",
            "November",
            "November",
            "November",
            "November",
            "November",
            "November",
            "November",
            "November",
            "November",
            "November",
            "November",
            "November",
            "November",
            "November",
            "November",
            "December",
            "December",
            "December",
            "December",
            "December",
            "December",
            "December",
            "December",
            "December",
            "December"
           ]
          },
          {
           "categoryarray": [
            "Not Freezing",
            "Freezing"
           ],
           "categoryorder": "array",
           "label": "Temperature",
           "values": [
            "Not Freezing",
            "Not Freezing",
            "Not Freezing",
            "Not Freezing",
            "Not Freezing",
            "Not Freezing",
            "Not Freezing",
            "Not Freezing",
            "Not Freezing",
            "Not Freezing",
            "Freezing",
            "Not Freezing",
            "Not Freezing",
            "Not Freezing",
            "Not Freezing",
            "Not Freezing",
            "Not Freezing",
            "Not Freezing",
            "Not Freezing",
            "Not Freezing",
            "Freezing",
            "Not Freezing",
            "Not Freezing",
            "Not Freezing",
            "Not Freezing",
            "Not Freezing",
            "Not Freezing",
            "Not Freezing",
            "Not Freezing",
            "Not Freezing",
            "Not Freezing",
            "Not Freezing",
            "Not Freezing",
            "Not Freezing",
            "Not Freezing",
            "Not Freezing",
            "Not Freezing",
            "Not Freezing",
            "Not Freezing",
            "Freezing",
            "Not Freezing",
            "Not Freezing",
            "Freezing",
            "Not Freezing",
            "Not Freezing",
            "Not Freezing",
            "Not Freezing",
            "Not Freezing",
            "Not Freezing",
            "Not Freezing",
            "Freezing",
            "Not Freezing",
            "Not Freezing",
            "Not Freezing",
            "Not Freezing",
            "Not Freezing",
            "Not Freezing",
            "Not Freezing",
            "Not Freezing",
            "Not Freezing",
            "Not Freezing",
            "Not Freezing",
            "Not Freezing",
            "Not Freezing",
            "Not Freezing",
            "Not Freezing",
            "Not Freezing",
            "Not Freezing",
            "Not Freezing",
            "Not Freezing",
            "Not Freezing",
            "Freezing",
            "Not Freezing",
            "Freezing",
            "Not Freezing",
            "Not Freezing",
            "Not Freezing",
            "Not Freezing",
            "Not Freezing",
            "Not Freezing",
            "Not Freezing",
            "Freezing",
            "Not Freezing",
            "Not Freezing",
            "Not Freezing",
            "Not Freezing",
            "Not Freezing",
            "Not Freezing",
            "Not Freezing",
            "Not Freezing",
            "Not Freezing",
            "Not Freezing",
            "Not Freezing",
            "Not Freezing",
            "Not Freezing",
            "Not Freezing",
            "Not Freezing",
            "Not Freezing",
            "Not Freezing",
            "Not Freezing",
            "Not Freezing",
            "Freezing",
            "Not Freezing",
            "Freezing",
            "Not Freezing",
            "Not Freezing",
            "Not Freezing",
            "Not Freezing",
            "Not Freezing",
            "Not Freezing",
            "Not Freezing",
            "Freezing",
            "Not Freezing",
            "Not Freezing",
            "Not Freezing",
            "Not Freezing",
            "Not Freezing",
            "Not Freezing",
            "Not Freezing",
            "Not Freezing",
            "Not Freezing",
            "Not Freezing",
            "Not Freezing",
            "Not Freezing",
            "Not Freezing",
            "Not Freezing",
            "Not Freezing",
            "Not Freezing",
            "Not Freezing",
            "Freezing",
            "Freezing",
            "Not Freezing",
            "Not Freezing",
            "Not Freezing",
            "Not Freezing",
            "Not Freezing",
            "Not Freezing",
            "Not Freezing",
            "Not Freezing",
            "Not Freezing",
            "Freezing",
            "Not Freezing",
            "Not Freezing",
            "Not Freezing",
            "Not Freezing",
            "Not Freezing",
            "Not Freezing",
            "Not Freezing",
            "Freezing",
            "Freezing",
            "Freezing",
            "Freezing",
            "Not Freezing",
            "Not Freezing",
            "Not Freezing",
            "Not Freezing",
            "Not Freezing",
            "Not Freezing",
            "Not Freezing",
            "Freezing",
            "Freezing",
            "Not Freezing",
            "Not Freezing",
            "Not Freezing",
            "Not Freezing",
            "Not Freezing",
            "Not Freezing",
            "Not Freezing",
            "Not Freezing",
            "Not Freezing",
            "Freezing",
            "Freezing",
            "Freezing",
            "Freezing",
            "Freezing",
            "Freezing",
            "Freezing",
            "Freezing",
            "Freezing",
            "Freezing",
            "Freezing",
            "Freezing",
            "Not Freezing",
            "Freezing",
            "Not Freezing",
            "Not Freezing",
            "Freezing",
            "Not Freezing",
            "Freezing",
            "Freezing",
            "Freezing",
            "Not Freezing",
            "Not Freezing",
            "Not Freezing",
            "Not Freezing",
            "Not Freezing",
            "Not Freezing",
            "Not Freezing",
            "Not Freezing",
            "Not Freezing",
            "Freezing",
            "Freezing",
            "Freezing",
            "Freezing",
            "Not Freezing",
            "Not Freezing",
            "Freezing",
            "Freezing",
            "Not Freezing",
            "Not Freezing",
            "Not Freezing",
            "Not Freezing",
            "Not Freezing",
            "Not Freezing",
            "Freezing",
            "Freezing",
            "Freezing",
            "Freezing",
            "Freezing",
            "Freezing",
            "Freezing",
            "Freezing",
            "Not Freezing",
            "Not Freezing",
            "Not Freezing",
            "Not Freezing",
            "Not Freezing",
            "Not Freezing",
            "Not Freezing",
            "Not Freezing",
            "Freezing",
            "Freezing",
            "Freezing",
            "Freezing",
            "Freezing",
            "Not Freezing",
            "Not Freezing",
            "Not Freezing",
            "Not Freezing",
            "Not Freezing",
            "Not Freezing",
            "Not Freezing",
            "Not Freezing",
            "Freezing",
            "Not Freezing",
            "Not Freezing",
            "Not Freezing",
            "Freezing",
            "Freezing",
            "Not Freezing",
            "Not Freezing",
            "Not Freezing",
            "Not Freezing",
            "Not Freezing",
            "Not Freezing",
            "Not Freezing",
            "Not Freezing",
            "Freezing",
            "Freezing",
            "Freezing",
            "Freezing",
            "Freezing",
            "Freezing",
            "Not Freezing",
            "Not Freezing",
            "Not Freezing",
            "Freezing",
            "Freezing",
            "Not Freezing",
            "Not Freezing",
            "Not Freezing",
            "Not Freezing",
            "Not Freezing",
            "Not Freezing",
            "Not Freezing",
            "Not Freezing",
            "Freezing",
            "Freezing",
            "Freezing",
            "Not Freezing",
            "Not Freezing",
            "Not Freezing",
            "Not Freezing",
            "Not Freezing",
            "Not Freezing",
            "Not Freezing",
            "Not Freezing",
            "Not Freezing",
            "Not Freezing",
            "Not Freezing",
            "Not Freezing",
            "Not Freezing",
            "Not Freezing",
            "Not Freezing",
            "Not Freezing",
            "Not Freezing",
            "Not Freezing",
            "Not Freezing",
            "Not Freezing",
            "Not Freezing",
            "Not Freezing",
            "Not Freezing",
            "Not Freezing",
            "Not Freezing",
            "Not Freezing",
            "Freezing",
            "Freezing",
            "Freezing",
            "Not Freezing",
            "Not Freezing",
            "Not Freezing",
            "Not Freezing",
            "Not Freezing",
            "Not Freezing",
            "Not Freezing",
            "Not Freezing",
            "Not Freezing",
            "Not Freezing",
            "Not Freezing",
            "Not Freezing",
            "Not Freezing",
            "Not Freezing",
            "Not Freezing",
            "Not Freezing",
            "Not Freezing",
            "Not Freezing",
            "Not Freezing",
            "Not Freezing",
            "Not Freezing",
            "Not Freezing",
            "Not Freezing",
            "Not Freezing",
            "Not Freezing",
            "Not Freezing",
            "Freezing",
            "Freezing",
            "Not Freezing",
            "Not Freezing",
            "Not Freezing",
            "Not Freezing",
            "Not Freezing",
            "Not Freezing",
            "Not Freezing",
            "Not Freezing",
            "Not Freezing",
            "Not Freezing",
            "Not Freezing",
            "Not Freezing",
            "Not Freezing",
            "Not Freezing",
            "Not Freezing",
            "Not Freezing",
            "Not Freezing",
            "Not Freezing",
            "Not Freezing",
            "Not Freezing",
            "Not Freezing",
            "Not Freezing",
            "Not Freezing",
            "Not Freezing",
            "Not Freezing",
            "Not Freezing",
            "Not Freezing",
            "Freezing",
            "Not Freezing",
            "Not Freezing",
            "Not Freezing",
            "Not Freezing",
            "Not Freezing",
            "Not Freezing",
            "Not Freezing",
            "Not Freezing",
            "Not Freezing",
            "Not Freezing",
            "Not Freezing",
            "Not Freezing",
            "Not Freezing",
            "Not Freezing",
            "Not Freezing",
            "Not Freezing",
            "Not Freezing",
            "Not Freezing",
            "Not Freezing",
            "Not Freezing",
            "Not Freezing",
            "Not Freezing",
            "Not Freezing",
            "Not Freezing",
            "Not Freezing",
            "Not Freezing",
            "Not Freezing",
            "Not Freezing",
            "Not Freezing",
            "Freezing",
            "Not Freezing",
            "Not Freezing",
            "Not Freezing",
            "Not Freezing",
            "Not Freezing",
            "Not Freezing",
            "Not Freezing",
            "Not Freezing",
            "Not Freezing",
            "Not Freezing",
            "Not Freezing",
            "Not Freezing",
            "Not Freezing",
            "Not Freezing",
            "Not Freezing",
            "Not Freezing",
            "Not Freezing",
            "Not Freezing",
            "Not Freezing",
            "Not Freezing",
            "Not Freezing",
            "Not Freezing",
            "Not Freezing",
            "Not Freezing",
            "Not Freezing",
            "Not Freezing",
            "Not Freezing",
            "Not Freezing",
            "Not Freezing",
            "Freezing",
            "Freezing",
            "Not Freezing",
            "Not Freezing",
            "Not Freezing",
            "Not Freezing",
            "Not Freezing",
            "Not Freezing",
            "Not Freezing",
            "Not Freezing",
            "Not Freezing",
            "Not Freezing",
            "Not Freezing",
            "Not Freezing",
            "Not Freezing",
            "Not Freezing",
            "Not Freezing",
            "Not Freezing",
            "Not Freezing",
            "Not Freezing",
            "Not Freezing",
            "Not Freezing",
            "Not Freezing",
            "Not Freezing",
            "Not Freezing",
            "Not Freezing",
            "Not Freezing",
            "Not Freezing",
            "Not Freezing",
            "Freezing",
            "Freezing",
            "Freezing",
            "Not Freezing",
            "Not Freezing",
            "Not Freezing",
            "Not Freezing",
            "Not Freezing",
            "Not Freezing",
            "Not Freezing",
            "Freezing",
            "Not Freezing",
            "Not Freezing",
            "Not Freezing",
            "Not Freezing",
            "Not Freezing",
            "Not Freezing",
            "Not Freezing",
            "Not Freezing",
            "Not Freezing",
            "Not Freezing",
            "Not Freezing",
            "Not Freezing",
            "Not Freezing",
            "Not Freezing",
            "Not Freezing",
            "Not Freezing",
            "Not Freezing",
            "Not Freezing",
            "Not Freezing",
            "Not Freezing",
            "Freezing",
            "Not Freezing",
            "Not Freezing",
            "Not Freezing",
            "Not Freezing",
            "Not Freezing",
            "Not Freezing",
            "Not Freezing",
            "Not Freezing",
            "Not Freezing",
            "Not Freezing",
            "Not Freezing",
            "Not Freezing",
            "Freezing",
            "Not Freezing",
            "Freezing",
            "Freezing",
            "Not Freezing",
            "Not Freezing",
            "Not Freezing",
            "Not Freezing",
            "Not Freezing",
            "Not Freezing",
            "Not Freezing",
            "Not Freezing",
            "Freezing",
            "Not Freezing",
            "Not Freezing",
            "Not Freezing",
            "Not Freezing",
            "Not Freezing",
            "Not Freezing",
            "Not Freezing",
            "Freezing"
           ]
          },
          {
           "categoryarray": [
            "High",
            "Medium",
            "Low"
           ],
           "categoryorder": "array",
           "label": "Humidity",
           "values": [
            "Low",
            "Low",
            "Low",
            "Low",
            "Low",
            "Medium",
            "Medium",
            "Medium",
            "Low",
            "Low",
            "Medium",
            "Low",
            "High",
            "Medium",
            "Low",
            "High",
            "Low",
            "Medium",
            "Medium",
            "High",
            "High",
            "Medium",
            "High",
            "Medium",
            "High",
            "Medium",
            "Low",
            "Low",
            "Medium",
            "Medium",
            "Low",
            "Medium",
            "Medium",
            "Low",
            "Medium",
            "Medium",
            "Medium",
            "High",
            "High",
            "High",
            "Medium",
            "Low",
            "Medium",
            "Low",
            "Low",
            "High",
            "Low",
            "High",
            "High",
            "High",
            "Medium",
            "High",
            "High",
            "High",
            "High",
            "High",
            "High",
            "High",
            "High",
            "Medium",
            "Medium",
            "Low",
            "Medium",
            "High",
            "Medium",
            "Medium",
            "High",
            "Medium",
            "Medium",
            "Medium",
            "High",
            "High",
            "Low",
            "High",
            "Low",
            "Low",
            "Medium",
            "Medium",
            "Medium",
            "High",
            "Medium",
            "Medium",
            "Low",
            "Medium",
            "Medium",
            "Medium",
            "High",
            "High",
            "High",
            "Medium",
            "High",
            "Medium",
            "High",
            "Low",
            "Medium",
            "High",
            "Low",
            "High",
            "High",
            "High",
            "High",
            "Medium",
            "High",
            "Medium",
            "Medium",
            "Low",
            "Medium",
            "Medium",
            "High",
            "High",
            "Low",
            "Medium",
            "High",
            "High",
            "High",
            "Medium",
            "High",
            "Low",
            "High",
            "High",
            "High",
            "High",
            "High",
            "High",
            "High",
            "High",
            "High",
            "High",
            "High",
            "Medium",
            "Low",
            "High",
            "High",
            "Medium",
            "Low",
            "Medium",
            "Medium",
            "Medium",
            "High",
            "Low",
            "High",
            "Low",
            "Low",
            "Medium",
            "Medium",
            "High",
            "Low",
            "Medium",
            "High",
            "Low",
            "Medium",
            "High",
            "High",
            "High",
            "High",
            "High",
            "High",
            "High",
            "High",
            "High",
            "Medium",
            "Medium",
            "Low",
            "High",
            "Low",
            "Medium",
            "Medium",
            "Low",
            "High",
            "Low",
            "High",
            "High",
            "Medium",
            "Low",
            "Medium",
            "High",
            "Medium",
            "Medium",
            "Low",
            "Medium",
            "Medium",
            "High",
            "High",
            "High",
            "High",
            "High",
            "Medium",
            "Medium",
            "Medium",
            "Low",
            "High",
            "High",
            "High",
            "High",
            "Low",
            "High",
            "Low",
            "Low",
            "Medium",
            "Medium",
            "Medium",
            "Medium",
            "Medium",
            "High",
            "High",
            "High",
            "High",
            "High",
            "High",
            "High",
            "High",
            "High",
            "High",
            "High",
            "High",
            "Medium",
            "Medium",
            "Medium",
            "High",
            "High",
            "Low",
            "Medium",
            "Low",
            "Medium",
            "Low",
            "Low",
            "Low",
            "Medium",
            "Low",
            "High",
            "Low",
            "High",
            "High",
            "High",
            "High",
            "Medium",
            "Medium",
            "Medium",
            "Medium",
            "High",
            "Medium",
            "High",
            "Medium",
            "Low",
            "Low",
            "High",
            "High",
            "Low",
            "Low",
            "Low",
            "Low",
            "Low",
            "Low",
            "High",
            "Medium",
            "Medium",
            "High",
            "Medium",
            "Medium",
            "Low",
            "Low",
            "Medium",
            "High",
            "High",
            "High",
            "Medium",
            "Low",
            "Low",
            "Low",
            "High",
            "High",
            "High",
            "High",
            "Medium",
            "High",
            "High",
            "Medium",
            "Low",
            "Low",
            "High",
            "Medium",
            "Low",
            "Low",
            "Medium",
            "Medium",
            "Medium",
            "High",
            "Medium",
            "Low",
            "Low",
            "Low",
            "Low",
            "Medium",
            "Low",
            "High",
            "Medium",
            "Low",
            "Low",
            "Low",
            "Low",
            "Medium",
            "Low",
            "Low",
            "Medium",
            "High",
            "Medium",
            "Low",
            "Low",
            "High",
            "High",
            "Medium",
            "Low",
            "Low",
            "High",
            "Low",
            "High",
            "Low",
            "Low",
            "Low",
            "Low",
            "Low",
            "Low",
            "Low",
            "Low",
            "High",
            "Low",
            "Low",
            "Medium",
            "High",
            "High",
            "Medium",
            "Medium",
            "Low",
            "Low",
            "Medium",
            "Medium",
            "Medium",
            "High",
            "Medium",
            "Medium",
            "Low",
            "Low",
            "Medium",
            "High",
            "High",
            "Low",
            "Low",
            "Low",
            "Low",
            "Low",
            "Low",
            "Low",
            "Low",
            "Low",
            "Low",
            "High",
            "Low",
            "Low",
            "Low",
            "Low",
            "Low",
            "Low",
            "Medium",
            "Medium",
            "High",
            "High",
            "Medium",
            "Low",
            "Low",
            "Low",
            "Medium",
            "Medium",
            "High",
            "Low",
            "High",
            "Medium",
            "Medium",
            "Medium",
            "Medium",
            "Medium",
            "Low",
            "Medium",
            "Low",
            "Medium",
            "High",
            "Medium",
            "Low",
            "Medium",
            "Medium",
            "Medium",
            "Low",
            "Low",
            "Low",
            "Low",
            "High",
            "Low",
            "Low",
            "Low",
            "Low",
            "Medium",
            "Low",
            "Medium",
            "Medium",
            "Medium",
            "Medium",
            "Low",
            "Medium",
            "Low",
            "Medium",
            "Medium",
            "Medium",
            "Low",
            "Low",
            "Medium",
            "Low",
            "Low",
            "Low",
            "Low",
            "Low",
            "High",
            "High",
            "High",
            "Medium",
            "Low",
            "Low",
            "Low",
            "Low",
            "Low",
            "Low",
            "Low",
            "Low",
            "Medium",
            "Medium",
            "Medium",
            "Medium",
            "High",
            "High",
            "Medium",
            "Medium",
            "High",
            "High",
            "High",
            "High",
            "Medium",
            "Medium",
            "Low",
            "Medium",
            "Low",
            "Low",
            "Low",
            "Medium",
            "Medium",
            "High",
            "Low",
            "Low",
            "Low",
            "Low",
            "Low",
            "Medium",
            "Low",
            "Medium",
            "High",
            "Low",
            "High",
            "High",
            "High",
            "Medium",
            "Low",
            "Low",
            "Low",
            "Low",
            "Medium",
            "Medium",
            "Medium",
            "High",
            "High",
            "Medium",
            "Medium",
            "High",
            "High",
            "High",
            "High",
            "High",
            "Low",
            "Low",
            "Low",
            "Medium",
            "Medium",
            "High",
            "High",
            "High",
            "High",
            "High",
            "Medium",
            "High",
            "High",
            "High",
            "Low",
            "Medium",
            "Medium",
            "Low",
            "Medium",
            "Medium",
            "Medium",
            "Medium",
            "Low",
            "Low",
            "High",
            "Low",
            "Low",
            "Low",
            "Low",
            "High",
            "Medium",
            "Medium",
            "High",
            "Low"
           ]
          },
          {
           "categoryarray": [
            "High",
            "Medium",
            "Low"
           ],
           "categoryorder": "array",
           "label": "Wind Speed",
           "values": [
            "Medium",
            "Medium",
            "Low",
            "Medium",
            "Low",
            "High",
            "High",
            "High",
            "Medium",
            "Medium",
            "Low",
            "Medium",
            "High",
            "High",
            "High",
            "Low",
            "Low",
            "Medium",
            "Medium",
            "Low",
            "High",
            "Medium",
            "Medium",
            "High",
            "Low",
            "High",
            "Medium",
            "Low",
            "High",
            "High",
            "Medium",
            "Medium",
            "High",
            "Low",
            "Low",
            "Medium",
            "Medium",
            "High",
            "Medium",
            "Low",
            "Low",
            "Medium",
            "High",
            "High",
            "High",
            "High",
            "Low",
            "Medium",
            "High",
            "Low",
            "High",
            "Medium",
            "Low",
            "Low",
            "Medium",
            "Low",
            "Low",
            "Low",
            "Medium",
            "High",
            "Low",
            "Low",
            "High",
            "Medium",
            "Low",
            "Low",
            "Low",
            "Low",
            "Low",
            "Low",
            "Medium",
            "High",
            "High",
            "High",
            "Medium",
            "Medium",
            "High",
            "Low",
            "Low",
            "Medium",
            "High",
            "High",
            "Medium",
            "Low",
            "Medium",
            "Low",
            "Medium",
            "Low",
            "Low",
            "Low",
            "Low",
            "Low",
            "Medium",
            "Medium",
            "Medium",
            "High",
            "High",
            "Low",
            "High",
            "High",
            "High",
            "High",
            "Low",
            "Medium",
            "High",
            "Low",
            "Low",
            "Low",
            "Medium",
            "Low",
            "Medium",
            "High",
            "High",
            "Low",
            "High",
            "High",
            "Medium",
            "High",
            "Low",
            "Low",
            "High",
            "High",
            "Medium",
            "High",
            "High",
            "Medium",
            "High",
            "Medium",
            "Medium",
            "High",
            "High",
            "Low",
            "High",
            "High",
            "High",
            "Medium",
            "Low",
            "Medium",
            "Medium",
            "High",
            "Medium",
            "Medium",
            "Medium",
            "Low",
            "Low",
            "Low",
            "Medium",
            "High",
            "High",
            "High",
            "Low",
            "Low",
            "Medium",
            "Medium",
            "Medium",
            "Low",
            "Medium",
            "High",
            "Medium",
            "High",
            "Medium",
            "Low",
            "High",
            "Medium",
            "High",
            "Medium",
            "Medium",
            "Low",
            "High",
            "Low",
            "High",
            "High",
            "High",
            "High",
            "Low",
            "Low",
            "Medium",
            "Low",
            "High",
            "Medium",
            "Medium",
            "Medium",
            "Medium",
            "Low",
            "High",
            "High",
            "Medium",
            "High",
            "High",
            "High",
            "High",
            "High",
            "Medium",
            "High",
            "Medium",
            "Medium",
            "Low",
            "Medium",
            "Low",
            "Low",
            "Medium",
            "Low",
            "Low",
            "Low",
            "Medium",
            "Medium",
            "Medium",
            "Medium",
            "Low",
            "Low",
            "Medium",
            "Low",
            "Low",
            "High",
            "High",
            "High",
            "Medium",
            "Low",
            "Medium",
            "Low",
            "High",
            "High",
            "Low",
            "High",
            "Medium",
            "Medium",
            "Low",
            "Medium",
            "Low",
            "Low",
            "High",
            "High",
            "High",
            "Medium",
            "Low",
            "High",
            "Low",
            "Low",
            "Medium",
            "Low",
            "Medium",
            "High",
            "High",
            "High",
            "High",
            "Medium",
            "Medium",
            "High",
            "High",
            "Medium",
            "Medium",
            "Low",
            "Low",
            "Low",
            "Medium",
            "Medium",
            "Medium",
            "High",
            "High",
            "High",
            "Medium",
            "Low",
            "Low",
            "Low",
            "Low",
            "High",
            "High",
            "Low",
            "High",
            "High",
            "Medium",
            "Low",
            "Medium",
            "Low",
            "High",
            "High",
            "High",
            "Medium",
            "Low",
            "High",
            "Medium",
            "Medium",
            "Medium",
            "High",
            "High",
            "High",
            "Medium",
            "Medium",
            "Medium",
            "High",
            "High",
            "Medium",
            "Medium",
            "Medium",
            "Medium",
            "High",
            "Medium",
            "Low",
            "Medium",
            "Medium",
            "Medium",
            "High",
            "High",
            "Medium",
            "High",
            "High",
            "High",
            "Medium",
            "Medium",
            "High",
            "Medium",
            "Low",
            "High",
            "Medium",
            "Medium",
            "Medium",
            "Low",
            "Medium",
            "Low",
            "Medium",
            "High",
            "High",
            "High",
            "High",
            "Medium",
            "High",
            "Low",
            "Medium",
            "Medium",
            "Medium",
            "Low",
            "Medium",
            "High",
            "High",
            "Medium",
            "Low",
            "Medium",
            "High",
            "High",
            "High",
            "Low",
            "Low",
            "Low",
            "Low",
            "Medium",
            "Medium",
            "Medium",
            "Low",
            "Low",
            "Medium",
            "High",
            "Medium",
            "High",
            "Low",
            "High",
            "High",
            "High",
            "Medium",
            "High",
            "High",
            "Medium",
            "High",
            "Medium",
            "Medium",
            "Medium",
            "High",
            "High",
            "High",
            "High",
            "Medium",
            "Low",
            "Medium",
            "High",
            "Low",
            "Medium",
            "Medium",
            "Low",
            "Medium",
            "Low",
            "Low",
            "Low",
            "Low",
            "Low",
            "Low",
            "Low",
            "Medium",
            "Low",
            "Low",
            "Low",
            "High",
            "Medium",
            "Low",
            "Low",
            "High",
            "High",
            "High",
            "Medium",
            "Medium",
            "Low",
            "Medium",
            "Low",
            "Medium",
            "High",
            "Low",
            "Low",
            "Low",
            "Low",
            "Low",
            "Medium",
            "High",
            "Medium",
            "Low",
            "Low",
            "High",
            "Medium",
            "Medium",
            "Low",
            "Low",
            "Low",
            "Low",
            "Low",
            "Low",
            "Medium",
            "High",
            "High",
            "High",
            "High",
            "Low",
            "Medium",
            "Medium",
            "Low",
            "Low",
            "Low",
            "Medium",
            "Low",
            "Low",
            "Low",
            "Low",
            "Low",
            "Low",
            "Low",
            "Low",
            "Low",
            "Low",
            "Low",
            "Low",
            "Low",
            "Low",
            "Medium",
            "Medium",
            "High",
            "Low",
            "High",
            "High",
            "High",
            "High",
            "Low",
            "High",
            "Low",
            "Low",
            "Low",
            "Low",
            "High",
            "Low",
            "Low",
            "High",
            "Medium",
            "Medium",
            "Medium",
            "High",
            "Low",
            "Low",
            "Medium",
            "Medium",
            "High",
            "High",
            "Low",
            "Medium",
            "Medium",
            "Medium",
            "High",
            "High",
            "Low",
            "High",
            "Medium",
            "High",
            "Medium",
            "Low",
            "High",
            "Low",
            "Low",
            "High",
            "High",
            "Low",
            "Medium",
            "High",
            "High",
            "High",
            "High",
            "Medium",
            "Medium",
            "High",
            "Medium",
            "Low",
            "High",
            "Medium",
            "Low",
            "High",
            "Medium",
            "High",
            "Medium",
            "High",
            "Low",
            "Medium",
            "Low",
            "High",
            "Low"
           ]
          },
          {
           "categoryarray": [
            "High",
            "Medium",
            "Low"
           ],
           "categoryorder": "array",
           "label": "Number of Accidents",
           "values": [
            "Medium",
            "Medium",
            "Low",
            "Medium",
            "Low",
            "Medium",
            "Medium",
            "Medium",
            "High",
            "Medium",
            "Medium",
            "Low",
            "Low",
            "Medium",
            "High",
            "Medium",
            "High",
            "Medium",
            "Low",
            "Low",
            "High",
            "Medium",
            "Low",
            "Low",
            "Low",
            "Low",
            "High",
            "Medium",
            "High",
            "Medium",
            "Low",
            "Medium",
            "Medium",
            "Medium",
            "Medium",
            "Medium",
            "Medium",
            "Low",
            "Medium",
            "High",
            "Medium",
            "Low",
            "Medium",
            "Low",
            "Low",
            "Low",
            "High",
            "Medium",
            "Low",
            "Low",
            "Low",
            "High",
            "Low",
            "Medium",
            "High",
            "Medium",
            "Medium",
            "Medium",
            "Low",
            "Low",
            "Low",
            "Medium",
            "High",
            "Medium",
            "High",
            "Medium",
            "Low",
            "Medium",
            "Medium",
            "Medium",
            "Medium",
            "High",
            "Low",
            "Low",
            "Medium",
            "Medium",
            "Low",
            "Low",
            "Medium",
            "High",
            "Low",
            "Medium",
            "High",
            "High",
            "Medium",
            "Medium",
            "High",
            "Low",
            "Medium",
            "Low",
            "Medium",
            "Low",
            "Low",
            "Medium",
            "Low",
            "High",
            "High",
            "High",
            "High",
            "High",
            "Medium",
            "Low",
            "High",
            "High",
            "Medium",
            "Medium",
            "Medium",
            "Medium",
            "Low",
            "Low",
            "Medium",
            "Medium",
            "Low",
            "Medium",
            "Low",
            "Low",
            "High",
            "Medium",
            "High",
            "High",
            "High",
            "Medium",
            "Low",
            "Medium",
            "High",
            "High",
            "High",
            "Medium",
            "Medium",
            "High",
            "High",
            "High",
            "Medium",
            "Low",
            "Low",
            "Medium",
            "Medium",
            "Low",
            "High",
            "Medium",
            "Low",
            "Low",
            "Medium",
            "Medium",
            "High",
            "High",
            "High",
            "Medium",
            "Medium",
            "Medium",
            "High",
            "Low",
            "High",
            "High",
            "Low",
            "Low",
            "High",
            "High",
            "Medium",
            "High",
            "Medium",
            "Low",
            "Medium",
            "High",
            "Medium",
            "Medium",
            "High",
            "High",
            "Medium",
            "Medium",
            "High",
            "Low",
            "High",
            "High",
            "High",
            "High",
            "Low",
            "High",
            "High",
            "High",
            "High",
            "Low",
            "Low",
            "Medium",
            "Low",
            "Low",
            "Low",
            "Medium",
            "Low",
            "Low",
            "Low",
            "Medium",
            "Low",
            "High",
            "High",
            "Low",
            "Low",
            "High",
            "High",
            "High",
            "High",
            "Low",
            "Low",
            "High",
            "High",
            "Low",
            "High",
            "High",
            "Low",
            "Low",
            "High",
            "Medium",
            "Medium",
            "Medium",
            "High",
            "Medium",
            "Low",
            "High",
            "High",
            "High",
            "High",
            "Medium",
            "Medium",
            "Low",
            "High",
            "High",
            "Medium",
            "Medium",
            "High",
            "Low",
            "Medium",
            "Medium",
            "Medium",
            "High",
            "High",
            "Low",
            "Low",
            "Medium",
            "Low",
            "Medium",
            "Medium",
            "Low",
            "Low",
            "Low",
            "High",
            "High",
            "High",
            "High",
            "Medium",
            "Low",
            "Low",
            "High",
            "High",
            "Medium",
            "Low",
            "Medium",
            "Low",
            "High",
            "Medium",
            "Medium",
            "High",
            "Medium",
            "Low",
            "Low",
            "High",
            "Medium",
            "Low",
            "Low",
            "High",
            "Low",
            "Low",
            "High",
            "High",
            "Medium",
            "High",
            "Medium",
            "Low",
            "Medium",
            "High",
            "High",
            "High",
            "High",
            "Low",
            "Medium",
            "Low",
            "High",
            "Medium",
            "Medium",
            "Medium",
            "Low",
            "Low",
            "High",
            "Medium",
            "Medium",
            "High",
            "Low",
            "Low",
            "Low",
            "Medium",
            "Medium",
            "Medium",
            "High",
            "Medium",
            "Low",
            "Medium",
            "High",
            "Medium",
            "High",
            "High",
            "High",
            "Low",
            "Low",
            "High",
            "Medium",
            "Low",
            "Medium",
            "Medium",
            "Low",
            "High",
            "Low",
            "Medium",
            "Medium",
            "Low",
            "Low",
            "High",
            "Low",
            "High",
            "Medium",
            "Low",
            "Low",
            "Low",
            "Low",
            "Low",
            "Low",
            "Medium",
            "High",
            "Low",
            "Low",
            "Low",
            "Low",
            "High",
            "Medium",
            "High",
            "Low",
            "Low",
            "High",
            "Medium",
            "High",
            "High",
            "Medium",
            "Low",
            "Low",
            "Medium",
            "Medium",
            "High",
            "High",
            "Low",
            "Low",
            "Medium",
            "Medium",
            "High",
            "Low",
            "High",
            "Low",
            "Low",
            "Low",
            "Low",
            "High",
            "Low",
            "High",
            "Low",
            "Medium",
            "High",
            "High",
            "High",
            "Medium",
            "Low",
            "Low",
            "Low",
            "Low",
            "High",
            "Medium",
            "Medium",
            "Low",
            "Low",
            "Low",
            "Medium",
            "Medium",
            "Medium",
            "Low",
            "Low",
            "Low",
            "Low",
            "High",
            "Medium",
            "Medium",
            "Medium",
            "Medium",
            "Low",
            "Low",
            "Medium",
            "Low",
            "High",
            "Low",
            "Low",
            "Medium",
            "High",
            "High",
            "High",
            "Medium",
            "Low",
            "Low",
            "Low",
            "Medium",
            "High",
            "Medium",
            "Medium",
            "Low",
            "Low",
            "High",
            "High",
            "Medium",
            "Medium",
            "Medium",
            "Low",
            "Low",
            "Low",
            "Medium",
            "Low",
            "High",
            "High",
            "Low",
            "Low",
            "High",
            "High",
            "High",
            "Medium",
            "Medium",
            "Low",
            "High",
            "High",
            "High",
            "High",
            "High",
            "Low",
            "Low",
            "Medium",
            "High",
            "Medium",
            "High",
            "High",
            "Low",
            "Low",
            "Low",
            "Medium",
            "Medium",
            "High",
            "High",
            "Medium",
            "High",
            "High",
            "Medium",
            "High",
            "Medium",
            "Low",
            "High",
            "High",
            "High",
            "Medium",
            "Medium",
            "Medium",
            "Low",
            "Low",
            "Low",
            "Low",
            "Low",
            "Low",
            "Low",
            "Low",
            "Low",
            "Low",
            "Low",
            "Medium",
            "Low",
            "Low",
            "Low",
            "Low",
            "Low",
            "Low",
            "Low",
            "Low",
            "Low",
            "Low",
            "Low",
            "High",
            "Low",
            "Medium",
            "High",
            "High",
            "Low",
            "Low",
            "Low",
            "Low",
            "High",
            "High",
            "High",
            "High",
            "Medium",
            "Medium",
            "High",
            "Low",
            "Low",
            "Medium",
            "Low",
            "Low",
            "Low",
            "Medium"
           ]
          }
         ],
         "line": {
          "color": [
           0,
           0,
           2,
           0,
           2,
           0,
           0,
           0,
           1,
           0,
           0,
           2,
           2,
           0,
           1,
           0,
           1,
           0,
           2,
           2,
           1,
           0,
           2,
           2,
           2,
           2,
           1,
           0,
           1,
           0,
           2,
           0,
           0,
           0,
           0,
           0,
           0,
           2,
           0,
           1,
           0,
           2,
           0,
           2,
           2,
           2,
           1,
           0,
           2,
           2,
           2,
           1,
           2,
           0,
           1,
           0,
           0,
           0,
           2,
           2,
           2,
           0,
           1,
           0,
           1,
           0,
           2,
           0,
           0,
           0,
           0,
           1,
           2,
           2,
           0,
           0,
           2,
           2,
           0,
           1,
           2,
           0,
           1,
           1,
           0,
           0,
           1,
           2,
           0,
           2,
           0,
           2,
           2,
           0,
           2,
           1,
           1,
           1,
           1,
           1,
           0,
           2,
           1,
           1,
           0,
           0,
           0,
           0,
           2,
           2,
           0,
           0,
           2,
           0,
           2,
           2,
           1,
           0,
           1,
           1,
           1,
           0,
           2,
           0,
           1,
           1,
           1,
           0,
           0,
           1,
           1,
           1,
           0,
           2,
           2,
           0,
           0,
           2,
           1,
           0,
           2,
           2,
           0,
           0,
           1,
           1,
           1,
           0,
           0,
           0,
           1,
           2,
           1,
           1,
           2,
           2,
           1,
           1,
           0,
           1,
           0,
           2,
           0,
           1,
           0,
           0,
           1,
           1,
           0,
           0,
           1,
           2,
           1,
           1,
           1,
           1,
           2,
           1,
           1,
           1,
           1,
           2,
           2,
           0,
           2,
           2,
           2,
           0,
           2,
           2,
           2,
           0,
           2,
           1,
           1,
           2,
           2,
           1,
           1,
           1,
           1,
           2,
           2,
           1,
           1,
           2,
           1,
           1,
           2,
           2,
           1,
           0,
           0,
           0,
           1,
           0,
           2,
           1,
           1,
           1,
           1,
           0,
           0,
           2,
           1,
           1,
           0,
           0,
           1,
           2,
           0,
           0,
           0,
           1,
           1,
           2,
           2,
           0,
           2,
           0,
           0,
           2,
           2,
           2,
           1,
           1,
           1,
           1,
           0,
           2,
           2,
           1,
           1,
           0,
           2,
           0,
           2,
           1,
           0,
           0,
           1,
           0,
           2,
           2,
           1,
           0,
           2,
           2,
           1,
           2,
           2,
           1,
           1,
           0,
           1,
           0,
           2,
           0,
           1,
           1,
           1,
           1,
           2,
           0,
           2,
           1,
           0,
           0,
           0,
           2,
           2,
           1,
           0,
           0,
           1,
           2,
           2,
           2,
           0,
           0,
           0,
           1,
           0,
           2,
           0,
           1,
           0,
           1,
           1,
           1,
           2,
           2,
           1,
           0,
           2,
           0,
           0,
           2,
           1,
           2,
           0,
           0,
           2,
           2,
           1,
           2,
           1,
           0,
           2,
           2,
           2,
           2,
           2,
           2,
           0,
           1,
           2,
           2,
           2,
           2,
           1,
           0,
           1,
           2,
           2,
           1,
           0,
           1,
           1,
           0,
           2,
           2,
           0,
           0,
           1,
           1,
           2,
           2,
           0,
           0,
           1,
           2,
           1,
           2,
           2,
           2,
           2,
           1,
           2,
           1,
           2,
           0,
           1,
           1,
           1,
           0,
           2,
           2,
           2,
           2,
           1,
           0,
           0,
           2,
           2,
           2,
           0,
           0,
           0,
           2,
           2,
           2,
           2,
           1,
           0,
           0,
           0,
           0,
           2,
           2,
           0,
           2,
           1,
           2,
           2,
           0,
           1,
           1,
           1,
           0,
           2,
           2,
           2,
           0,
           1,
           0,
           0,
           2,
           2,
           1,
           1,
           0,
           0,
           0,
           2,
           2,
           2,
           0,
           2,
           1,
           1,
           2,
           2,
           1,
           1,
           1,
           0,
           0,
           2,
           1,
           1,
           1,
           1,
           1,
           2,
           2,
           0,
           1,
           0,
           1,
           1,
           2,
           2,
           2,
           0,
           0,
           1,
           1,
           0,
           1,
           1,
           0,
           1,
           0,
           2,
           1,
           1,
           1,
           0,
           0,
           0,
           2,
           2,
           2,
           2,
           2,
           2,
           2,
           2,
           2,
           2,
           2,
           0,
           2,
           2,
           2,
           2,
           2,
           2,
           2,
           2,
           2,
           2,
           2,
           1,
           2,
           0,
           1,
           1,
           2,
           2,
           2,
           2,
           1,
           1,
           1,
           1,
           0,
           0,
           1,
           2,
           2,
           0,
           2,
           2,
           2,
           0
          ],
          "colorscale": [
           [
            0,
            "rgb(102,194,165)"
           ],
           [
            0.5,
            "rgb(252,141,98)"
           ],
           [
            1,
            "rgb(141,160,203)"
           ]
          ]
         },
         "type": "parcats"
        }
       ],
       "layout": {
        "height": 600,
        "template": {
         "data": {
          "bar": [
           {
            "error_x": {
             "color": "#2a3f5f"
            },
            "error_y": {
             "color": "#2a3f5f"
            },
            "marker": {
             "line": {
              "color": "#E5ECF6",
              "width": 0.5
             },
             "pattern": {
              "fillmode": "overlay",
              "size": 10,
              "solidity": 0.2
             }
            },
            "type": "bar"
           }
          ],
          "barpolar": [
           {
            "marker": {
             "line": {
              "color": "#E5ECF6",
              "width": 0.5
             },
             "pattern": {
              "fillmode": "overlay",
              "size": 10,
              "solidity": 0.2
             }
            },
            "type": "barpolar"
           }
          ],
          "carpet": [
           {
            "aaxis": {
             "endlinecolor": "#2a3f5f",
             "gridcolor": "white",
             "linecolor": "white",
             "minorgridcolor": "white",
             "startlinecolor": "#2a3f5f"
            },
            "baxis": {
             "endlinecolor": "#2a3f5f",
             "gridcolor": "white",
             "linecolor": "white",
             "minorgridcolor": "white",
             "startlinecolor": "#2a3f5f"
            },
            "type": "carpet"
           }
          ],
          "choropleth": [
           {
            "colorbar": {
             "outlinewidth": 0,
             "ticks": ""
            },
            "type": "choropleth"
           }
          ],
          "contour": [
           {
            "colorbar": {
             "outlinewidth": 0,
             "ticks": ""
            },
            "colorscale": [
             [
              0,
              "#0d0887"
             ],
             [
              0.1111111111111111,
              "#46039f"
             ],
             [
              0.2222222222222222,
              "#7201a8"
             ],
             [
              0.3333333333333333,
              "#9c179e"
             ],
             [
              0.4444444444444444,
              "#bd3786"
             ],
             [
              0.5555555555555556,
              "#d8576b"
             ],
             [
              0.6666666666666666,
              "#ed7953"
             ],
             [
              0.7777777777777778,
              "#fb9f3a"
             ],
             [
              0.8888888888888888,
              "#fdca26"
             ],
             [
              1,
              "#f0f921"
             ]
            ],
            "type": "contour"
           }
          ],
          "contourcarpet": [
           {
            "colorbar": {
             "outlinewidth": 0,
             "ticks": ""
            },
            "type": "contourcarpet"
           }
          ],
          "heatmap": [
           {
            "colorbar": {
             "outlinewidth": 0,
             "ticks": ""
            },
            "colorscale": [
             [
              0,
              "#0d0887"
             ],
             [
              0.1111111111111111,
              "#46039f"
             ],
             [
              0.2222222222222222,
              "#7201a8"
             ],
             [
              0.3333333333333333,
              "#9c179e"
             ],
             [
              0.4444444444444444,
              "#bd3786"
             ],
             [
              0.5555555555555556,
              "#d8576b"
             ],
             [
              0.6666666666666666,
              "#ed7953"
             ],
             [
              0.7777777777777778,
              "#fb9f3a"
             ],
             [
              0.8888888888888888,
              "#fdca26"
             ],
             [
              1,
              "#f0f921"
             ]
            ],
            "type": "heatmap"
           }
          ],
          "heatmapgl": [
           {
            "colorbar": {
             "outlinewidth": 0,
             "ticks": ""
            },
            "colorscale": [
             [
              0,
              "#0d0887"
             ],
             [
              0.1111111111111111,
              "#46039f"
             ],
             [
              0.2222222222222222,
              "#7201a8"
             ],
             [
              0.3333333333333333,
              "#9c179e"
             ],
             [
              0.4444444444444444,
              "#bd3786"
             ],
             [
              0.5555555555555556,
              "#d8576b"
             ],
             [
              0.6666666666666666,
              "#ed7953"
             ],
             [
              0.7777777777777778,
              "#fb9f3a"
             ],
             [
              0.8888888888888888,
              "#fdca26"
             ],
             [
              1,
              "#f0f921"
             ]
            ],
            "type": "heatmapgl"
           }
          ],
          "histogram": [
           {
            "marker": {
             "pattern": {
              "fillmode": "overlay",
              "size": 10,
              "solidity": 0.2
             }
            },
            "type": "histogram"
           }
          ],
          "histogram2d": [
           {
            "colorbar": {
             "outlinewidth": 0,
             "ticks": ""
            },
            "colorscale": [
             [
              0,
              "#0d0887"
             ],
             [
              0.1111111111111111,
              "#46039f"
             ],
             [
              0.2222222222222222,
              "#7201a8"
             ],
             [
              0.3333333333333333,
              "#9c179e"
             ],
             [
              0.4444444444444444,
              "#bd3786"
             ],
             [
              0.5555555555555556,
              "#d8576b"
             ],
             [
              0.6666666666666666,
              "#ed7953"
             ],
             [
              0.7777777777777778,
              "#fb9f3a"
             ],
             [
              0.8888888888888888,
              "#fdca26"
             ],
             [
              1,
              "#f0f921"
             ]
            ],
            "type": "histogram2d"
           }
          ],
          "histogram2dcontour": [
           {
            "colorbar": {
             "outlinewidth": 0,
             "ticks": ""
            },
            "colorscale": [
             [
              0,
              "#0d0887"
             ],
             [
              0.1111111111111111,
              "#46039f"
             ],
             [
              0.2222222222222222,
              "#7201a8"
             ],
             [
              0.3333333333333333,
              "#9c179e"
             ],
             [
              0.4444444444444444,
              "#bd3786"
             ],
             [
              0.5555555555555556,
              "#d8576b"
             ],
             [
              0.6666666666666666,
              "#ed7953"
             ],
             [
              0.7777777777777778,
              "#fb9f3a"
             ],
             [
              0.8888888888888888,
              "#fdca26"
             ],
             [
              1,
              "#f0f921"
             ]
            ],
            "type": "histogram2dcontour"
           }
          ],
          "mesh3d": [
           {
            "colorbar": {
             "outlinewidth": 0,
             "ticks": ""
            },
            "type": "mesh3d"
           }
          ],
          "parcoords": [
           {
            "line": {
             "colorbar": {
              "outlinewidth": 0,
              "ticks": ""
             }
            },
            "type": "parcoords"
           }
          ],
          "pie": [
           {
            "automargin": true,
            "type": "pie"
           }
          ],
          "scatter": [
           {
            "fillpattern": {
             "fillmode": "overlay",
             "size": 10,
             "solidity": 0.2
            },
            "type": "scatter"
           }
          ],
          "scatter3d": [
           {
            "line": {
             "colorbar": {
              "outlinewidth": 0,
              "ticks": ""
             }
            },
            "marker": {
             "colorbar": {
              "outlinewidth": 0,
              "ticks": ""
             }
            },
            "type": "scatter3d"
           }
          ],
          "scattercarpet": [
           {
            "marker": {
             "colorbar": {
              "outlinewidth": 0,
              "ticks": ""
             }
            },
            "type": "scattercarpet"
           }
          ],
          "scattergeo": [
           {
            "marker": {
             "colorbar": {
              "outlinewidth": 0,
              "ticks": ""
             }
            },
            "type": "scattergeo"
           }
          ],
          "scattergl": [
           {
            "marker": {
             "colorbar": {
              "outlinewidth": 0,
              "ticks": ""
             }
            },
            "type": "scattergl"
           }
          ],
          "scattermapbox": [
           {
            "marker": {
             "colorbar": {
              "outlinewidth": 0,
              "ticks": ""
             }
            },
            "type": "scattermapbox"
           }
          ],
          "scatterpolar": [
           {
            "marker": {
             "colorbar": {
              "outlinewidth": 0,
              "ticks": ""
             }
            },
            "type": "scatterpolar"
           }
          ],
          "scatterpolargl": [
           {
            "marker": {
             "colorbar": {
              "outlinewidth": 0,
              "ticks": ""
             }
            },
            "type": "scatterpolargl"
           }
          ],
          "scatterternary": [
           {
            "marker": {
             "colorbar": {
              "outlinewidth": 0,
              "ticks": ""
             }
            },
            "type": "scatterternary"
           }
          ],
          "surface": [
           {
            "colorbar": {
             "outlinewidth": 0,
             "ticks": ""
            },
            "colorscale": [
             [
              0,
              "#0d0887"
             ],
             [
              0.1111111111111111,
              "#46039f"
             ],
             [
              0.2222222222222222,
              "#7201a8"
             ],
             [
              0.3333333333333333,
              "#9c179e"
             ],
             [
              0.4444444444444444,
              "#bd3786"
             ],
             [
              0.5555555555555556,
              "#d8576b"
             ],
             [
              0.6666666666666666,
              "#ed7953"
             ],
             [
              0.7777777777777778,
              "#fb9f3a"
             ],
             [
              0.8888888888888888,
              "#fdca26"
             ],
             [
              1,
              "#f0f921"
             ]
            ],
            "type": "surface"
           }
          ],
          "table": [
           {
            "cells": {
             "fill": {
              "color": "#EBF0F8"
             },
             "line": {
              "color": "white"
             }
            },
            "header": {
             "fill": {
              "color": "#C8D4E3"
             },
             "line": {
              "color": "white"
             }
            },
            "type": "table"
           }
          ]
         },
         "layout": {
          "annotationdefaults": {
           "arrowcolor": "#2a3f5f",
           "arrowhead": 0,
           "arrowwidth": 1
          },
          "autotypenumbers": "strict",
          "coloraxis": {
           "colorbar": {
            "outlinewidth": 0,
            "ticks": ""
           }
          },
          "colorscale": {
           "diverging": [
            [
             0,
             "#8e0152"
            ],
            [
             0.1,
             "#c51b7d"
            ],
            [
             0.2,
             "#de77ae"
            ],
            [
             0.3,
             "#f1b6da"
            ],
            [
             0.4,
             "#fde0ef"
            ],
            [
             0.5,
             "#f7f7f7"
            ],
            [
             0.6,
             "#e6f5d0"
            ],
            [
             0.7,
             "#b8e186"
            ],
            [
             0.8,
             "#7fbc41"
            ],
            [
             0.9,
             "#4d9221"
            ],
            [
             1,
             "#276419"
            ]
           ],
           "sequential": [
            [
             0,
             "#0d0887"
            ],
            [
             0.1111111111111111,
             "#46039f"
            ],
            [
             0.2222222222222222,
             "#7201a8"
            ],
            [
             0.3333333333333333,
             "#9c179e"
            ],
            [
             0.4444444444444444,
             "#bd3786"
            ],
            [
             0.5555555555555556,
             "#d8576b"
            ],
            [
             0.6666666666666666,
             "#ed7953"
            ],
            [
             0.7777777777777778,
             "#fb9f3a"
            ],
            [
             0.8888888888888888,
             "#fdca26"
            ],
            [
             1,
             "#f0f921"
            ]
           ],
           "sequentialminus": [
            [
             0,
             "#0d0887"
            ],
            [
             0.1111111111111111,
             "#46039f"
            ],
            [
             0.2222222222222222,
             "#7201a8"
            ],
            [
             0.3333333333333333,
             "#9c179e"
            ],
            [
             0.4444444444444444,
             "#bd3786"
            ],
            [
             0.5555555555555556,
             "#d8576b"
            ],
            [
             0.6666666666666666,
             "#ed7953"
            ],
            [
             0.7777777777777778,
             "#fb9f3a"
            ],
            [
             0.8888888888888888,
             "#fdca26"
            ],
            [
             1,
             "#f0f921"
            ]
           ]
          },
          "colorway": [
           "#636efa",
           "#EF553B",
           "#00cc96",
           "#ab63fa",
           "#FFA15A",
           "#19d3f3",
           "#FF6692",
           "#B6E880",
           "#FF97FF",
           "#FECB52"
          ],
          "font": {
           "color": "#2a3f5f"
          },
          "geo": {
           "bgcolor": "white",
           "lakecolor": "white",
           "landcolor": "#E5ECF6",
           "showlakes": true,
           "showland": true,
           "subunitcolor": "white"
          },
          "hoverlabel": {
           "align": "left"
          },
          "hovermode": "closest",
          "mapbox": {
           "style": "light"
          },
          "paper_bgcolor": "white",
          "plot_bgcolor": "#E5ECF6",
          "polar": {
           "angularaxis": {
            "gridcolor": "white",
            "linecolor": "white",
            "ticks": ""
           },
           "bgcolor": "#E5ECF6",
           "radialaxis": {
            "gridcolor": "white",
            "linecolor": "white",
            "ticks": ""
           }
          },
          "scene": {
           "xaxis": {
            "backgroundcolor": "#E5ECF6",
            "gridcolor": "white",
            "gridwidth": 2,
            "linecolor": "white",
            "showbackground": true,
            "ticks": "",
            "zerolinecolor": "white"
           },
           "yaxis": {
            "backgroundcolor": "#E5ECF6",
            "gridcolor": "white",
            "gridwidth": 2,
            "linecolor": "white",
            "showbackground": true,
            "ticks": "",
            "zerolinecolor": "white"
           },
           "zaxis": {
            "backgroundcolor": "#E5ECF6",
            "gridcolor": "white",
            "gridwidth": 2,
            "linecolor": "white",
            "showbackground": true,
            "ticks": "",
            "zerolinecolor": "white"
           }
          },
          "shapedefaults": {
           "line": {
            "color": "#2a3f5f"
           }
          },
          "ternary": {
           "aaxis": {
            "gridcolor": "white",
            "linecolor": "white",
            "ticks": ""
           },
           "baxis": {
            "gridcolor": "white",
            "linecolor": "white",
            "ticks": ""
           },
           "bgcolor": "#E5ECF6",
           "caxis": {
            "gridcolor": "white",
            "linecolor": "white",
            "ticks": ""
           }
          },
          "title": {
           "x": 0.05
          },
          "xaxis": {
           "automargin": true,
           "gridcolor": "white",
           "linecolor": "white",
           "ticks": "",
           "title": {
            "standoff": 15
           },
           "zerolinecolor": "white",
           "zerolinewidth": 2
          },
          "yaxis": {
           "automargin": true,
           "gridcolor": "white",
           "linecolor": "white",
           "ticks": "",
           "title": {
            "standoff": 15
           },
           "zerolinecolor": "white",
           "zerolinewidth": 2
          }
         }
        },
        "title": {
         "text": "Number of Accidents in Different Weather"
        }
       }
      }
     },
     "metadata": {},
     "output_type": "display_data"
    }
   ],
   "source": [
    "import pandas as pd\n",
    "import plotly.graph_objects as go\n",
    "import plotly.express as px\n",
    "\n",
    "# datasets importen\n",
    "df = pd.read_csv('../resources/dataset_weather/weather_accidents.csv')\n",
    "\n",
    "# Filter the df to detroit\n",
    "df_detroit = df[df['City'] == 'Detroit']\n",
    "\n",
    "# Drop irralevant columns\n",
    "df_detroit = df_detroit.drop(columns=['Severity', 'City'])\n",
    "\n",
    "# Count the entries per day\n",
    "accident_count = df_detroit['Date'].value_counts().sort_index()\n",
    "\n",
    "# Merge count with df\n",
    "df_detroit_count = pd.merge(df_detroit, accident_count, left_on=['Date'], right_on=[accident_count.index])\n",
    "\n",
    "# Group dataframe by date\n",
    "df_detroit_count = df_detroit_count.groupby('Date').mean()\n",
    "df_detroit_count = df_detroit_count.reset_index()\n",
    "\n",
    "# Converting the the dates to the names of the month\n",
    "df_detroit_count['Date'] = pd.to_datetime(df_detroit_count['Date'])\n",
    "df_detroit_count['Date'] = df_detroit_count['Date'].dt.month_name()\n",
    "\n",
    "# Binning so the plot will show nice catagories\n",
    "df_detroit_count['Temp_bins'] = pd.cut(df_detroit_count['Temperature'], [0,275,1000], labels=['Freezing', 'Not Freezing'])\n",
    "df_detroit_count['Humidity_bins'] = pd.qcut(df_detroit_count['Humidity'], q=3, labels=['Low','Medium','High'])\n",
    "df_detroit_count['Wind_Speed_bins'] = pd.qcut(df_detroit_count['Wind_Speed_km'], q=3, labels=['Low','Medium','High'])\n",
    "df_detroit_count['count_bins'] = pd.qcut(df_detroit_count['count'], q=3, labels=['Low','Medium','High'])\n",
    "\n",
    "\n",
    "# Creating the dimensions for the plot\n",
    "dimensions=[\n",
    "    {'label': 'Month', 'values': df_detroit_count['Date']},\n",
    "    {'label': 'Temperature', 'values': df_detroit_count['Temp_bins'], 'categoryarray': ['Not Freezing', 'Freezing'] ,\"categoryorder\": \"array\"},\n",
    "    {'label': 'Humidity', 'values': df_detroit_count['Humidity_bins'], 'categoryarray': ['High','Medium', 'Low'] ,\"categoryorder\": \"array\"},\n",
    "    {'label': 'Wind Speed', 'values': df_detroit_count['Wind_Speed_bins'], 'categoryarray': ['High','Medium', 'Low'] ,\"categoryorder\": \"array\"},\n",
    "    {'label': 'Number of Accidents', 'values': df_detroit_count['count_bins'], 'categoryarray': ['High','Medium', 'Low'] ,\"categoryorder\": \"array\"}\n",
    "]\n",
    "\n",
    "color_values = dimensions[-1]['values']\n",
    "unique_values = list(set(color_values))\n",
    "color_map = {value: idx for idx, value in enumerate(unique_values)}\n",
    "color_scale = ['rgb(102,194,165)', 'rgb(252,141,98)', 'rgb(141,160,203)']\n",
    "\n",
    "# Map the color values to the color indices\n",
    "line_colors = [color_map[value] for value in color_values]\n",
    "\n",
    "\n",
    "# Create the parcats chart\n",
    "fig = go.Figure(data = [go.Parcats(\n",
    "    dimensions=dimensions,\n",
    "    line={'color': line_colors, 'colorscale': color_scale}\n",
    ")])\n",
    "fig.update_layout(\n",
    "    title='Number of Accidents in Different Weather',\n",
    "    height=600)\n",
    "\n",
    "# Show the diagram\n",
    "fig.show()"
   ]
  },
  {
   "cell_type": "markdown",
   "metadata": {},
   "source": [
    "### Number of accidents and Weather scores\n",
    "The two Bubble Maps are meant to put the correlation between our weather-score, and the amount of accidents in a city, into perspective. In the final version we want to make this 1 big plot instead of two smaller ones, but we ran out of time. We will also look into other variables that might have an effect on the er of accidents(like the total amount of roads in an area)."
   ]
  },
  {
   "cell_type": "code",
   "execution_count": 2,
   "metadata": {},
   "outputs": [],
   "source": [
    "# from matplotlib import scale\n",
    "# import pandas as pd\n",
    "# import plotly.graph_objects as go\n",
    "\n",
    "# df = pd.read_csv('../resources/BubbleMapData.csv')\n",
    "# groottes = [(0, 5), (5, 50), (50, 500), (500, 5000), (5000, 500000)]\n",
    "# colors = [\"Black\", \"Yellow\", \"Red\", \"Green\", \"Blue\"]\n",
    "\n",
    "# scale = 0.01\n",
    "\n",
    "# fig = go.Figure()\n",
    "\n",
    "# for i in range(len(groottes)):\n",
    "#     lim = groottes[i]\n",
    "#     df_sub = df[(df['ongelukken'] >= lim[0]) & (df['ongelukken'] < lim[1])]\n",
    "#     fig.add_trace(go.Scattergeo(\n",
    "#         locationmode='USA-states',\n",
    "#         lon=df_sub['lng'],\n",
    "#         lat=df_sub['lat'],\n",
    "#         text=df_sub['City'] + ': ' + df_sub['ongelukken'].astype(str) + ' ongelukken',\n",
    "#         mode='markers',\n",
    "#         marker=dict(\n",
    "#             size=df_sub['ongelukken'] * scale,\n",
    "#             color=colors[i],\n",
    "#             line_color='rgb(40,40,40)',\n",
    "#             line_width=0.5,\n",
    "#             sizemode='area'\n",
    "#         ),\n",
    "#         name=f'{lim[0]} - {lim[1]} accidents'\n",
    "#     ))\n",
    "\n",
    "# fig.update_layout(\n",
    "#     title_text='Number of accidents in the VS for each city',\n",
    "#     showlegend=True,\n",
    "#     geo=dict(\n",
    "#         scope='usa',\n",
    "#         landcolor='rgb(217, 217, 217)',\n",
    "#     )\n",
    "# )\n",
    "\n",
    "# fig.show()"
   ]
  },
  {
   "cell_type": "code",
   "execution_count": 3,
   "metadata": {},
   "outputs": [],
   "source": [
    "# from matplotlib import scale\n",
    "# import pandas as pd\n",
    "# import plotly.express as px\n",
    "# import plotly.graph_objects as go\n",
    "\n",
    "# df = pd.read_csv('../resources/dataset_weather/WeatherBubbleData.csv')\n",
    "\n",
    "# grootte = [(0,0.30),(0.30,0.35),(0.35,0.40),(0.40,0.45),(0.45,0.50),(0.50,1)]\n",
    "# color_scale = px.colors.diverging.Tealrose\n",
    "\n",
    "# def assign_size(score):\n",
    "#     for i, (min_range, max_range) in enumerate(grootte):\n",
    "#         if min_range <= score < max_range:\n",
    "#             return (i + 1) * 5 \n",
    "#     return 5 \n",
    "\n",
    "\n",
    "# hover_text = []\n",
    "# for index, row in df.iterrows():\n",
    "#     hover_text.append(f\"City: {row['city']}<br>Score: {row['score']}\")\n",
    "\n",
    "\n",
    "# fig = go.Figure()\n",
    "\n",
    "# fig.add_trace(go.Scattergeo(\n",
    "#     locationmode='USA-states',\n",
    "#     lon=df['lng'],\n",
    "#     lat=df['lat'],\n",
    "#     mode='markers',\n",
    "#     marker=dict(\n",
    "#         size=[assign_size(score) for score in df['score']],\n",
    "#         color=df['score'],\n",
    "#         colorscale=color_scale,  \n",
    "#         colorbar=dict(title='Weather Score'),  \n",
    "#         line_color='rgb(40, 40, 40)',\n",
    "#         line_width=0.5,\n",
    "#         sizemode='diameter', \n",
    "#         opacity=0.8\n",
    "#     ),\n",
    "#     text=hover_text,  \n",
    "#     hoverinfo='text',  \n",
    "# ))\n",
    "\n",
    "# fig.update_layout(\n",
    "#     title='Weather scores for the big American cities',\n",
    "#     geo=dict(\n",
    "#         scope='usa',\n",
    "#         landcolor='rgb(217, 217, 217)',\n",
    "#     )\n",
    "# )\n",
    "\n",
    "\n",
    "# fig.show()"
   ]
  },
  {
   "cell_type": "markdown",
   "metadata": {},
   "source": [
    "### Effect of freezing \n",
    "\n",
    "When analysing this graph, some noticable features are the amount of accidents per datapoint rather than it being spread out evenly. This is because the only datapoints in the graphed dataset are days with freezing temperatures the datapoints are only of one state so the data is lower than graph beforementioned graph with all cities combined. "
   ]
  },
  {
   "cell_type": "code",
   "execution_count": 4,
   "metadata": {
    "tags": [
     "hide-input"
    ]
   },
   "outputs": [
    {
     "name": "stderr",
     "output_type": "stream",
     "text": [
      "/var/folders/5r/4dlwcpf56d76tctrcxgmk99w0000gn/T/ipykernel_61382/585873166.py:6: UserWarning:\n",
      "\n",
      "Could not infer format, so each element will be parsed individually, falling back to `dateutil`. To ensure parsing is consistent and as-expected, please specify a format.\n",
      "\n"
     ]
    },
    {
     "data": {
      "application/vnd.plotly.v1+json": {
       "config": {
        "plotlyServerURL": "https://plot.ly"
       },
       "data": [
        {
         "alignmentgroup": "True",
         "hovertemplate": "Date=%{x}<br>Number of Accidents=%{y}<extra></extra>",
         "legendgroup": "",
         "marker": {
          "color": "#636efa",
          "pattern": {
           "shape": ""
          }
         },
         "name": "",
         "offsetgroup": "",
         "orientation": "v",
         "showlegend": false,
         "textposition": "auto",
         "type": "bar",
         "x": [
          "2016-02-13",
          "2016-02-14",
          "2016-02-15",
          "2016-02-18",
          "2016-02-26",
          "2016-03-03",
          "2016-03-04",
          "2016-03-21",
          "2016-04-01",
          "2016-05-01",
          "2016-05-02",
          "2016-05-03",
          "2016-05-12",
          "2016-06-01",
          "2016-06-02",
          "2016-06-04",
          "2016-07-01",
          "2016-07-12",
          "2016-08-01",
          "2016-08-02",
          "2016-08-10",
          "2016-08-12",
          "2016-09-01",
          "2016-09-02",
          "2016-09-12",
          "2016-10-01",
          "2016-10-02",
          "2016-10-04",
          "2016-10-12",
          "2016-10-20",
          "2016-11-01",
          "2016-11-02",
          "2016-11-12",
          "2016-11-14",
          "2016-11-18",
          "2016-11-21",
          "2016-11-22",
          "2016-11-23",
          "2016-11-24",
          "2016-11-25",
          "2016-11-29",
          "2016-11-30",
          "2016-12-01",
          "2016-12-02",
          "2016-12-11",
          "2016-12-12",
          "2016-12-13",
          "2016-12-14",
          "2016-12-15",
          "2016-12-16",
          "2016-12-17",
          "2016-12-18",
          "2016-12-19",
          "2016-12-20",
          "2016-12-21",
          "2016-12-23",
          "2016-12-26",
          "2016-12-27",
          "2016-12-28",
          "2016-12-29",
          "2016-12-30",
          "2016-12-31",
          "2017-01-02",
          "2017-01-03",
          "2017-01-04",
          "2017-01-13",
          "2017-01-14",
          "2017-01-15",
          "2017-01-16",
          "2017-01-18",
          "2017-01-24",
          "2017-01-25",
          "2017-01-26",
          "2017-01-27",
          "2017-01-28",
          "2017-01-29",
          "2017-01-30",
          "2017-01-31",
          "2017-02-01",
          "2017-02-02",
          "2017-02-03",
          "2017-02-13",
          "2017-02-14",
          "2017-02-15",
          "2017-02-16",
          "2017-02-17",
          "2017-02-18",
          "2017-02-20",
          "2017-02-24",
          "2017-02-26",
          "2017-02-27",
          "2017-03-01",
          "2017-03-02",
          "2017-03-03",
          "2017-03-13",
          "2017-03-14",
          "2017-03-15",
          "2017-03-16",
          "2017-03-17",
          "2017-03-22",
          "2017-03-23",
          "2017-03-24",
          "2017-04-01",
          "2017-04-02",
          "2017-04-03",
          "2017-05-01",
          "2017-05-02",
          "2017-05-03",
          "2017-06-01",
          "2017-06-02",
          "2017-06-03",
          "2017-07-01",
          "2017-07-11",
          "2017-08-01",
          "2017-09-01",
          "2017-09-02",
          "2017-10-01",
          "2017-10-02",
          "2017-10-03",
          "2017-10-11",
          "2017-10-27",
          "2017-11-02",
          "2017-11-03",
          "2017-11-11",
          "2017-11-15",
          "2017-11-20",
          "2017-11-22",
          "2017-11-23",
          "2017-11-24",
          "2017-11-28",
          "2017-11-29",
          "2017-12-01",
          "2017-12-02",
          "2017-12-03",
          "2017-12-11"
         ],
         "xaxis": "x",
         "y": [
          48,
          24,
          32,
          15,
          16,
          13,
          6,
          1,
          12,
          59,
          4,
          3,
          4,
          121,
          74,
          12,
          165,
          192,
          103,
          56,
          6,
          176,
          100,
          122,
          295,
          56,
          226,
          216,
          1085,
          12,
          1337,
          1309,
          90,
          9,
          99,
          74,
          165,
          66,
          40,
          5,
          8,
          48,
          1385,
          720,
          3,
          18,
          235,
          658,
          1091,
          1997,
          542,
          247,
          902,
          1012,
          678,
          35,
          19,
          39,
          35,
          36,
          7,
          22,
          13,
          22,
          9,
          726,
          159,
          56,
          465,
          40,
          86,
          81,
          17,
          51,
          18,
          41,
          543,
          487,
          62,
          408,
          46,
          5,
          200,
          96,
          437,
          616,
          24,
          3,
          72,
          63,
          11,
          246,
          670,
          205,
          909,
          420,
          720,
          949,
          288,
          60,
          266,
          15,
          102,
          268,
          378,
          958,
          30,
          612,
          972,
          141,
          40,
          348,
          1,
          4383,
          3605,
          163,
          164,
          1329,
          45,
          486,
          168,
          48,
          305,
          55,
          19,
          175,
          152,
          15,
          12,
          36,
          8,
          449,
          16,
          277,
          9
         ],
         "yaxis": "y"
        }
       ],
       "layout": {
        "barmode": "relative",
        "legend": {
         "tracegroupgap": 0
        },
        "template": {
         "data": {
          "bar": [
           {
            "error_x": {
             "color": "#2a3f5f"
            },
            "error_y": {
             "color": "#2a3f5f"
            },
            "marker": {
             "line": {
              "color": "#E5ECF6",
              "width": 0.5
             },
             "pattern": {
              "fillmode": "overlay",
              "size": 10,
              "solidity": 0.2
             }
            },
            "type": "bar"
           }
          ],
          "barpolar": [
           {
            "marker": {
             "line": {
              "color": "#E5ECF6",
              "width": 0.5
             },
             "pattern": {
              "fillmode": "overlay",
              "size": 10,
              "solidity": 0.2
             }
            },
            "type": "barpolar"
           }
          ],
          "carpet": [
           {
            "aaxis": {
             "endlinecolor": "#2a3f5f",
             "gridcolor": "white",
             "linecolor": "white",
             "minorgridcolor": "white",
             "startlinecolor": "#2a3f5f"
            },
            "baxis": {
             "endlinecolor": "#2a3f5f",
             "gridcolor": "white",
             "linecolor": "white",
             "minorgridcolor": "white",
             "startlinecolor": "#2a3f5f"
            },
            "type": "carpet"
           }
          ],
          "choropleth": [
           {
            "colorbar": {
             "outlinewidth": 0,
             "ticks": ""
            },
            "type": "choropleth"
           }
          ],
          "contour": [
           {
            "colorbar": {
             "outlinewidth": 0,
             "ticks": ""
            },
            "colorscale": [
             [
              0,
              "#0d0887"
             ],
             [
              0.1111111111111111,
              "#46039f"
             ],
             [
              0.2222222222222222,
              "#7201a8"
             ],
             [
              0.3333333333333333,
              "#9c179e"
             ],
             [
              0.4444444444444444,
              "#bd3786"
             ],
             [
              0.5555555555555556,
              "#d8576b"
             ],
             [
              0.6666666666666666,
              "#ed7953"
             ],
             [
              0.7777777777777778,
              "#fb9f3a"
             ],
             [
              0.8888888888888888,
              "#fdca26"
             ],
             [
              1,
              "#f0f921"
             ]
            ],
            "type": "contour"
           }
          ],
          "contourcarpet": [
           {
            "colorbar": {
             "outlinewidth": 0,
             "ticks": ""
            },
            "type": "contourcarpet"
           }
          ],
          "heatmap": [
           {
            "colorbar": {
             "outlinewidth": 0,
             "ticks": ""
            },
            "colorscale": [
             [
              0,
              "#0d0887"
             ],
             [
              0.1111111111111111,
              "#46039f"
             ],
             [
              0.2222222222222222,
              "#7201a8"
             ],
             [
              0.3333333333333333,
              "#9c179e"
             ],
             [
              0.4444444444444444,
              "#bd3786"
             ],
             [
              0.5555555555555556,
              "#d8576b"
             ],
             [
              0.6666666666666666,
              "#ed7953"
             ],
             [
              0.7777777777777778,
              "#fb9f3a"
             ],
             [
              0.8888888888888888,
              "#fdca26"
             ],
             [
              1,
              "#f0f921"
             ]
            ],
            "type": "heatmap"
           }
          ],
          "heatmapgl": [
           {
            "colorbar": {
             "outlinewidth": 0,
             "ticks": ""
            },
            "colorscale": [
             [
              0,
              "#0d0887"
             ],
             [
              0.1111111111111111,
              "#46039f"
             ],
             [
              0.2222222222222222,
              "#7201a8"
             ],
             [
              0.3333333333333333,
              "#9c179e"
             ],
             [
              0.4444444444444444,
              "#bd3786"
             ],
             [
              0.5555555555555556,
              "#d8576b"
             ],
             [
              0.6666666666666666,
              "#ed7953"
             ],
             [
              0.7777777777777778,
              "#fb9f3a"
             ],
             [
              0.8888888888888888,
              "#fdca26"
             ],
             [
              1,
              "#f0f921"
             ]
            ],
            "type": "heatmapgl"
           }
          ],
          "histogram": [
           {
            "marker": {
             "pattern": {
              "fillmode": "overlay",
              "size": 10,
              "solidity": 0.2
             }
            },
            "type": "histogram"
           }
          ],
          "histogram2d": [
           {
            "colorbar": {
             "outlinewidth": 0,
             "ticks": ""
            },
            "colorscale": [
             [
              0,
              "#0d0887"
             ],
             [
              0.1111111111111111,
              "#46039f"
             ],
             [
              0.2222222222222222,
              "#7201a8"
             ],
             [
              0.3333333333333333,
              "#9c179e"
             ],
             [
              0.4444444444444444,
              "#bd3786"
             ],
             [
              0.5555555555555556,
              "#d8576b"
             ],
             [
              0.6666666666666666,
              "#ed7953"
             ],
             [
              0.7777777777777778,
              "#fb9f3a"
             ],
             [
              0.8888888888888888,
              "#fdca26"
             ],
             [
              1,
              "#f0f921"
             ]
            ],
            "type": "histogram2d"
           }
          ],
          "histogram2dcontour": [
           {
            "colorbar": {
             "outlinewidth": 0,
             "ticks": ""
            },
            "colorscale": [
             [
              0,
              "#0d0887"
             ],
             [
              0.1111111111111111,
              "#46039f"
             ],
             [
              0.2222222222222222,
              "#7201a8"
             ],
             [
              0.3333333333333333,
              "#9c179e"
             ],
             [
              0.4444444444444444,
              "#bd3786"
             ],
             [
              0.5555555555555556,
              "#d8576b"
             ],
             [
              0.6666666666666666,
              "#ed7953"
             ],
             [
              0.7777777777777778,
              "#fb9f3a"
             ],
             [
              0.8888888888888888,
              "#fdca26"
             ],
             [
              1,
              "#f0f921"
             ]
            ],
            "type": "histogram2dcontour"
           }
          ],
          "mesh3d": [
           {
            "colorbar": {
             "outlinewidth": 0,
             "ticks": ""
            },
            "type": "mesh3d"
           }
          ],
          "parcoords": [
           {
            "line": {
             "colorbar": {
              "outlinewidth": 0,
              "ticks": ""
             }
            },
            "type": "parcoords"
           }
          ],
          "pie": [
           {
            "automargin": true,
            "type": "pie"
           }
          ],
          "scatter": [
           {
            "fillpattern": {
             "fillmode": "overlay",
             "size": 10,
             "solidity": 0.2
            },
            "type": "scatter"
           }
          ],
          "scatter3d": [
           {
            "line": {
             "colorbar": {
              "outlinewidth": 0,
              "ticks": ""
             }
            },
            "marker": {
             "colorbar": {
              "outlinewidth": 0,
              "ticks": ""
             }
            },
            "type": "scatter3d"
           }
          ],
          "scattercarpet": [
           {
            "marker": {
             "colorbar": {
              "outlinewidth": 0,
              "ticks": ""
             }
            },
            "type": "scattercarpet"
           }
          ],
          "scattergeo": [
           {
            "marker": {
             "colorbar": {
              "outlinewidth": 0,
              "ticks": ""
             }
            },
            "type": "scattergeo"
           }
          ],
          "scattergl": [
           {
            "marker": {
             "colorbar": {
              "outlinewidth": 0,
              "ticks": ""
             }
            },
            "type": "scattergl"
           }
          ],
          "scattermapbox": [
           {
            "marker": {
             "colorbar": {
              "outlinewidth": 0,
              "ticks": ""
             }
            },
            "type": "scattermapbox"
           }
          ],
          "scatterpolar": [
           {
            "marker": {
             "colorbar": {
              "outlinewidth": 0,
              "ticks": ""
             }
            },
            "type": "scatterpolar"
           }
          ],
          "scatterpolargl": [
           {
            "marker": {
             "colorbar": {
              "outlinewidth": 0,
              "ticks": ""
             }
            },
            "type": "scatterpolargl"
           }
          ],
          "scatterternary": [
           {
            "marker": {
             "colorbar": {
              "outlinewidth": 0,
              "ticks": ""
             }
            },
            "type": "scatterternary"
           }
          ],
          "surface": [
           {
            "colorbar": {
             "outlinewidth": 0,
             "ticks": ""
            },
            "colorscale": [
             [
              0,
              "#0d0887"
             ],
             [
              0.1111111111111111,
              "#46039f"
             ],
             [
              0.2222222222222222,
              "#7201a8"
             ],
             [
              0.3333333333333333,
              "#9c179e"
             ],
             [
              0.4444444444444444,
              "#bd3786"
             ],
             [
              0.5555555555555556,
              "#d8576b"
             ],
             [
              0.6666666666666666,
              "#ed7953"
             ],
             [
              0.7777777777777778,
              "#fb9f3a"
             ],
             [
              0.8888888888888888,
              "#fdca26"
             ],
             [
              1,
              "#f0f921"
             ]
            ],
            "type": "surface"
           }
          ],
          "table": [
           {
            "cells": {
             "fill": {
              "color": "#EBF0F8"
             },
             "line": {
              "color": "white"
             }
            },
            "header": {
             "fill": {
              "color": "#C8D4E3"
             },
             "line": {
              "color": "white"
             }
            },
            "type": "table"
           }
          ]
         },
         "layout": {
          "annotationdefaults": {
           "arrowcolor": "#2a3f5f",
           "arrowhead": 0,
           "arrowwidth": 1
          },
          "autotypenumbers": "strict",
          "coloraxis": {
           "colorbar": {
            "outlinewidth": 0,
            "ticks": ""
           }
          },
          "colorscale": {
           "diverging": [
            [
             0,
             "#8e0152"
            ],
            [
             0.1,
             "#c51b7d"
            ],
            [
             0.2,
             "#de77ae"
            ],
            [
             0.3,
             "#f1b6da"
            ],
            [
             0.4,
             "#fde0ef"
            ],
            [
             0.5,
             "#f7f7f7"
            ],
            [
             0.6,
             "#e6f5d0"
            ],
            [
             0.7,
             "#b8e186"
            ],
            [
             0.8,
             "#7fbc41"
            ],
            [
             0.9,
             "#4d9221"
            ],
            [
             1,
             "#276419"
            ]
           ],
           "sequential": [
            [
             0,
             "#0d0887"
            ],
            [
             0.1111111111111111,
             "#46039f"
            ],
            [
             0.2222222222222222,
             "#7201a8"
            ],
            [
             0.3333333333333333,
             "#9c179e"
            ],
            [
             0.4444444444444444,
             "#bd3786"
            ],
            [
             0.5555555555555556,
             "#d8576b"
            ],
            [
             0.6666666666666666,
             "#ed7953"
            ],
            [
             0.7777777777777778,
             "#fb9f3a"
            ],
            [
             0.8888888888888888,
             "#fdca26"
            ],
            [
             1,
             "#f0f921"
            ]
           ],
           "sequentialminus": [
            [
             0,
             "#0d0887"
            ],
            [
             0.1111111111111111,
             "#46039f"
            ],
            [
             0.2222222222222222,
             "#7201a8"
            ],
            [
             0.3333333333333333,
             "#9c179e"
            ],
            [
             0.4444444444444444,
             "#bd3786"
            ],
            [
             0.5555555555555556,
             "#d8576b"
            ],
            [
             0.6666666666666666,
             "#ed7953"
            ],
            [
             0.7777777777777778,
             "#fb9f3a"
            ],
            [
             0.8888888888888888,
             "#fdca26"
            ],
            [
             1,
             "#f0f921"
            ]
           ]
          },
          "colorway": [
           "#636efa",
           "#EF553B",
           "#00cc96",
           "#ab63fa",
           "#FFA15A",
           "#19d3f3",
           "#FF6692",
           "#B6E880",
           "#FF97FF",
           "#FECB52"
          ],
          "font": {
           "color": "#2a3f5f"
          },
          "geo": {
           "bgcolor": "white",
           "lakecolor": "white",
           "landcolor": "#E5ECF6",
           "showlakes": true,
           "showland": true,
           "subunitcolor": "white"
          },
          "hoverlabel": {
           "align": "left"
          },
          "hovermode": "closest",
          "mapbox": {
           "style": "light"
          },
          "paper_bgcolor": "white",
          "plot_bgcolor": "#E5ECF6",
          "polar": {
           "angularaxis": {
            "gridcolor": "white",
            "linecolor": "white",
            "ticks": ""
           },
           "bgcolor": "#E5ECF6",
           "radialaxis": {
            "gridcolor": "white",
            "linecolor": "white",
            "ticks": ""
           }
          },
          "scene": {
           "xaxis": {
            "backgroundcolor": "#E5ECF6",
            "gridcolor": "white",
            "gridwidth": 2,
            "linecolor": "white",
            "showbackground": true,
            "ticks": "",
            "zerolinecolor": "white"
           },
           "yaxis": {
            "backgroundcolor": "#E5ECF6",
            "gridcolor": "white",
            "gridwidth": 2,
            "linecolor": "white",
            "showbackground": true,
            "ticks": "",
            "zerolinecolor": "white"
           },
           "zaxis": {
            "backgroundcolor": "#E5ECF6",
            "gridcolor": "white",
            "gridwidth": 2,
            "linecolor": "white",
            "showbackground": true,
            "ticks": "",
            "zerolinecolor": "white"
           }
          },
          "shapedefaults": {
           "line": {
            "color": "#2a3f5f"
           }
          },
          "ternary": {
           "aaxis": {
            "gridcolor": "white",
            "linecolor": "white",
            "ticks": ""
           },
           "baxis": {
            "gridcolor": "white",
            "linecolor": "white",
            "ticks": ""
           },
           "bgcolor": "#E5ECF6",
           "caxis": {
            "gridcolor": "white",
            "linecolor": "white",
            "ticks": ""
           }
          },
          "title": {
           "x": 0.05
          },
          "xaxis": {
           "automargin": true,
           "gridcolor": "white",
           "linecolor": "white",
           "ticks": "",
           "title": {
            "standoff": 15
           },
           "zerolinecolor": "white",
           "zerolinewidth": 2
          },
          "yaxis": {
           "automargin": true,
           "gridcolor": "white",
           "linecolor": "white",
           "ticks": "",
           "title": {
            "standoff": 15
           },
           "zerolinecolor": "white",
           "zerolinewidth": 2
          }
         }
        },
        "title": {
         "text": "Number of Accidents per Day when Freezing"
        },
        "xaxis": {
         "anchor": "y",
         "domain": [
          0,
          1
         ],
         "tickangle": -90,
         "title": {
          "text": "Date"
         }
        },
        "yaxis": {
         "anchor": "x",
         "domain": [
          0,
          1
         ],
         "title": {
          "text": "Number of Accidents"
         }
        }
       }
      }
     },
     "metadata": {},
     "output_type": "display_data"
    }
   ],
   "source": [
    "temp = pd.read_csv('../resources/dataset_weather/us_temperature.csv')\n",
    "accidents = pd.read_csv('../resources/us_accidents.csv')\n",
    "melted_df = pd.melt(temp, id_vars=['datetime'], var_name='State', value_name='Temperature')\n",
    "\n",
    "melted_df = melted_df[melted_df['Temperature'] < 270]\n",
    "melted_df['datetime'] = pd.to_datetime(melted_df['datetime']).dt.date\n",
    "accidents['Start_Time'] = pd.to_datetime(accidents['Start_Time']).dt.date\n",
    "\n",
    "merged_data = pd.merge(melted_df, accidents,left_on=['datetime', 'State'], right_on=['Start_Time', 'City'], how='inner')\n",
    "\n",
    "date_counts = merged_data['datetime'].value_counts().sort_index()\n",
    "\n",
    "# Create a bar chart with Plotly\n",
    "fig = px.bar(\n",
    "    x=date_counts.index,\n",
    "    y=date_counts.values,\n",
    "    labels={'x': 'Date', 'y': 'Number of Accidents'},\n",
    "    title='Number of Accidents per Day when Freezing'\n",
    ")\n",
    "\n",
    "# Update the layout to improve appearance\n",
    "fig.update_layout(\n",
    "    xaxis_title='Date',\n",
    "    yaxis_title='Number of Accidents',\n",
    "    xaxis_tickangle=-90\n",
    ")\n",
    "\n",
    "# Show the plot\n",
    "fig.show()"
   ]
  },
  {
   "cell_type": "markdown",
   "metadata": {},
   "source": [
    "## The Second Perspective\n",
    "Accidents are not the cause of the weather, but rather the causes of other factors such as the city, the state and the road condition. Weather can contribute, but is a minor factor as most vehicles are built to withstand most weather events. Urban infrastructure, regional traffic laws, and maintenance of roadways play significant roles in accident occurrence. Therefore, addressing these factors is crucial for improving road safety and reducing accidents."
   ]
  },
  {
   "cell_type": "markdown",
   "metadata": {},
   "source": [
    "### Surrounding conditions\n",
    "In the following graph you can see that most accidents take place with no relevant infrastructure such as traffic stops or traffic lighs nearby. It is however notable that aside from the no infrastructure, most accidents take place at junctions or traffic_signs. These are also the places that are most susceptible to human error. We can conclude from this graph that the place where the traffic accident takes place is relevant to the cause of the accidents."
   ]
  },
  {
   "cell_type": "code",
   "execution_count": 5,
   "metadata": {
    "tags": [
     "hide-input"
    ]
   },
   "outputs": [
    {
     "data": {
      "application/vnd.plotly.v1+json": {
       "config": {
        "plotlyServerURL": "https://plot.ly"
       },
       "data": [
        {
         "domain": {
          "x": [
           0,
           1
          ],
          "y": [
           0,
           1
          ]
         },
         "hole": 0.8,
         "hovertemplate": "label=%{label}<br>value=%{value}<extra></extra>",
         "labels": [
          "Other",
          "Other",
          "Crossing",
          "Other",
          "Junction",
          "Other",
          "Other",
          "Other",
          "Station",
          "Stop",
          "Other",
          "Traffic_Signal",
          "Other",
          "No Infrastructure"
         ],
         "legendgroup": "",
         "name": "",
         "showlegend": true,
         "textinfo": "label+percent",
         "textposition": "outside",
         "type": "pie",
         "values": [
          6123,
          104,
          50091,
          2362,
          44275,
          793,
          3845,
          10,
          12319,
          10544,
          338,
          79514,
          0,
          261378
         ]
        }
       ],
       "layout": {
        "height": 500,
        "legend": {
         "tracegroupgap": 0
        },
        "showlegend": false,
        "template": {
         "data": {
          "bar": [
           {
            "error_x": {
             "color": "#2a3f5f"
            },
            "error_y": {
             "color": "#2a3f5f"
            },
            "marker": {
             "line": {
              "color": "#E5ECF6",
              "width": 0.5
             },
             "pattern": {
              "fillmode": "overlay",
              "size": 10,
              "solidity": 0.2
             }
            },
            "type": "bar"
           }
          ],
          "barpolar": [
           {
            "marker": {
             "line": {
              "color": "#E5ECF6",
              "width": 0.5
             },
             "pattern": {
              "fillmode": "overlay",
              "size": 10,
              "solidity": 0.2
             }
            },
            "type": "barpolar"
           }
          ],
          "carpet": [
           {
            "aaxis": {
             "endlinecolor": "#2a3f5f",
             "gridcolor": "white",
             "linecolor": "white",
             "minorgridcolor": "white",
             "startlinecolor": "#2a3f5f"
            },
            "baxis": {
             "endlinecolor": "#2a3f5f",
             "gridcolor": "white",
             "linecolor": "white",
             "minorgridcolor": "white",
             "startlinecolor": "#2a3f5f"
            },
            "type": "carpet"
           }
          ],
          "choropleth": [
           {
            "colorbar": {
             "outlinewidth": 0,
             "ticks": ""
            },
            "type": "choropleth"
           }
          ],
          "contour": [
           {
            "colorbar": {
             "outlinewidth": 0,
             "ticks": ""
            },
            "colorscale": [
             [
              0,
              "#0d0887"
             ],
             [
              0.1111111111111111,
              "#46039f"
             ],
             [
              0.2222222222222222,
              "#7201a8"
             ],
             [
              0.3333333333333333,
              "#9c179e"
             ],
             [
              0.4444444444444444,
              "#bd3786"
             ],
             [
              0.5555555555555556,
              "#d8576b"
             ],
             [
              0.6666666666666666,
              "#ed7953"
             ],
             [
              0.7777777777777778,
              "#fb9f3a"
             ],
             [
              0.8888888888888888,
              "#fdca26"
             ],
             [
              1,
              "#f0f921"
             ]
            ],
            "type": "contour"
           }
          ],
          "contourcarpet": [
           {
            "colorbar": {
             "outlinewidth": 0,
             "ticks": ""
            },
            "type": "contourcarpet"
           }
          ],
          "heatmap": [
           {
            "colorbar": {
             "outlinewidth": 0,
             "ticks": ""
            },
            "colorscale": [
             [
              0,
              "#0d0887"
             ],
             [
              0.1111111111111111,
              "#46039f"
             ],
             [
              0.2222222222222222,
              "#7201a8"
             ],
             [
              0.3333333333333333,
              "#9c179e"
             ],
             [
              0.4444444444444444,
              "#bd3786"
             ],
             [
              0.5555555555555556,
              "#d8576b"
             ],
             [
              0.6666666666666666,
              "#ed7953"
             ],
             [
              0.7777777777777778,
              "#fb9f3a"
             ],
             [
              0.8888888888888888,
              "#fdca26"
             ],
             [
              1,
              "#f0f921"
             ]
            ],
            "type": "heatmap"
           }
          ],
          "heatmapgl": [
           {
            "colorbar": {
             "outlinewidth": 0,
             "ticks": ""
            },
            "colorscale": [
             [
              0,
              "#0d0887"
             ],
             [
              0.1111111111111111,
              "#46039f"
             ],
             [
              0.2222222222222222,
              "#7201a8"
             ],
             [
              0.3333333333333333,
              "#9c179e"
             ],
             [
              0.4444444444444444,
              "#bd3786"
             ],
             [
              0.5555555555555556,
              "#d8576b"
             ],
             [
              0.6666666666666666,
              "#ed7953"
             ],
             [
              0.7777777777777778,
              "#fb9f3a"
             ],
             [
              0.8888888888888888,
              "#fdca26"
             ],
             [
              1,
              "#f0f921"
             ]
            ],
            "type": "heatmapgl"
           }
          ],
          "histogram": [
           {
            "marker": {
             "pattern": {
              "fillmode": "overlay",
              "size": 10,
              "solidity": 0.2
             }
            },
            "type": "histogram"
           }
          ],
          "histogram2d": [
           {
            "colorbar": {
             "outlinewidth": 0,
             "ticks": ""
            },
            "colorscale": [
             [
              0,
              "#0d0887"
             ],
             [
              0.1111111111111111,
              "#46039f"
             ],
             [
              0.2222222222222222,
              "#7201a8"
             ],
             [
              0.3333333333333333,
              "#9c179e"
             ],
             [
              0.4444444444444444,
              "#bd3786"
             ],
             [
              0.5555555555555556,
              "#d8576b"
             ],
             [
              0.6666666666666666,
              "#ed7953"
             ],
             [
              0.7777777777777778,
              "#fb9f3a"
             ],
             [
              0.8888888888888888,
              "#fdca26"
             ],
             [
              1,
              "#f0f921"
             ]
            ],
            "type": "histogram2d"
           }
          ],
          "histogram2dcontour": [
           {
            "colorbar": {
             "outlinewidth": 0,
             "ticks": ""
            },
            "colorscale": [
             [
              0,
              "#0d0887"
             ],
             [
              0.1111111111111111,
              "#46039f"
             ],
             [
              0.2222222222222222,
              "#7201a8"
             ],
             [
              0.3333333333333333,
              "#9c179e"
             ],
             [
              0.4444444444444444,
              "#bd3786"
             ],
             [
              0.5555555555555556,
              "#d8576b"
             ],
             [
              0.6666666666666666,
              "#ed7953"
             ],
             [
              0.7777777777777778,
              "#fb9f3a"
             ],
             [
              0.8888888888888888,
              "#fdca26"
             ],
             [
              1,
              "#f0f921"
             ]
            ],
            "type": "histogram2dcontour"
           }
          ],
          "mesh3d": [
           {
            "colorbar": {
             "outlinewidth": 0,
             "ticks": ""
            },
            "type": "mesh3d"
           }
          ],
          "parcoords": [
           {
            "line": {
             "colorbar": {
              "outlinewidth": 0,
              "ticks": ""
             }
            },
            "type": "parcoords"
           }
          ],
          "pie": [
           {
            "automargin": true,
            "type": "pie"
           }
          ],
          "scatter": [
           {
            "fillpattern": {
             "fillmode": "overlay",
             "size": 10,
             "solidity": 0.2
            },
            "type": "scatter"
           }
          ],
          "scatter3d": [
           {
            "line": {
             "colorbar": {
              "outlinewidth": 0,
              "ticks": ""
             }
            },
            "marker": {
             "colorbar": {
              "outlinewidth": 0,
              "ticks": ""
             }
            },
            "type": "scatter3d"
           }
          ],
          "scattercarpet": [
           {
            "marker": {
             "colorbar": {
              "outlinewidth": 0,
              "ticks": ""
             }
            },
            "type": "scattercarpet"
           }
          ],
          "scattergeo": [
           {
            "marker": {
             "colorbar": {
              "outlinewidth": 0,
              "ticks": ""
             }
            },
            "type": "scattergeo"
           }
          ],
          "scattergl": [
           {
            "marker": {
             "colorbar": {
              "outlinewidth": 0,
              "ticks": ""
             }
            },
            "type": "scattergl"
           }
          ],
          "scattermapbox": [
           {
            "marker": {
             "colorbar": {
              "outlinewidth": 0,
              "ticks": ""
             }
            },
            "type": "scattermapbox"
           }
          ],
          "scatterpolar": [
           {
            "marker": {
             "colorbar": {
              "outlinewidth": 0,
              "ticks": ""
             }
            },
            "type": "scatterpolar"
           }
          ],
          "scatterpolargl": [
           {
            "marker": {
             "colorbar": {
              "outlinewidth": 0,
              "ticks": ""
             }
            },
            "type": "scatterpolargl"
           }
          ],
          "scatterternary": [
           {
            "marker": {
             "colorbar": {
              "outlinewidth": 0,
              "ticks": ""
             }
            },
            "type": "scatterternary"
           }
          ],
          "surface": [
           {
            "colorbar": {
             "outlinewidth": 0,
             "ticks": ""
            },
            "colorscale": [
             [
              0,
              "#0d0887"
             ],
             [
              0.1111111111111111,
              "#46039f"
             ],
             [
              0.2222222222222222,
              "#7201a8"
             ],
             [
              0.3333333333333333,
              "#9c179e"
             ],
             [
              0.4444444444444444,
              "#bd3786"
             ],
             [
              0.5555555555555556,
              "#d8576b"
             ],
             [
              0.6666666666666666,
              "#ed7953"
             ],
             [
              0.7777777777777778,
              "#fb9f3a"
             ],
             [
              0.8888888888888888,
              "#fdca26"
             ],
             [
              1,
              "#f0f921"
             ]
            ],
            "type": "surface"
           }
          ],
          "table": [
           {
            "cells": {
             "fill": {
              "color": "#EBF0F8"
             },
             "line": {
              "color": "white"
             }
            },
            "header": {
             "fill": {
              "color": "#C8D4E3"
             },
             "line": {
              "color": "white"
             }
            },
            "type": "table"
           }
          ]
         },
         "layout": {
          "annotationdefaults": {
           "arrowcolor": "#2a3f5f",
           "arrowhead": 0,
           "arrowwidth": 1
          },
          "autotypenumbers": "strict",
          "coloraxis": {
           "colorbar": {
            "outlinewidth": 0,
            "ticks": ""
           }
          },
          "colorscale": {
           "diverging": [
            [
             0,
             "#8e0152"
            ],
            [
             0.1,
             "#c51b7d"
            ],
            [
             0.2,
             "#de77ae"
            ],
            [
             0.3,
             "#f1b6da"
            ],
            [
             0.4,
             "#fde0ef"
            ],
            [
             0.5,
             "#f7f7f7"
            ],
            [
             0.6,
             "#e6f5d0"
            ],
            [
             0.7,
             "#b8e186"
            ],
            [
             0.8,
             "#7fbc41"
            ],
            [
             0.9,
             "#4d9221"
            ],
            [
             1,
             "#276419"
            ]
           ],
           "sequential": [
            [
             0,
             "#0d0887"
            ],
            [
             0.1111111111111111,
             "#46039f"
            ],
            [
             0.2222222222222222,
             "#7201a8"
            ],
            [
             0.3333333333333333,
             "#9c179e"
            ],
            [
             0.4444444444444444,
             "#bd3786"
            ],
            [
             0.5555555555555556,
             "#d8576b"
            ],
            [
             0.6666666666666666,
             "#ed7953"
            ],
            [
             0.7777777777777778,
             "#fb9f3a"
            ],
            [
             0.8888888888888888,
             "#fdca26"
            ],
            [
             1,
             "#f0f921"
            ]
           ],
           "sequentialminus": [
            [
             0,
             "#0d0887"
            ],
            [
             0.1111111111111111,
             "#46039f"
            ],
            [
             0.2222222222222222,
             "#7201a8"
            ],
            [
             0.3333333333333333,
             "#9c179e"
            ],
            [
             0.4444444444444444,
             "#bd3786"
            ],
            [
             0.5555555555555556,
             "#d8576b"
            ],
            [
             0.6666666666666666,
             "#ed7953"
            ],
            [
             0.7777777777777778,
             "#fb9f3a"
            ],
            [
             0.8888888888888888,
             "#fdca26"
            ],
            [
             1,
             "#f0f921"
            ]
           ]
          },
          "colorway": [
           "#636efa",
           "#EF553B",
           "#00cc96",
           "#ab63fa",
           "#FFA15A",
           "#19d3f3",
           "#FF6692",
           "#B6E880",
           "#FF97FF",
           "#FECB52"
          ],
          "font": {
           "color": "#2a3f5f"
          },
          "geo": {
           "bgcolor": "white",
           "lakecolor": "white",
           "landcolor": "#E5ECF6",
           "showlakes": true,
           "showland": true,
           "subunitcolor": "white"
          },
          "hoverlabel": {
           "align": "left"
          },
          "hovermode": "closest",
          "mapbox": {
           "style": "light"
          },
          "paper_bgcolor": "white",
          "plot_bgcolor": "#E5ECF6",
          "polar": {
           "angularaxis": {
            "gridcolor": "white",
            "linecolor": "white",
            "ticks": ""
           },
           "bgcolor": "#E5ECF6",
           "radialaxis": {
            "gridcolor": "white",
            "linecolor": "white",
            "ticks": ""
           }
          },
          "scene": {
           "xaxis": {
            "backgroundcolor": "#E5ECF6",
            "gridcolor": "white",
            "gridwidth": 2,
            "linecolor": "white",
            "showbackground": true,
            "ticks": "",
            "zerolinecolor": "white"
           },
           "yaxis": {
            "backgroundcolor": "#E5ECF6",
            "gridcolor": "white",
            "gridwidth": 2,
            "linecolor": "white",
            "showbackground": true,
            "ticks": "",
            "zerolinecolor": "white"
           },
           "zaxis": {
            "backgroundcolor": "#E5ECF6",
            "gridcolor": "white",
            "gridwidth": 2,
            "linecolor": "white",
            "showbackground": true,
            "ticks": "",
            "zerolinecolor": "white"
           }
          },
          "shapedefaults": {
           "line": {
            "color": "#2a3f5f"
           }
          },
          "ternary": {
           "aaxis": {
            "gridcolor": "white",
            "linecolor": "white",
            "ticks": ""
           },
           "baxis": {
            "gridcolor": "white",
            "linecolor": "white",
            "ticks": ""
           },
           "bgcolor": "#E5ECF6",
           "caxis": {
            "gridcolor": "white",
            "linecolor": "white",
            "ticks": ""
           }
          },
          "title": {
           "x": 0.05
          },
          "xaxis": {
           "automargin": true,
           "gridcolor": "white",
           "linecolor": "white",
           "ticks": "",
           "title": {
            "standoff": 15
           },
           "zerolinecolor": "white",
           "zerolinewidth": 2
          },
          "yaxis": {
           "automargin": true,
           "gridcolor": "white",
           "linecolor": "white",
           "ticks": "",
           "title": {
            "standoff": 15
           },
           "zerolinecolor": "white",
           "zerolinewidth": 2
          }
         }
        },
        "title": {
         "text": "Distribution of Traffic Accidents by Infrastructure Proximity"
        },
        "width": 800
       }
      }
     },
     "metadata": {},
     "output_type": "display_data"
    }
   ],
   "source": [
    "import plotly.express as px\n",
    "import pandas as pd\n",
    "\n",
    "\n",
    "df = pd.read_csv('../resources/us_accidents_filtered_rows.csv')\n",
    "\n",
    "infrastructures = ['Amenity', 'Bump', 'Crossing', 'Give_Way', 'Junction', 'No_Exit', \n",
    "                   'Railway', 'Roundabout', 'Station', 'Stop', 'Traffic_Calming', \n",
    "                   'Traffic_Signal', 'Turning_Loop']\n",
    "\n",
    "# Check if all infrastructure columns are False for each row\n",
    "def all_false(row):\n",
    "    return all(not row[infra] for infra in infrastructures)\n",
    "\n",
    "# Apply the function row-wise to create a boolean mask\n",
    "all_false_mask = df.apply(all_false, axis=1)\n",
    "\n",
    "# Count rows where all infrastructure columns are False\n",
    "no_infrastructure_count = all_false_mask.sum()\n",
    "\n",
    "# Count occurrences of True values for each infrastructure type\n",
    "counts = [df[infra].sum() for infra in infrastructures]\n",
    "\n",
    "# If there are rows with all False values, add a category for \"No Infrastructure Near Accidents\"\n",
    "if no_infrastructure_count > 0:\n",
    "    infrastructures.append('No Infrastructure')\n",
    "    counts.append(no_infrastructure_count)\n",
    "\n",
    "# Create lists for labels and values\n",
    "labels = infrastructures\n",
    "values = counts\n",
    "\n",
    "# Calculate total number of accidents\n",
    "total_accidents = sum(values)\n",
    "\n",
    "# Calculate percentages\n",
    "percentages = [count / total_accidents * 100 for count in counts]\n",
    "\n",
    "threshold = 1.3\n",
    "combined_labels = []\n",
    "combined_values = []\n",
    "\n",
    "for label, value, percent in zip(labels, values, percentages):\n",
    "    if percent < threshold:\n",
    "        combined_labels.append('Other')\n",
    "        combined_values.append(value)\n",
    "    else:\n",
    "        combined_labels.append(label)\n",
    "        combined_values.append(value)\n",
    "\n",
    "fig = px.pie(names=combined_labels, values=combined_values, title='Distribution of Traffic Accidents by Infrastructure Proximity',\n",
    "             hole=0.8,\n",
    "             labels={'label': 'percent'},\n",
    "             width=800, height=500)\n",
    "\n",
    "\n",
    "fig.update_traces(textposition='outside', textinfo='label+percent')\n",
    "fig.update_layout(showlegend=False)\n",
    "\n",
    "fig.show()\n",
    "\n"
   ]
  },
  {
   "cell_type": "markdown",
   "metadata": {},
   "source": [
    "### The Drivers"
   ]
  },
  {
   "cell_type": "code",
   "execution_count": 6,
   "metadata": {
    "tags": [
     "hide-input"
    ]
   },
   "outputs": [
    {
     "data": {
      "application/vnd.plotly.v1+json": {
       "config": {
        "plotlyServerURL": "https://plot.ly"
       },
       "data": [
        {
         "hovertemplate": "=traffic accidents<br>Date (Months)=%{x}<br>Count=%{y}<extra></extra>",
         "legendgroup": "traffic accidents",
         "line": {
          "color": "#636efa",
          "dash": "solid"
         },
         "marker": {
          "symbol": "circle"
         },
         "mode": "lines",
         "name": "traffic accidents",
         "orientation": "v",
         "showlegend": true,
         "type": "scatter",
         "x": [
          "2016-01",
          "2016-02",
          "2016-03",
          "2016-04",
          "2016-05",
          "2016-06",
          "2016-07",
          "2016-08",
          "2016-09",
          "2016-10",
          "2016-11",
          "2016-12",
          "2017-01",
          "2017-02",
          "2017-03",
          "2017-04",
          "2017-05",
          "2017-06",
          "2017-07",
          "2017-08",
          "2017-09",
          "2017-10",
          "2017-11",
          "2017-12"
         ],
         "xaxis": "x",
         "y": [
          7,
          985,
          6330,
          18088,
          17610,
          30538,
          45780,
          56457,
          54698,
          55669,
          65040,
          59619,
          55713,
          51679,
          57315,
          48115,
          41136,
          46272,
          42459,
          80955,
          76902,
          74975,
          70127,
          71642
         ],
         "yaxis": "y"
        },
        {
         "hovertemplate": "=traffic violations<br>Date (Months)=%{x}<br>Count=%{y}<extra></extra>",
         "legendgroup": "traffic violations",
         "line": {
          "color": "#EF553B",
          "dash": "solid"
         },
         "marker": {
          "symbol": "circle"
         },
         "mode": "lines",
         "name": "traffic violations",
         "orientation": "v",
         "showlegend": true,
         "type": "scatter",
         "x": [
          "2016-01",
          "2016-02",
          "2016-03",
          "2016-04",
          "2016-05",
          "2016-06",
          "2016-07",
          "2016-08",
          "2016-09",
          "2016-10",
          "2016-11",
          "2016-12",
          "2017-01",
          "2017-02",
          "2017-03",
          "2017-04",
          "2017-05",
          "2017-06",
          "2017-07",
          "2017-08",
          "2017-09",
          "2017-10",
          "2017-11",
          "2017-12"
         ],
         "xaxis": "x",
         "y": [
          8497,
          10923,
          12813,
          12516,
          12284,
          11225,
          10546,
          10039,
          9771,
          10504,
          9191,
          9134,
          11212,
          11058,
          10665,
          9007,
          10441,
          9327,
          10042,
          2403,
          10873,
          9760,
          10427,
          8562
         ],
         "yaxis": "y"
        }
       ],
       "layout": {
        "legend": {
         "title": {
          "text": ""
         },
         "tracegroupgap": 0
        },
        "template": {
         "data": {
          "bar": [
           {
            "error_x": {
             "color": "#2a3f5f"
            },
            "error_y": {
             "color": "#2a3f5f"
            },
            "marker": {
             "line": {
              "color": "#E5ECF6",
              "width": 0.5
             },
             "pattern": {
              "fillmode": "overlay",
              "size": 10,
              "solidity": 0.2
             }
            },
            "type": "bar"
           }
          ],
          "barpolar": [
           {
            "marker": {
             "line": {
              "color": "#E5ECF6",
              "width": 0.5
             },
             "pattern": {
              "fillmode": "overlay",
              "size": 10,
              "solidity": 0.2
             }
            },
            "type": "barpolar"
           }
          ],
          "carpet": [
           {
            "aaxis": {
             "endlinecolor": "#2a3f5f",
             "gridcolor": "white",
             "linecolor": "white",
             "minorgridcolor": "white",
             "startlinecolor": "#2a3f5f"
            },
            "baxis": {
             "endlinecolor": "#2a3f5f",
             "gridcolor": "white",
             "linecolor": "white",
             "minorgridcolor": "white",
             "startlinecolor": "#2a3f5f"
            },
            "type": "carpet"
           }
          ],
          "choropleth": [
           {
            "colorbar": {
             "outlinewidth": 0,
             "ticks": ""
            },
            "type": "choropleth"
           }
          ],
          "contour": [
           {
            "colorbar": {
             "outlinewidth": 0,
             "ticks": ""
            },
            "colorscale": [
             [
              0,
              "#0d0887"
             ],
             [
              0.1111111111111111,
              "#46039f"
             ],
             [
              0.2222222222222222,
              "#7201a8"
             ],
             [
              0.3333333333333333,
              "#9c179e"
             ],
             [
              0.4444444444444444,
              "#bd3786"
             ],
             [
              0.5555555555555556,
              "#d8576b"
             ],
             [
              0.6666666666666666,
              "#ed7953"
             ],
             [
              0.7777777777777778,
              "#fb9f3a"
             ],
             [
              0.8888888888888888,
              "#fdca26"
             ],
             [
              1,
              "#f0f921"
             ]
            ],
            "type": "contour"
           }
          ],
          "contourcarpet": [
           {
            "colorbar": {
             "outlinewidth": 0,
             "ticks": ""
            },
            "type": "contourcarpet"
           }
          ],
          "heatmap": [
           {
            "colorbar": {
             "outlinewidth": 0,
             "ticks": ""
            },
            "colorscale": [
             [
              0,
              "#0d0887"
             ],
             [
              0.1111111111111111,
              "#46039f"
             ],
             [
              0.2222222222222222,
              "#7201a8"
             ],
             [
              0.3333333333333333,
              "#9c179e"
             ],
             [
              0.4444444444444444,
              "#bd3786"
             ],
             [
              0.5555555555555556,
              "#d8576b"
             ],
             [
              0.6666666666666666,
              "#ed7953"
             ],
             [
              0.7777777777777778,
              "#fb9f3a"
             ],
             [
              0.8888888888888888,
              "#fdca26"
             ],
             [
              1,
              "#f0f921"
             ]
            ],
            "type": "heatmap"
           }
          ],
          "heatmapgl": [
           {
            "colorbar": {
             "outlinewidth": 0,
             "ticks": ""
            },
            "colorscale": [
             [
              0,
              "#0d0887"
             ],
             [
              0.1111111111111111,
              "#46039f"
             ],
             [
              0.2222222222222222,
              "#7201a8"
             ],
             [
              0.3333333333333333,
              "#9c179e"
             ],
             [
              0.4444444444444444,
              "#bd3786"
             ],
             [
              0.5555555555555556,
              "#d8576b"
             ],
             [
              0.6666666666666666,
              "#ed7953"
             ],
             [
              0.7777777777777778,
              "#fb9f3a"
             ],
             [
              0.8888888888888888,
              "#fdca26"
             ],
             [
              1,
              "#f0f921"
             ]
            ],
            "type": "heatmapgl"
           }
          ],
          "histogram": [
           {
            "marker": {
             "pattern": {
              "fillmode": "overlay",
              "size": 10,
              "solidity": 0.2
             }
            },
            "type": "histogram"
           }
          ],
          "histogram2d": [
           {
            "colorbar": {
             "outlinewidth": 0,
             "ticks": ""
            },
            "colorscale": [
             [
              0,
              "#0d0887"
             ],
             [
              0.1111111111111111,
              "#46039f"
             ],
             [
              0.2222222222222222,
              "#7201a8"
             ],
             [
              0.3333333333333333,
              "#9c179e"
             ],
             [
              0.4444444444444444,
              "#bd3786"
             ],
             [
              0.5555555555555556,
              "#d8576b"
             ],
             [
              0.6666666666666666,
              "#ed7953"
             ],
             [
              0.7777777777777778,
              "#fb9f3a"
             ],
             [
              0.8888888888888888,
              "#fdca26"
             ],
             [
              1,
              "#f0f921"
             ]
            ],
            "type": "histogram2d"
           }
          ],
          "histogram2dcontour": [
           {
            "colorbar": {
             "outlinewidth": 0,
             "ticks": ""
            },
            "colorscale": [
             [
              0,
              "#0d0887"
             ],
             [
              0.1111111111111111,
              "#46039f"
             ],
             [
              0.2222222222222222,
              "#7201a8"
             ],
             [
              0.3333333333333333,
              "#9c179e"
             ],
             [
              0.4444444444444444,
              "#bd3786"
             ],
             [
              0.5555555555555556,
              "#d8576b"
             ],
             [
              0.6666666666666666,
              "#ed7953"
             ],
             [
              0.7777777777777778,
              "#fb9f3a"
             ],
             [
              0.8888888888888888,
              "#fdca26"
             ],
             [
              1,
              "#f0f921"
             ]
            ],
            "type": "histogram2dcontour"
           }
          ],
          "mesh3d": [
           {
            "colorbar": {
             "outlinewidth": 0,
             "ticks": ""
            },
            "type": "mesh3d"
           }
          ],
          "parcoords": [
           {
            "line": {
             "colorbar": {
              "outlinewidth": 0,
              "ticks": ""
             }
            },
            "type": "parcoords"
           }
          ],
          "pie": [
           {
            "automargin": true,
            "type": "pie"
           }
          ],
          "scatter": [
           {
            "fillpattern": {
             "fillmode": "overlay",
             "size": 10,
             "solidity": 0.2
            },
            "type": "scatter"
           }
          ],
          "scatter3d": [
           {
            "line": {
             "colorbar": {
              "outlinewidth": 0,
              "ticks": ""
             }
            },
            "marker": {
             "colorbar": {
              "outlinewidth": 0,
              "ticks": ""
             }
            },
            "type": "scatter3d"
           }
          ],
          "scattercarpet": [
           {
            "marker": {
             "colorbar": {
              "outlinewidth": 0,
              "ticks": ""
             }
            },
            "type": "scattercarpet"
           }
          ],
          "scattergeo": [
           {
            "marker": {
             "colorbar": {
              "outlinewidth": 0,
              "ticks": ""
             }
            },
            "type": "scattergeo"
           }
          ],
          "scattergl": [
           {
            "marker": {
             "colorbar": {
              "outlinewidth": 0,
              "ticks": ""
             }
            },
            "type": "scattergl"
           }
          ],
          "scattermapbox": [
           {
            "marker": {
             "colorbar": {
              "outlinewidth": 0,
              "ticks": ""
             }
            },
            "type": "scattermapbox"
           }
          ],
          "scatterpolar": [
           {
            "marker": {
             "colorbar": {
              "outlinewidth": 0,
              "ticks": ""
             }
            },
            "type": "scatterpolar"
           }
          ],
          "scatterpolargl": [
           {
            "marker": {
             "colorbar": {
              "outlinewidth": 0,
              "ticks": ""
             }
            },
            "type": "scatterpolargl"
           }
          ],
          "scatterternary": [
           {
            "marker": {
             "colorbar": {
              "outlinewidth": 0,
              "ticks": ""
             }
            },
            "type": "scatterternary"
           }
          ],
          "surface": [
           {
            "colorbar": {
             "outlinewidth": 0,
             "ticks": ""
            },
            "colorscale": [
             [
              0,
              "#0d0887"
             ],
             [
              0.1111111111111111,
              "#46039f"
             ],
             [
              0.2222222222222222,
              "#7201a8"
             ],
             [
              0.3333333333333333,
              "#9c179e"
             ],
             [
              0.4444444444444444,
              "#bd3786"
             ],
             [
              0.5555555555555556,
              "#d8576b"
             ],
             [
              0.6666666666666666,
              "#ed7953"
             ],
             [
              0.7777777777777778,
              "#fb9f3a"
             ],
             [
              0.8888888888888888,
              "#fdca26"
             ],
             [
              1,
              "#f0f921"
             ]
            ],
            "type": "surface"
           }
          ],
          "table": [
           {
            "cells": {
             "fill": {
              "color": "#EBF0F8"
             },
             "line": {
              "color": "white"
             }
            },
            "header": {
             "fill": {
              "color": "#C8D4E3"
             },
             "line": {
              "color": "white"
             }
            },
            "type": "table"
           }
          ]
         },
         "layout": {
          "annotationdefaults": {
           "arrowcolor": "#2a3f5f",
           "arrowhead": 0,
           "arrowwidth": 1
          },
          "autotypenumbers": "strict",
          "coloraxis": {
           "colorbar": {
            "outlinewidth": 0,
            "ticks": ""
           }
          },
          "colorscale": {
           "diverging": [
            [
             0,
             "#8e0152"
            ],
            [
             0.1,
             "#c51b7d"
            ],
            [
             0.2,
             "#de77ae"
            ],
            [
             0.3,
             "#f1b6da"
            ],
            [
             0.4,
             "#fde0ef"
            ],
            [
             0.5,
             "#f7f7f7"
            ],
            [
             0.6,
             "#e6f5d0"
            ],
            [
             0.7,
             "#b8e186"
            ],
            [
             0.8,
             "#7fbc41"
            ],
            [
             0.9,
             "#4d9221"
            ],
            [
             1,
             "#276419"
            ]
           ],
           "sequential": [
            [
             0,
             "#0d0887"
            ],
            [
             0.1111111111111111,
             "#46039f"
            ],
            [
             0.2222222222222222,
             "#7201a8"
            ],
            [
             0.3333333333333333,
             "#9c179e"
            ],
            [
             0.4444444444444444,
             "#bd3786"
            ],
            [
             0.5555555555555556,
             "#d8576b"
            ],
            [
             0.6666666666666666,
             "#ed7953"
            ],
            [
             0.7777777777777778,
             "#fb9f3a"
            ],
            [
             0.8888888888888888,
             "#fdca26"
            ],
            [
             1,
             "#f0f921"
            ]
           ],
           "sequentialminus": [
            [
             0,
             "#0d0887"
            ],
            [
             0.1111111111111111,
             "#46039f"
            ],
            [
             0.2222222222222222,
             "#7201a8"
            ],
            [
             0.3333333333333333,
             "#9c179e"
            ],
            [
             0.4444444444444444,
             "#bd3786"
            ],
            [
             0.5555555555555556,
             "#d8576b"
            ],
            [
             0.6666666666666666,
             "#ed7953"
            ],
            [
             0.7777777777777778,
             "#fb9f3a"
            ],
            [
             0.8888888888888888,
             "#fdca26"
            ],
            [
             1,
             "#f0f921"
            ]
           ]
          },
          "colorway": [
           "#636efa",
           "#EF553B",
           "#00cc96",
           "#ab63fa",
           "#FFA15A",
           "#19d3f3",
           "#FF6692",
           "#B6E880",
           "#FF97FF",
           "#FECB52"
          ],
          "font": {
           "color": "#2a3f5f"
          },
          "geo": {
           "bgcolor": "white",
           "lakecolor": "white",
           "landcolor": "#E5ECF6",
           "showlakes": true,
           "showland": true,
           "subunitcolor": "white"
          },
          "hoverlabel": {
           "align": "left"
          },
          "hovermode": "closest",
          "mapbox": {
           "style": "light"
          },
          "paper_bgcolor": "white",
          "plot_bgcolor": "#E5ECF6",
          "polar": {
           "angularaxis": {
            "gridcolor": "white",
            "linecolor": "white",
            "ticks": ""
           },
           "bgcolor": "#E5ECF6",
           "radialaxis": {
            "gridcolor": "white",
            "linecolor": "white",
            "ticks": ""
           }
          },
          "scene": {
           "xaxis": {
            "backgroundcolor": "#E5ECF6",
            "gridcolor": "white",
            "gridwidth": 2,
            "linecolor": "white",
            "showbackground": true,
            "ticks": "",
            "zerolinecolor": "white"
           },
           "yaxis": {
            "backgroundcolor": "#E5ECF6",
            "gridcolor": "white",
            "gridwidth": 2,
            "linecolor": "white",
            "showbackground": true,
            "ticks": "",
            "zerolinecolor": "white"
           },
           "zaxis": {
            "backgroundcolor": "#E5ECF6",
            "gridcolor": "white",
            "gridwidth": 2,
            "linecolor": "white",
            "showbackground": true,
            "ticks": "",
            "zerolinecolor": "white"
           }
          },
          "shapedefaults": {
           "line": {
            "color": "#2a3f5f"
           }
          },
          "ternary": {
           "aaxis": {
            "gridcolor": "white",
            "linecolor": "white",
            "ticks": ""
           },
           "baxis": {
            "gridcolor": "white",
            "linecolor": "white",
            "ticks": ""
           },
           "bgcolor": "#E5ECF6",
           "caxis": {
            "gridcolor": "white",
            "linecolor": "white",
            "ticks": ""
           }
          },
          "title": {
           "x": 0.05
          },
          "xaxis": {
           "automargin": true,
           "gridcolor": "white",
           "linecolor": "white",
           "ticks": "",
           "title": {
            "standoff": 15
           },
           "zerolinecolor": "white",
           "zerolinewidth": 2
          },
          "yaxis": {
           "automargin": true,
           "gridcolor": "white",
           "linecolor": "white",
           "ticks": "",
           "title": {
            "standoff": 15
           },
           "zerolinecolor": "white",
           "zerolinewidth": 2
          }
         }
        },
        "title": {
         "text": "Monthly Traffic Accidents and Traffic Violations"
        },
        "xaxis": {
         "anchor": "y",
         "domain": [
          0,
          1
         ],
         "title": {
          "text": "Date (Months)"
         }
        },
        "yaxis": {
         "anchor": "x",
         "domain": [
          0,
          1
         ],
         "title": {
          "text": "Count"
         }
        }
       }
      }
     },
     "metadata": {},
     "output_type": "display_data"
    }
   ],
   "source": [
    "df_violations = pd.read_csv('../resources/traffic_violations_filtered.csv')\n",
    "df_accidents = pd.read_csv('../resources/us_accidents.csv')\n",
    "\n",
    "# Convert the date columns to datetime\n",
    "df_accidents['date'] = pd.to_datetime(df_accidents['Start_Time'])\n",
    "df_violations['date'] = pd.to_datetime(df_violations['Date Of Stop'])\n",
    "\n",
    "# Extract year and month, and aggregate by month\n",
    "df_accidents['month'] = df_accidents['date'].dt.to_period('M')\n",
    "df_violations['month'] = df_violations['date'].dt.to_period('M')\n",
    "\n",
    "accidents_per_month = df_accidents.groupby('month').size().reset_index(name='traffic accidents')\n",
    "violations_per_month = df_violations.groupby('month').size().reset_index(name='traffic violations')\n",
    "\n",
    "# Merge the aggregated data on the month\n",
    "df_merged = pd.merge(accidents_per_month, violations_per_month, on='month', how='outer').fillna(0)\n",
    "\n",
    "# Convert 'month' back to string for plotting\n",
    "df_merged['month'] = df_merged['month'].astype(str)\n",
    "\n",
    "# Melt the dataframe for Plotly Express\n",
    "df_melted = df_merged.melt(id_vars='month', value_vars=['traffic accidents', 'traffic violations'], \n",
    "                           var_name='type', value_name='count')\n",
    "\n",
    "# Create the line plot\n",
    "fig = px.line(df_melted, x='month', y='count', color='type', \n",
    "              labels={'month': 'Date (Months)', 'count': 'Count', 'type': ''},\n",
    "              title='Monthly Traffic Accidents and Traffic Violations')\n",
    "\n",
    "# Show the plot\n",
    "fig.show()\n"
   ]
  },
  {
   "cell_type": "markdown",
   "metadata": {},
   "source": [
    "### Reflection\n",
    "\n",
    "Height van de parquet aanpassen <br>\n",
    "In de barplot aangeven welke dagen het heeft gevroren, ipv een aparte grafiek daarvoor. \n"
   ]
  },
  {
   "cell_type": "markdown",
   "metadata": {},
   "source": [
    "### References\n",
    "https://www.kaggle.com/datasets/sobhanmoosavi/us-accidents <br>\n",
    "https://www.kaggle.com/datasets/selfishgene/historical-hourly-weather-data/data?select=weather_description.csv"
   ]
  }
 ],
 "metadata": {
  "kernelspec": {
   "display_name": "base",
   "language": "python",
   "name": "python3"
  },
  "language_info": {
   "codemirror_mode": {
    "name": "ipython",
    "version": 3
   },
   "file_extension": ".py",
   "mimetype": "text/x-python",
   "name": "python",
   "nbconvert_exporter": "python",
   "pygments_lexer": "ipython3",
   "version": "3.10.14"
  }
 },
 "nbformat": 4,
 "nbformat_minor": 2
}
