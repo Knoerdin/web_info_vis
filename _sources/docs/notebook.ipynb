{
 "cells": [
  {
   "cell_type": "markdown",
   "metadata": {},
   "source": [
    "# Analyse van weersverschijnselen en verkeersongelukken in de VS"
   ]
  },
  {
   "cell_type": "markdown",
   "metadata": {},
   "source": [
    "## Introduction\n",
    "City planners, civil engineers and car manufacturers have worked tirelessly for decades to make driving a safe, comfortable and accessible option for travel. Safer roads, smarter rules and cutting edge technologies have been implement to reduce the frequency of accidents with motor vehicles, to great success as accidents on the road have dropped tremendously since the 1960s (https://www.iihs.org/topics/fatality-statistics/detail/yearly-snapshot) . Aside from individuals with poor driving skills and faulty vehicles, one of the greatest hindrances in motor safety has been the chaotic essence of mother nature. In the US, forty-two thousand people have died in 2022.\n",
    "\n",
    "Some would argue that weather is primarily responsible for the amount of motor vehicle accidents. Weather phenomena such as hurricanes, heavy rain, icy roads and thick fog are able to severely debilitate a person's driving skills and could pose a threat to their own safety, and that of other drivers around them. Others state that the weather is merely a small issue, and that accidents have many more causes other than weather. They argue that factors such as inexperienced drivers, unmaintained roads or sloppy city planning cause just as much, if not more accidents on the road.\n",
    "\n",
    "We set out to research the correlation between weather and accidents in the US. To achieve this we took a look at two datasets, these being 'US Accidents (2016 - 2023)', and 'Historical Hourly Weather Data 2012-2017'. 'US Accidents (2016 - 2023)' is a detailed record of vehicle accidents in the US between 2016 and 2023, having recorded the time, place and severity of accidents, among many other variables. 'Historical Hourly Weather Data 2012-2017' is a record of weather across the US between the years 2012 and 2017. This dataset has recorded the hourly weather status of many large cities across the United States. With these two datasets we can analyze and compare the link between heavy weather and car accidents across the US."
   ]
  },
  {
   "cell_type": "markdown",
   "metadata": {},
   "source": [
    "## Dataset and Preprocessing\n",
    "\n",
    "The first dataset used in this data story is the dataset US Accidents (2016-2023), found on Kaggle. This dataset contains all traffic accidents in America from Febuary 2016 to March 2023. These datapoints are all collected with the help of multiple API's that record traffic accidents and reports them. These API's send out various traffic details which are captured by various entities, such as US and state departments of transportation, law enforcement agencies, traffic cameras, and traffic sensors within the road networks. This dataset contains 7728394 records and 46 different variables. It contains variables on where the accidents took place, when they took place, if any infrastructure was nearby and the severity of the accident. <br>\n",
    "For this data story only the USA will be researched, so for this dataset we removed all states and cities that were not in the USA. As for the variables, all variables that were not used such as ID, Source, Timezone and so on. To find overlap between the this database and the database mentioned in the next paragraph, only the years 2016 and 2017 were used as these are the overlapping years between the databases.\n",
    "\n",
    "The second dataset used in this data story is Historical Hourly Weather Data 2012-2017, also found on Kaggle. It contains the data of the weather in various US states as well as some canadian and israeli cities. The records are measured by the hour and records variables such as temparature, humidity, air pressure and wind speed. There are roughly 45300 records in the database.\n",
    "The only country that will be researched is the US, so all the records of the other countries have been removed from the database. The variables of the database are all in a different csv file which made it more difficult to find correlation between the databases. To overcome this obstacle all the csv files were melted and filtered on year, after the filtering the database was merged to one csv file. "
   ]
  },
  {
   "cell_type": "markdown",
   "metadata": {},
   "source": [
    "## The First Perspective\n",
    "Driving through heavy rain or severe weather conditions can be disoriëntating and can lead to dangerous situations. This is why weather has a lot of influence on the frequency of accidents. Freezing temperatures and bad weather are a dangere to traffic. Cities with severe weather are more prone to traffic accidents than cities with less severe weather. To combat this issue, more precautions should be taken to prevent accidents caused by weather."
   ]
  },
  {
   "cell_type": "markdown",
   "metadata": {},
   "source": [
    "### Accidents per day\n",
    "In the following graph you can see the amount of accidents per day. It is notable to see that there is a significant increase in accidents during workdays. When zooming in there is a noticable pattern with 5 days of more accidents followed by two days(weekend) of less accidents. It is also noteworthy that there is a slight increase in traffic accidents around January and October. This could be because of freezing and holidays respectively. This is worth a further investigation and this will be discussed later on."
   ]
  },
  {
   "cell_type": "code",
   "execution_count": 6,
   "metadata": {
    "tags": [
     "hide-input"
    ]
   },
   "outputs": [
    {
     "data": {
      "application/vnd.plotly.v1+json": {
       "config": {
        "plotlyServerURL": "https://plot.ly"
       },
       "data": [
        {
         "dimensions": [
          {
           "label": "Month",
           "values": [
            "June",
            "June",
            "June",
            "June",
            "June",
            "June",
            "June",
            "June",
            "June",
            "June",
            "July",
            "July",
            "July",
            "July",
            "July",
            "July",
            "July",
            "July",
            "July",
            "July",
            "July",
            "July",
            "July",
            "July",
            "July",
            "July",
            "July",
            "July",
            "July",
            "July",
            "July",
            "July",
            "July",
            "July",
            "July",
            "July",
            "July",
            "July",
            "July",
            "August",
            "August",
            "August",
            "August",
            "August",
            "August",
            "August",
            "August",
            "August",
            "August",
            "August",
            "August",
            "August",
            "August",
            "August",
            "August",
            "August",
            "August",
            "August",
            "August",
            "August",
            "August",
            "August",
            "August",
            "August",
            "August",
            "August",
            "August",
            "August",
            "August",
            "August",
            "September",
            "September",
            "September",
            "September",
            "September",
            "September",
            "September",
            "September",
            "September",
            "September",
            "September",
            "September",
            "September",
            "September",
            "September",
            "September",
            "September",
            "September",
            "September",
            "September",
            "September",
            "September",
            "September",
            "September",
            "September",
            "September",
            "September",
            "September",
            "September",
            "September",
            "October",
            "October",
            "October",
            "October",
            "October",
            "October",
            "October",
            "October",
            "October",
            "October",
            "October",
            "October",
            "October",
            "October",
            "October",
            "October",
            "October",
            "October",
            "October",
            "October",
            "October",
            "October",
            "October",
            "October",
            "October",
            "October",
            "October",
            "October",
            "October",
            "November",
            "November",
            "November",
            "November",
            "November",
            "November",
            "November",
            "November",
            "November",
            "November",
            "November",
            "November",
            "November",
            "November",
            "November",
            "November",
            "November",
            "November",
            "November",
            "November",
            "November",
            "November",
            "November",
            "November",
            "November",
            "November",
            "November",
            "November",
            "November",
            "November",
            "December",
            "December",
            "December",
            "December",
            "December",
            "December",
            "December",
            "December",
            "December",
            "December",
            "December",
            "December",
            "December",
            "December",
            "December",
            "December",
            "December",
            "December",
            "December",
            "December",
            "December",
            "December",
            "December",
            "December",
            "December",
            "December",
            "December",
            "December",
            "December",
            "December",
            "December",
            "January",
            "January",
            "January",
            "January",
            "January",
            "January",
            "January",
            "January",
            "January",
            "January",
            "January",
            "January",
            "January",
            "January",
            "January",
            "January",
            "January",
            "January",
            "January",
            "January",
            "January",
            "January",
            "January",
            "January",
            "January",
            "January",
            "January",
            "January",
            "January",
            "February",
            "February",
            "February",
            "February",
            "February",
            "February",
            "February",
            "February",
            "February",
            "February",
            "February",
            "February",
            "February",
            "February",
            "February",
            "February",
            "February",
            "February",
            "February",
            "February",
            "February",
            "February",
            "February",
            "February",
            "February",
            "February",
            "February",
            "March",
            "March",
            "March",
            "March",
            "March",
            "March",
            "March",
            "March",
            "March",
            "March",
            "March",
            "March",
            "March",
            "March",
            "March",
            "March",
            "March",
            "March",
            "March",
            "March",
            "March",
            "March",
            "March",
            "March",
            "March",
            "March",
            "March",
            "March",
            "March",
            "March",
            "April",
            "April",
            "April",
            "April",
            "April",
            "April",
            "April",
            "April",
            "April",
            "April",
            "April",
            "April",
            "April",
            "April",
            "April",
            "April",
            "April",
            "April",
            "April",
            "April",
            "April",
            "April",
            "April",
            "April",
            "April",
            "April",
            "April",
            "April",
            "April",
            "May",
            "May",
            "May",
            "May",
            "May",
            "May",
            "May",
            "May",
            "May",
            "May",
            "May",
            "May",
            "May",
            "May",
            "May",
            "May",
            "May",
            "May",
            "May",
            "May",
            "May",
            "May",
            "May",
            "May",
            "May",
            "May",
            "May",
            "May",
            "May",
            "June",
            "June",
            "June",
            "June",
            "June",
            "June",
            "June",
            "June",
            "June",
            "June",
            "June",
            "June",
            "June",
            "June",
            "June",
            "June",
            "June",
            "June",
            "June",
            "June",
            "June",
            "June",
            "June",
            "June",
            "June",
            "June",
            "June",
            "June",
            "June",
            "July",
            "July",
            "July",
            "July",
            "July",
            "July",
            "July",
            "July",
            "July",
            "July",
            "July",
            "July",
            "July",
            "July",
            "July",
            "July",
            "July",
            "July",
            "July",
            "July",
            "July",
            "July",
            "July",
            "July",
            "July",
            "July",
            "July",
            "July",
            "July",
            "July",
            "August",
            "August",
            "August",
            "August",
            "August",
            "August",
            "August",
            "August",
            "August",
            "August",
            "August",
            "August",
            "August",
            "August",
            "August",
            "August",
            "August",
            "August",
            "August",
            "August",
            "August",
            "August",
            "August",
            "August",
            "August",
            "August",
            "August",
            "August",
            "August",
            "August",
            "September",
            "September",
            "September",
            "September",
            "September",
            "September",
            "September",
            "September",
            "September",
            "September",
            "September",
            "September",
            "September",
            "September",
            "September",
            "September",
            "September",
            "September",
            "September",
            "September",
            "September",
            "September",
            "September",
            "September",
            "September",
            "September",
            "September",
            "September",
            "September",
            "October",
            "October",
            "October",
            "October",
            "October",
            "October",
            "October",
            "October",
            "October",
            "October",
            "October",
            "October",
            "October",
            "October",
            "October",
            "October",
            "October",
            "October",
            "October",
            "October",
            "October",
            "October",
            "October",
            "October",
            "October",
            "October",
            "October",
            "October",
            "October",
            "November",
            "November",
            "November",
            "November",
            "November",
            "November",
            "November",
            "November",
            "November",
            "November",
            "November",
            "November",
            "November",
            "November",
            "November",
            "November",
            "November",
            "November",
            "November",
            "November",
            "November",
            "November",
            "November",
            "November",
            "November",
            "November",
            "December",
            "December",
            "December",
            "December",
            "December",
            "December",
            "December",
            "December",
            "December",
            "December"
           ]
          },
          {
           "categoryarray": [
            "Not Freezing",
            "Freezing"
           ],
           "categoryorder": "array",
           "label": "Temperature",
           "values": [
            "Not Freezing",
            "Not Freezing",
            "Not Freezing",
            "Not Freezing",
            "Not Freezing",
            "Not Freezing",
            "Not Freezing",
            "Not Freezing",
            "Not Freezing",
            "Not Freezing",
            "Freezing",
            "Not Freezing",
            "Not Freezing",
            "Not Freezing",
            "Not Freezing",
            "Not Freezing",
            "Not Freezing",
            "Not Freezing",
            "Not Freezing",
            "Not Freezing",
            "Freezing",
            "Not Freezing",
            "Not Freezing",
            "Not Freezing",
            "Not Freezing",
            "Not Freezing",
            "Not Freezing",
            "Not Freezing",
            "Not Freezing",
            "Not Freezing",
            "Not Freezing",
            "Not Freezing",
            "Not Freezing",
            "Not Freezing",
            "Not Freezing",
            "Not Freezing",
            "Not Freezing",
            "Not Freezing",
            "Not Freezing",
            "Freezing",
            "Not Freezing",
            "Not Freezing",
            "Freezing",
            "Not Freezing",
            "Not Freezing",
            "Not Freezing",
            "Not Freezing",
            "Not Freezing",
            "Not Freezing",
            "Not Freezing",
            "Freezing",
            "Not Freezing",
            "Not Freezing",
            "Not Freezing",
            "Not Freezing",
            "Not Freezing",
            "Not Freezing",
            "Not Freezing",
            "Not Freezing",
            "Not Freezing",
            "Not Freezing",
            "Not Freezing",
            "Not Freezing",
            "Not Freezing",
            "Not Freezing",
            "Not Freezing",
            "Not Freezing",
            "Not Freezing",
            "Not Freezing",
            "Not Freezing",
            "Not Freezing",
            "Freezing",
            "Not Freezing",
            "Freezing",
            "Not Freezing",
            "Not Freezing",
            "Not Freezing",
            "Not Freezing",
            "Not Freezing",
            "Not Freezing",
            "Not Freezing",
            "Freezing",
            "Not Freezing",
            "Not Freezing",
            "Not Freezing",
            "Not Freezing",
            "Not Freezing",
            "Not Freezing",
            "Not Freezing",
            "Not Freezing",
            "Not Freezing",
            "Not Freezing",
            "Not Freezing",
            "Not Freezing",
            "Not Freezing",
            "Not Freezing",
            "Not Freezing",
            "Not Freezing",
            "Not Freezing",
            "Not Freezing",
            "Not Freezing",
            "Freezing",
            "Not Freezing",
            "Freezing",
            "Not Freezing",
            "Not Freezing",
            "Not Freezing",
            "Not Freezing",
            "Not Freezing",
            "Not Freezing",
            "Not Freezing",
            "Freezing",
            "Not Freezing",
            "Not Freezing",
            "Not Freezing",
            "Not Freezing",
            "Not Freezing",
            "Not Freezing",
            "Not Freezing",
            "Not Freezing",
            "Not Freezing",
            "Not Freezing",
            "Not Freezing",
            "Not Freezing",
            "Not Freezing",
            "Not Freezing",
            "Not Freezing",
            "Not Freezing",
            "Not Freezing",
            "Freezing",
            "Freezing",
            "Not Freezing",
            "Not Freezing",
            "Not Freezing",
            "Not Freezing",
            "Not Freezing",
            "Not Freezing",
            "Not Freezing",
            "Not Freezing",
            "Not Freezing",
            "Freezing",
            "Not Freezing",
            "Not Freezing",
            "Not Freezing",
            "Not Freezing",
            "Not Freezing",
            "Not Freezing",
            "Not Freezing",
            "Freezing",
            "Freezing",
            "Freezing",
            "Freezing",
            "Not Freezing",
            "Not Freezing",
            "Not Freezing",
            "Not Freezing",
            "Not Freezing",
            "Not Freezing",
            "Not Freezing",
            "Freezing",
            "Freezing",
            "Not Freezing",
            "Not Freezing",
            "Not Freezing",
            "Not Freezing",
            "Not Freezing",
            "Not Freezing",
            "Not Freezing",
            "Not Freezing",
            "Not Freezing",
            "Freezing",
            "Freezing",
            "Freezing",
            "Freezing",
            "Freezing",
            "Freezing",
            "Freezing",
            "Freezing",
            "Freezing",
            "Freezing",
            "Freezing",
            "Freezing",
            "Not Freezing",
            "Freezing",
            "Not Freezing",
            "Not Freezing",
            "Freezing",
            "Not Freezing",
            "Freezing",
            "Freezing",
            "Freezing",
            "Not Freezing",
            "Not Freezing",
            "Not Freezing",
            "Not Freezing",
            "Not Freezing",
            "Not Freezing",
            "Not Freezing",
            "Not Freezing",
            "Not Freezing",
            "Freezing",
            "Freezing",
            "Freezing",
            "Freezing",
            "Not Freezing",
            "Not Freezing",
            "Freezing",
            "Freezing",
            "Not Freezing",
            "Not Freezing",
            "Not Freezing",
            "Not Freezing",
            "Not Freezing",
            "Not Freezing",
            "Freezing",
            "Freezing",
            "Freezing",
            "Freezing",
            "Freezing",
            "Freezing",
            "Freezing",
            "Freezing",
            "Not Freezing",
            "Not Freezing",
            "Not Freezing",
            "Not Freezing",
            "Not Freezing",
            "Not Freezing",
            "Not Freezing",
            "Not Freezing",
            "Freezing",
            "Freezing",
            "Freezing",
            "Freezing",
            "Freezing",
            "Not Freezing",
            "Not Freezing",
            "Not Freezing",
            "Not Freezing",
            "Not Freezing",
            "Not Freezing",
            "Not Freezing",
            "Not Freezing",
            "Freezing",
            "Not Freezing",
            "Not Freezing",
            "Not Freezing",
            "Freezing",
            "Freezing",
            "Not Freezing",
            "Not Freezing",
            "Not Freezing",
            "Not Freezing",
            "Not Freezing",
            "Not Freezing",
            "Not Freezing",
            "Not Freezing",
            "Freezing",
            "Freezing",
            "Freezing",
            "Freezing",
            "Freezing",
            "Freezing",
            "Not Freezing",
            "Not Freezing",
            "Not Freezing",
            "Freezing",
            "Freezing",
            "Not Freezing",
            "Not Freezing",
            "Not Freezing",
            "Not Freezing",
            "Not Freezing",
            "Not Freezing",
            "Not Freezing",
            "Not Freezing",
            "Freezing",
            "Freezing",
            "Freezing",
            "Not Freezing",
            "Not Freezing",
            "Not Freezing",
            "Not Freezing",
            "Not Freezing",
            "Not Freezing",
            "Not Freezing",
            "Not Freezing",
            "Not Freezing",
            "Not Freezing",
            "Not Freezing",
            "Not Freezing",
            "Not Freezing",
            "Not Freezing",
            "Not Freezing",
            "Not Freezing",
            "Not Freezing",
            "Not Freezing",
            "Not Freezing",
            "Not Freezing",
            "Not Freezing",
            "Not Freezing",
            "Not Freezing",
            "Not Freezing",
            "Not Freezing",
            "Not Freezing",
            "Freezing",
            "Freezing",
            "Freezing",
            "Not Freezing",
            "Not Freezing",
            "Not Freezing",
            "Not Freezing",
            "Not Freezing",
            "Not Freezing",
            "Not Freezing",
            "Not Freezing",
            "Not Freezing",
            "Not Freezing",
            "Not Freezing",
            "Not Freezing",
            "Not Freezing",
            "Not Freezing",
            "Not Freezing",
            "Not Freezing",
            "Not Freezing",
            "Not Freezing",
            "Not Freezing",
            "Not Freezing",
            "Not Freezing",
            "Not Freezing",
            "Not Freezing",
            "Not Freezing",
            "Not Freezing",
            "Not Freezing",
            "Freezing",
            "Freezing",
            "Not Freezing",
            "Not Freezing",
            "Not Freezing",
            "Not Freezing",
            "Not Freezing",
            "Not Freezing",
            "Not Freezing",
            "Not Freezing",
            "Not Freezing",
            "Not Freezing",
            "Not Freezing",
            "Not Freezing",
            "Not Freezing",
            "Not Freezing",
            "Not Freezing",
            "Not Freezing",
            "Not Freezing",
            "Not Freezing",
            "Not Freezing",
            "Not Freezing",
            "Not Freezing",
            "Not Freezing",
            "Not Freezing",
            "Not Freezing",
            "Not Freezing",
            "Not Freezing",
            "Not Freezing",
            "Freezing",
            "Not Freezing",
            "Not Freezing",
            "Not Freezing",
            "Not Freezing",
            "Not Freezing",
            "Not Freezing",
            "Not Freezing",
            "Not Freezing",
            "Not Freezing",
            "Not Freezing",
            "Not Freezing",
            "Not Freezing",
            "Not Freezing",
            "Not Freezing",
            "Not Freezing",
            "Not Freezing",
            "Not Freezing",
            "Not Freezing",
            "Not Freezing",
            "Not Freezing",
            "Not Freezing",
            "Not Freezing",
            "Not Freezing",
            "Not Freezing",
            "Not Freezing",
            "Not Freezing",
            "Not Freezing",
            "Not Freezing",
            "Not Freezing",
            "Freezing",
            "Not Freezing",
            "Not Freezing",
            "Not Freezing",
            "Not Freezing",
            "Not Freezing",
            "Not Freezing",
            "Not Freezing",
            "Not Freezing",
            "Not Freezing",
            "Not Freezing",
            "Not Freezing",
            "Not Freezing",
            "Not Freezing",
            "Not Freezing",
            "Not Freezing",
            "Not Freezing",
            "Not Freezing",
            "Not Freezing",
            "Not Freezing",
            "Not Freezing",
            "Not Freezing",
            "Not Freezing",
            "Not Freezing",
            "Not Freezing",
            "Not Freezing",
            "Not Freezing",
            "Not Freezing",
            "Not Freezing",
            "Not Freezing",
            "Freezing",
            "Freezing",
            "Not Freezing",
            "Not Freezing",
            "Not Freezing",
            "Not Freezing",
            "Not Freezing",
            "Not Freezing",
            "Not Freezing",
            "Not Freezing",
            "Not Freezing",
            "Not Freezing",
            "Not Freezing",
            "Not Freezing",
            "Not Freezing",
            "Not Freezing",
            "Not Freezing",
            "Not Freezing",
            "Not Freezing",
            "Not Freezing",
            "Not Freezing",
            "Not Freezing",
            "Not Freezing",
            "Not Freezing",
            "Not Freezing",
            "Not Freezing",
            "Not Freezing",
            "Not Freezing",
            "Not Freezing",
            "Freezing",
            "Freezing",
            "Freezing",
            "Not Freezing",
            "Not Freezing",
            "Not Freezing",
            "Not Freezing",
            "Not Freezing",
            "Not Freezing",
            "Not Freezing",
            "Freezing",
            "Not Freezing",
            "Not Freezing",
            "Not Freezing",
            "Not Freezing",
            "Not Freezing",
            "Not Freezing",
            "Not Freezing",
            "Not Freezing",
            "Not Freezing",
            "Not Freezing",
            "Not Freezing",
            "Not Freezing",
            "Not Freezing",
            "Not Freezing",
            "Not Freezing",
            "Not Freezing",
            "Not Freezing",
            "Not Freezing",
            "Not Freezing",
            "Not Freezing",
            "Freezing",
            "Not Freezing",
            "Not Freezing",
            "Not Freezing",
            "Not Freezing",
            "Not Freezing",
            "Not Freezing",
            "Not Freezing",
            "Not Freezing",
            "Not Freezing",
            "Not Freezing",
            "Not Freezing",
            "Not Freezing",
            "Freezing",
            "Not Freezing",
            "Freezing",
            "Freezing",
            "Not Freezing",
            "Not Freezing",
            "Not Freezing",
            "Not Freezing",
            "Not Freezing",
            "Not Freezing",
            "Not Freezing",
            "Not Freezing",
            "Freezing",
            "Not Freezing",
            "Not Freezing",
            "Not Freezing",
            "Not Freezing",
            "Not Freezing",
            "Not Freezing",
            "Not Freezing",
            "Freezing"
           ]
          },
          {
           "categoryarray": [
            "High",
            "Medium",
            "Low"
           ],
           "categoryorder": "array",
           "label": "Humidity",
           "values": [
            "Low",
            "Low",
            "Low",
            "Low",
            "Low",
            "Medium",
            "Medium",
            "Medium",
            "Low",
            "Low",
            "Medium",
            "Low",
            "High",
            "Medium",
            "Low",
            "High",
            "Low",
            "Medium",
            "Medium",
            "High",
            "High",
            "Medium",
            "High",
            "Medium",
            "High",
            "Medium",
            "Low",
            "Low",
            "Medium",
            "Medium",
            "Low",
            "Medium",
            "Medium",
            "Low",
            "Medium",
            "Medium",
            "Medium",
            "High",
            "High",
            "High",
            "Medium",
            "Low",
            "Medium",
            "Low",
            "Low",
            "High",
            "Low",
            "High",
            "High",
            "High",
            "Medium",
            "High",
            "High",
            "High",
            "High",
            "High",
            "High",
            "High",
            "High",
            "Medium",
            "Medium",
            "Low",
            "Medium",
            "High",
            "Medium",
            "Medium",
            "High",
            "Medium",
            "Medium",
            "Medium",
            "High",
            "High",
            "Low",
            "High",
            "Low",
            "Low",
            "Medium",
            "Medium",
            "Medium",
            "High",
            "Medium",
            "Medium",
            "Low",
            "Medium",
            "Medium",
            "Medium",
            "High",
            "High",
            "High",
            "Medium",
            "High",
            "Medium",
            "High",
            "Low",
            "Medium",
            "High",
            "Low",
            "High",
            "High",
            "High",
            "High",
            "Medium",
            "High",
            "Medium",
            "Medium",
            "Low",
            "Medium",
            "Medium",
            "High",
            "High",
            "Low",
            "Medium",
            "High",
            "High",
            "High",
            "Medium",
            "High",
            "Low",
            "High",
            "High",
            "High",
            "High",
            "High",
            "High",
            "High",
            "High",
            "High",
            "High",
            "High",
            "Medium",
            "Low",
            "High",
            "High",
            "Medium",
            "Low",
            "Medium",
            "Medium",
            "Medium",
            "High",
            "Low",
            "High",
            "Low",
            "Low",
            "Medium",
            "Medium",
            "High",
            "Low",
            "Medium",
            "High",
            "Low",
            "Medium",
            "High",
            "High",
            "High",
            "High",
            "High",
            "High",
            "High",
            "High",
            "High",
            "Medium",
            "Medium",
            "Low",
            "High",
            "Low",
            "Medium",
            "Medium",
            "Low",
            "High",
            "Low",
            "High",
            "High",
            "Medium",
            "Low",
            "Medium",
            "High",
            "Medium",
            "Medium",
            "Low",
            "Medium",
            "Medium",
            "High",
            "High",
            "High",
            "High",
            "High",
            "Medium",
            "Medium",
            "Medium",
            "Low",
            "High",
            "High",
            "High",
            "High",
            "Low",
            "High",
            "Low",
            "Low",
            "Medium",
            "Medium",
            "Medium",
            "Medium",
            "Medium",
            "High",
            "High",
            "High",
            "High",
            "High",
            "High",
            "High",
            "High",
            "High",
            "High",
            "High",
            "High",
            "Medium",
            "Medium",
            "Medium",
            "High",
            "High",
            "Low",
            "Medium",
            "Low",
            "Medium",
            "Low",
            "Low",
            "Low",
            "Medium",
            "Low",
            "High",
            "Low",
            "High",
            "High",
            "High",
            "High",
            "Medium",
            "Medium",
            "Medium",
            "Medium",
            "High",
            "Medium",
            "High",
            "Medium",
            "Low",
            "Low",
            "High",
            "High",
            "Low",
            "Low",
            "Low",
            "Low",
            "Low",
            "Low",
            "High",
            "Medium",
            "Medium",
            "High",
            "Medium",
            "Medium",
            "Low",
            "Low",
            "Medium",
            "High",
            "High",
            "High",
            "Medium",
            "Low",
            "Low",
            "Low",
            "High",
            "High",
            "High",
            "High",
            "Medium",
            "High",
            "High",
            "Medium",
            "Low",
            "Low",
            "High",
            "Medium",
            "Low",
            "Low",
            "Medium",
            "Medium",
            "Medium",
            "High",
            "Medium",
            "Low",
            "Low",
            "Low",
            "Low",
            "Medium",
            "Low",
            "High",
            "Medium",
            "Low",
            "Low",
            "Low",
            "Low",
            "Medium",
            "Low",
            "Low",
            "Medium",
            "High",
            "Medium",
            "Low",
            "Low",
            "High",
            "High",
            "Medium",
            "Low",
            "Low",
            "High",
            "Low",
            "High",
            "Low",
            "Low",
            "Low",
            "Low",
            "Low",
            "Low",
            "Low",
            "Low",
            "High",
            "Low",
            "Low",
            "Medium",
            "High",
            "High",
            "Medium",
            "Medium",
            "Low",
            "Low",
            "Medium",
            "Medium",
            "Medium",
            "High",
            "Medium",
            "Medium",
            "Low",
            "Low",
            "Medium",
            "High",
            "High",
            "Low",
            "Low",
            "Low",
            "Low",
            "Low",
            "Low",
            "Low",
            "Low",
            "Low",
            "Low",
            "High",
            "Low",
            "Low",
            "Low",
            "Low",
            "Low",
            "Low",
            "Medium",
            "Medium",
            "High",
            "High",
            "Medium",
            "Low",
            "Low",
            "Low",
            "Medium",
            "Medium",
            "High",
            "Low",
            "High",
            "Medium",
            "Medium",
            "Medium",
            "Medium",
            "Medium",
            "Low",
            "Medium",
            "Low",
            "Medium",
            "High",
            "Medium",
            "Low",
            "Medium",
            "Medium",
            "Medium",
            "Low",
            "Low",
            "Low",
            "Low",
            "High",
            "Low",
            "Low",
            "Low",
            "Low",
            "Medium",
            "Low",
            "Medium",
            "Medium",
            "Medium",
            "Medium",
            "Low",
            "Medium",
            "Low",
            "Medium",
            "Medium",
            "Medium",
            "Low",
            "Low",
            "Medium",
            "Low",
            "Low",
            "Low",
            "Low",
            "Low",
            "High",
            "High",
            "High",
            "Medium",
            "Low",
            "Low",
            "Low",
            "Low",
            "Low",
            "Low",
            "Low",
            "Low",
            "Medium",
            "Medium",
            "Medium",
            "Medium",
            "High",
            "High",
            "Medium",
            "Medium",
            "High",
            "High",
            "High",
            "High",
            "Medium",
            "Medium",
            "Low",
            "Medium",
            "Low",
            "Low",
            "Low",
            "Medium",
            "Medium",
            "High",
            "Low",
            "Low",
            "Low",
            "Low",
            "Low",
            "Medium",
            "Low",
            "Medium",
            "High",
            "Low",
            "High",
            "High",
            "High",
            "Medium",
            "Low",
            "Low",
            "Low",
            "Low",
            "Medium",
            "Medium",
            "Medium",
            "High",
            "High",
            "Medium",
            "Medium",
            "High",
            "High",
            "High",
            "High",
            "High",
            "Low",
            "Low",
            "Low",
            "Medium",
            "Medium",
            "High",
            "High",
            "High",
            "High",
            "High",
            "Medium",
            "High",
            "High",
            "High",
            "Low",
            "Medium",
            "Medium",
            "Low",
            "Medium",
            "Medium",
            "Medium",
            "Medium",
            "Low",
            "Low",
            "High",
            "Low",
            "Low",
            "Low",
            "Low",
            "High",
            "Medium",
            "Medium",
            "High",
            "Low"
           ]
          },
          {
           "categoryarray": [
            "High",
            "Medium",
            "Low"
           ],
           "categoryorder": "array",
           "label": "Wind Speed",
           "values": [
            "Medium",
            "Medium",
            "Low",
            "Medium",
            "Low",
            "High",
            "High",
            "High",
            "Medium",
            "Medium",
            "Low",
            "Medium",
            "High",
            "High",
            "High",
            "Low",
            "Low",
            "Medium",
            "Medium",
            "Low",
            "High",
            "Medium",
            "Medium",
            "High",
            "Low",
            "High",
            "Medium",
            "Low",
            "High",
            "High",
            "Medium",
            "Medium",
            "High",
            "Low",
            "Low",
            "Medium",
            "Medium",
            "High",
            "Medium",
            "Low",
            "Low",
            "Medium",
            "High",
            "High",
            "High",
            "High",
            "Low",
            "Medium",
            "High",
            "Low",
            "High",
            "Medium",
            "Low",
            "Low",
            "Medium",
            "Low",
            "Low",
            "Low",
            "Medium",
            "High",
            "Low",
            "Low",
            "High",
            "Medium",
            "Low",
            "Low",
            "Low",
            "Low",
            "Low",
            "Low",
            "Medium",
            "High",
            "High",
            "High",
            "Medium",
            "Medium",
            "High",
            "Low",
            "Low",
            "Medium",
            "High",
            "High",
            "Medium",
            "Low",
            "Medium",
            "Low",
            "Medium",
            "Low",
            "Low",
            "Low",
            "Low",
            "Low",
            "Medium",
            "Medium",
            "Medium",
            "High",
            "High",
            "Low",
            "High",
            "High",
            "High",
            "High",
            "Low",
            "Medium",
            "High",
            "Low",
            "Low",
            "Low",
            "Medium",
            "Low",
            "Medium",
            "High",
            "High",
            "Low",
            "High",
            "High",
            "Medium",
            "High",
            "Low",
            "Low",
            "High",
            "High",
            "Medium",
            "High",
            "High",
            "Medium",
            "High",
            "Medium",
            "Medium",
            "High",
            "High",
            "Low",
            "High",
            "High",
            "High",
            "Medium",
            "Low",
            "Medium",
            "Medium",
            "High",
            "Medium",
            "Medium",
            "Medium",
            "Low",
            "Low",
            "Low",
            "Medium",
            "High",
            "High",
            "High",
            "Low",
            "Low",
            "Medium",
            "Medium",
            "Medium",
            "Low",
            "Medium",
            "High",
            "Medium",
            "High",
            "Medium",
            "Low",
            "High",
            "Medium",
            "High",
            "Medium",
            "Medium",
            "Low",
            "High",
            "Low",
            "High",
            "High",
            "High",
            "High",
            "Low",
            "Low",
            "Medium",
            "Low",
            "High",
            "Medium",
            "Medium",
            "Medium",
            "Medium",
            "Low",
            "High",
            "High",
            "Medium",
            "High",
            "High",
            "High",
            "High",
            "High",
            "Medium",
            "High",
            "Medium",
            "Medium",
            "Low",
            "Medium",
            "Low",
            "Low",
            "Medium",
            "Low",
            "Low",
            "Low",
            "Medium",
            "Medium",
            "Medium",
            "Medium",
            "Low",
            "Low",
            "Medium",
            "Low",
            "Low",
            "High",
            "High",
            "High",
            "Medium",
            "Low",
            "Medium",
            "Low",
            "High",
            "High",
            "Low",
            "High",
            "Medium",
            "Medium",
            "Low",
            "Medium",
            "Low",
            "Low",
            "High",
            "High",
            "High",
            "Medium",
            "Low",
            "High",
            "Low",
            "Low",
            "Medium",
            "Low",
            "Medium",
            "High",
            "High",
            "High",
            "High",
            "Medium",
            "Medium",
            "High",
            "High",
            "Medium",
            "Medium",
            "Low",
            "Low",
            "Low",
            "Medium",
            "Medium",
            "Medium",
            "High",
            "High",
            "High",
            "Medium",
            "Low",
            "Low",
            "Low",
            "Low",
            "High",
            "High",
            "Low",
            "High",
            "High",
            "Medium",
            "Low",
            "Medium",
            "Low",
            "High",
            "High",
            "High",
            "Medium",
            "Low",
            "High",
            "Medium",
            "Medium",
            "Medium",
            "High",
            "High",
            "High",
            "Medium",
            "Medium",
            "Medium",
            "High",
            "High",
            "Medium",
            "Medium",
            "Medium",
            "Medium",
            "High",
            "Medium",
            "Low",
            "Medium",
            "Medium",
            "Medium",
            "High",
            "High",
            "Medium",
            "High",
            "High",
            "High",
            "Medium",
            "Medium",
            "High",
            "Medium",
            "Low",
            "High",
            "Medium",
            "Medium",
            "Medium",
            "Low",
            "Medium",
            "Low",
            "Medium",
            "High",
            "High",
            "High",
            "High",
            "Medium",
            "High",
            "Low",
            "Medium",
            "Medium",
            "Medium",
            "Low",
            "Medium",
            "High",
            "High",
            "Medium",
            "Low",
            "Medium",
            "High",
            "High",
            "High",
            "Low",
            "Low",
            "Low",
            "Low",
            "Medium",
            "Medium",
            "Medium",
            "Low",
            "Low",
            "Medium",
            "High",
            "Medium",
            "High",
            "Low",
            "High",
            "High",
            "High",
            "Medium",
            "High",
            "High",
            "Medium",
            "High",
            "Medium",
            "Medium",
            "Medium",
            "High",
            "High",
            "High",
            "High",
            "Medium",
            "Low",
            "Medium",
            "High",
            "Low",
            "Medium",
            "Medium",
            "Low",
            "Medium",
            "Low",
            "Low",
            "Low",
            "Low",
            "Low",
            "Low",
            "Low",
            "Medium",
            "Low",
            "Low",
            "Low",
            "High",
            "Medium",
            "Low",
            "Low",
            "High",
            "High",
            "High",
            "Medium",
            "Medium",
            "Low",
            "Medium",
            "Low",
            "Medium",
            "High",
            "Low",
            "Low",
            "Low",
            "Low",
            "Low",
            "Medium",
            "High",
            "Medium",
            "Low",
            "Low",
            "High",
            "Medium",
            "Medium",
            "Low",
            "Low",
            "Low",
            "Low",
            "Low",
            "Low",
            "Medium",
            "High",
            "High",
            "High",
            "High",
            "Low",
            "Medium",
            "Medium",
            "Low",
            "Low",
            "Low",
            "Medium",
            "Low",
            "Low",
            "Low",
            "Low",
            "Low",
            "Low",
            "Low",
            "Low",
            "Low",
            "Low",
            "Low",
            "Low",
            "Low",
            "Low",
            "Medium",
            "Medium",
            "High",
            "Low",
            "High",
            "High",
            "High",
            "High",
            "Low",
            "High",
            "Low",
            "Low",
            "Low",
            "Low",
            "High",
            "Low",
            "Low",
            "High",
            "Medium",
            "Medium",
            "Medium",
            "High",
            "Low",
            "Low",
            "Medium",
            "Medium",
            "High",
            "High",
            "Low",
            "Medium",
            "Medium",
            "Medium",
            "High",
            "High",
            "Low",
            "High",
            "Medium",
            "High",
            "Medium",
            "Low",
            "High",
            "Low",
            "Low",
            "High",
            "High",
            "Low",
            "Medium",
            "High",
            "High",
            "High",
            "High",
            "Medium",
            "Medium",
            "High",
            "Medium",
            "Low",
            "High",
            "Medium",
            "Low",
            "High",
            "Medium",
            "High",
            "Medium",
            "High",
            "Low",
            "Medium",
            "Low",
            "High",
            "Low"
           ]
          },
          {
           "categoryarray": [
            "High",
            "Medium",
            "Low"
           ],
           "categoryorder": "array",
           "label": "Number of Accidents",
           "values": [
            "Medium",
            "Medium",
            "Low",
            "Medium",
            "Low",
            "Medium",
            "Medium",
            "Medium",
            "High",
            "Medium",
            "Medium",
            "Low",
            "Low",
            "Medium",
            "High",
            "Medium",
            "High",
            "Medium",
            "Low",
            "Low",
            "High",
            "Medium",
            "Low",
            "Low",
            "Low",
            "Low",
            "High",
            "Medium",
            "High",
            "Medium",
            "Low",
            "Medium",
            "Medium",
            "Medium",
            "Medium",
            "Medium",
            "Medium",
            "Low",
            "Medium",
            "High",
            "Medium",
            "Low",
            "Medium",
            "Low",
            "Low",
            "Low",
            "High",
            "Medium",
            "Low",
            "Low",
            "Low",
            "High",
            "Low",
            "Medium",
            "High",
            "Medium",
            "Medium",
            "Medium",
            "Low",
            "Low",
            "Low",
            "Medium",
            "High",
            "Medium",
            "High",
            "Medium",
            "Low",
            "Medium",
            "Medium",
            "Medium",
            "Medium",
            "High",
            "Low",
            "Low",
            "Medium",
            "Medium",
            "Low",
            "Low",
            "Medium",
            "High",
            "Low",
            "Medium",
            "High",
            "High",
            "Medium",
            "Medium",
            "High",
            "Low",
            "Medium",
            "Low",
            "Medium",
            "Low",
            "Low",
            "Medium",
            "Low",
            "High",
            "High",
            "High",
            "High",
            "High",
            "Medium",
            "Low",
            "High",
            "High",
            "Medium",
            "Medium",
            "Medium",
            "Medium",
            "Low",
            "Low",
            "Medium",
            "Medium",
            "Low",
            "Medium",
            "Low",
            "Low",
            "High",
            "Medium",
            "High",
            "High",
            "High",
            "Medium",
            "Low",
            "Medium",
            "High",
            "High",
            "High",
            "Medium",
            "Medium",
            "High",
            "High",
            "High",
            "Medium",
            "Low",
            "Low",
            "Medium",
            "Medium",
            "Low",
            "High",
            "Medium",
            "Low",
            "Low",
            "Medium",
            "Medium",
            "High",
            "High",
            "High",
            "Medium",
            "Medium",
            "Medium",
            "High",
            "Low",
            "High",
            "High",
            "Low",
            "Low",
            "High",
            "High",
            "Medium",
            "High",
            "Medium",
            "Low",
            "Medium",
            "High",
            "Medium",
            "Medium",
            "High",
            "High",
            "Medium",
            "Medium",
            "High",
            "Low",
            "High",
            "High",
            "High",
            "High",
            "Low",
            "High",
            "High",
            "High",
            "High",
            "Low",
            "Low",
            "Medium",
            "Low",
            "Low",
            "Low",
            "Medium",
            "Low",
            "Low",
            "Low",
            "Medium",
            "Low",
            "High",
            "High",
            "Low",
            "Low",
            "High",
            "High",
            "High",
            "High",
            "Low",
            "Low",
            "High",
            "High",
            "Low",
            "High",
            "High",
            "Low",
            "Low",
            "High",
            "Medium",
            "Medium",
            "Medium",
            "High",
            "Medium",
            "Low",
            "High",
            "High",
            "High",
            "High",
            "Medium",
            "Medium",
            "Low",
            "High",
            "High",
            "Medium",
            "Medium",
            "High",
            "Low",
            "Medium",
            "Medium",
            "Medium",
            "High",
            "High",
            "Low",
            "Low",
            "Medium",
            "Low",
            "Medium",
            "Medium",
            "Low",
            "Low",
            "Low",
            "High",
            "High",
            "High",
            "High",
            "Medium",
            "Low",
            "Low",
            "High",
            "High",
            "Medium",
            "Low",
            "Medium",
            "Low",
            "High",
            "Medium",
            "Medium",
            "High",
            "Medium",
            "Low",
            "Low",
            "High",
            "Medium",
            "Low",
            "Low",
            "High",
            "Low",
            "Low",
            "High",
            "High",
            "Medium",
            "High",
            "Medium",
            "Low",
            "Medium",
            "High",
            "High",
            "High",
            "High",
            "Low",
            "Medium",
            "Low",
            "High",
            "Medium",
            "Medium",
            "Medium",
            "Low",
            "Low",
            "High",
            "Medium",
            "Medium",
            "High",
            "Low",
            "Low",
            "Low",
            "Medium",
            "Medium",
            "Medium",
            "High",
            "Medium",
            "Low",
            "Medium",
            "High",
            "Medium",
            "High",
            "High",
            "High",
            "Low",
            "Low",
            "High",
            "Medium",
            "Low",
            "Medium",
            "Medium",
            "Low",
            "High",
            "Low",
            "Medium",
            "Medium",
            "Low",
            "Low",
            "High",
            "Low",
            "High",
            "Medium",
            "Low",
            "Low",
            "Low",
            "Low",
            "Low",
            "Low",
            "Medium",
            "High",
            "Low",
            "Low",
            "Low",
            "Low",
            "High",
            "Medium",
            "High",
            "Low",
            "Low",
            "High",
            "Medium",
            "High",
            "High",
            "Medium",
            "Low",
            "Low",
            "Medium",
            "Medium",
            "High",
            "High",
            "Low",
            "Low",
            "Medium",
            "Medium",
            "High",
            "Low",
            "High",
            "Low",
            "Low",
            "Low",
            "Low",
            "High",
            "Low",
            "High",
            "Low",
            "Medium",
            "High",
            "High",
            "High",
            "Medium",
            "Low",
            "Low",
            "Low",
            "Low",
            "High",
            "Medium",
            "Medium",
            "Low",
            "Low",
            "Low",
            "Medium",
            "Medium",
            "Medium",
            "Low",
            "Low",
            "Low",
            "Low",
            "High",
            "Medium",
            "Medium",
            "Medium",
            "Medium",
            "Low",
            "Low",
            "Medium",
            "Low",
            "High",
            "Low",
            "Low",
            "Medium",
            "High",
            "High",
            "High",
            "Medium",
            "Low",
            "Low",
            "Low",
            "Medium",
            "High",
            "Medium",
            "Medium",
            "Low",
            "Low",
            "High",
            "High",
            "Medium",
            "Medium",
            "Medium",
            "Low",
            "Low",
            "Low",
            "Medium",
            "Low",
            "High",
            "High",
            "Low",
            "Low",
            "High",
            "High",
            "High",
            "Medium",
            "Medium",
            "Low",
            "High",
            "High",
            "High",
            "High",
            "High",
            "Low",
            "Low",
            "Medium",
            "High",
            "Medium",
            "High",
            "High",
            "Low",
            "Low",
            "Low",
            "Medium",
            "Medium",
            "High",
            "High",
            "Medium",
            "High",
            "High",
            "Medium",
            "High",
            "Medium",
            "Low",
            "High",
            "High",
            "High",
            "Medium",
            "Medium",
            "Medium",
            "Low",
            "Low",
            "Low",
            "Low",
            "Low",
            "Low",
            "Low",
            "Low",
            "Low",
            "Low",
            "Low",
            "Medium",
            "Low",
            "Low",
            "Low",
            "Low",
            "Low",
            "Low",
            "Low",
            "Low",
            "Low",
            "Low",
            "Low",
            "High",
            "Low",
            "Medium",
            "High",
            "High",
            "Low",
            "Low",
            "Low",
            "Low",
            "High",
            "High",
            "High",
            "High",
            "Medium",
            "Medium",
            "High",
            "Low",
            "Low",
            "Medium",
            "Low",
            "Low",
            "Low",
            "Medium"
           ]
          }
         ],
         "line": {
          "color": [
           0,
           0,
           2,
           0,
           2,
           0,
           0,
           0,
           1,
           0,
           0,
           2,
           2,
           0,
           1,
           0,
           1,
           0,
           2,
           2,
           1,
           0,
           2,
           2,
           2,
           2,
           1,
           0,
           1,
           0,
           2,
           0,
           0,
           0,
           0,
           0,
           0,
           2,
           0,
           1,
           0,
           2,
           0,
           2,
           2,
           2,
           1,
           0,
           2,
           2,
           2,
           1,
           2,
           0,
           1,
           0,
           0,
           0,
           2,
           2,
           2,
           0,
           1,
           0,
           1,
           0,
           2,
           0,
           0,
           0,
           0,
           1,
           2,
           2,
           0,
           0,
           2,
           2,
           0,
           1,
           2,
           0,
           1,
           1,
           0,
           0,
           1,
           2,
           0,
           2,
           0,
           2,
           2,
           0,
           2,
           1,
           1,
           1,
           1,
           1,
           0,
           2,
           1,
           1,
           0,
           0,
           0,
           0,
           2,
           2,
           0,
           0,
           2,
           0,
           2,
           2,
           1,
           0,
           1,
           1,
           1,
           0,
           2,
           0,
           1,
           1,
           1,
           0,
           0,
           1,
           1,
           1,
           0,
           2,
           2,
           0,
           0,
           2,
           1,
           0,
           2,
           2,
           0,
           0,
           1,
           1,
           1,
           0,
           0,
           0,
           1,
           2,
           1,
           1,
           2,
           2,
           1,
           1,
           0,
           1,
           0,
           2,
           0,
           1,
           0,
           0,
           1,
           1,
           0,
           0,
           1,
           2,
           1,
           1,
           1,
           1,
           2,
           1,
           1,
           1,
           1,
           2,
           2,
           0,
           2,
           2,
           2,
           0,
           2,
           2,
           2,
           0,
           2,
           1,
           1,
           2,
           2,
           1,
           1,
           1,
           1,
           2,
           2,
           1,
           1,
           2,
           1,
           1,
           2,
           2,
           1,
           0,
           0,
           0,
           1,
           0,
           2,
           1,
           1,
           1,
           1,
           0,
           0,
           2,
           1,
           1,
           0,
           0,
           1,
           2,
           0,
           0,
           0,
           1,
           1,
           2,
           2,
           0,
           2,
           0,
           0,
           2,
           2,
           2,
           1,
           1,
           1,
           1,
           0,
           2,
           2,
           1,
           1,
           0,
           2,
           0,
           2,
           1,
           0,
           0,
           1,
           0,
           2,
           2,
           1,
           0,
           2,
           2,
           1,
           2,
           2,
           1,
           1,
           0,
           1,
           0,
           2,
           0,
           1,
           1,
           1,
           1,
           2,
           0,
           2,
           1,
           0,
           0,
           0,
           2,
           2,
           1,
           0,
           0,
           1,
           2,
           2,
           2,
           0,
           0,
           0,
           1,
           0,
           2,
           0,
           1,
           0,
           1,
           1,
           1,
           2,
           2,
           1,
           0,
           2,
           0,
           0,
           2,
           1,
           2,
           0,
           0,
           2,
           2,
           1,
           2,
           1,
           0,
           2,
           2,
           2,
           2,
           2,
           2,
           0,
           1,
           2,
           2,
           2,
           2,
           1,
           0,
           1,
           2,
           2,
           1,
           0,
           1,
           1,
           0,
           2,
           2,
           0,
           0,
           1,
           1,
           2,
           2,
           0,
           0,
           1,
           2,
           1,
           2,
           2,
           2,
           2,
           1,
           2,
           1,
           2,
           0,
           1,
           1,
           1,
           0,
           2,
           2,
           2,
           2,
           1,
           0,
           0,
           2,
           2,
           2,
           0,
           0,
           0,
           2,
           2,
           2,
           2,
           1,
           0,
           0,
           0,
           0,
           2,
           2,
           0,
           2,
           1,
           2,
           2,
           0,
           1,
           1,
           1,
           0,
           2,
           2,
           2,
           0,
           1,
           0,
           0,
           2,
           2,
           1,
           1,
           0,
           0,
           0,
           2,
           2,
           2,
           0,
           2,
           1,
           1,
           2,
           2,
           1,
           1,
           1,
           0,
           0,
           2,
           1,
           1,
           1,
           1,
           1,
           2,
           2,
           0,
           1,
           0,
           1,
           1,
           2,
           2,
           2,
           0,
           0,
           1,
           1,
           0,
           1,
           1,
           0,
           1,
           0,
           2,
           1,
           1,
           1,
           0,
           0,
           0,
           2,
           2,
           2,
           2,
           2,
           2,
           2,
           2,
           2,
           2,
           2,
           0,
           2,
           2,
           2,
           2,
           2,
           2,
           2,
           2,
           2,
           2,
           2,
           1,
           2,
           0,
           1,
           1,
           2,
           2,
           2,
           2,
           1,
           1,
           1,
           1,
           0,
           0,
           1,
           2,
           2,
           0,
           2,
           2,
           2,
           0
          ],
          "colorscale": [
           [
            0,
            "rgb(102,194,165)"
           ],
           [
            0.5,
            "rgb(252,141,98)"
           ],
           [
            1,
            "rgb(141,160,203)"
           ]
          ]
         },
         "type": "parcats"
        }
       ],
       "layout": {
        "height": 600,
        "template": {
         "data": {
          "bar": [
           {
            "error_x": {
             "color": "#2a3f5f"
            },
            "error_y": {
             "color": "#2a3f5f"
            },
            "marker": {
             "line": {
              "color": "#E5ECF6",
              "width": 0.5
             },
             "pattern": {
              "fillmode": "overlay",
              "size": 10,
              "solidity": 0.2
             }
            },
            "type": "bar"
           }
          ],
          "barpolar": [
           {
            "marker": {
             "line": {
              "color": "#E5ECF6",
              "width": 0.5
             },
             "pattern": {
              "fillmode": "overlay",
              "size": 10,
              "solidity": 0.2
             }
            },
            "type": "barpolar"
           }
          ],
          "carpet": [
           {
            "aaxis": {
             "endlinecolor": "#2a3f5f",
             "gridcolor": "white",
             "linecolor": "white",
             "minorgridcolor": "white",
             "startlinecolor": "#2a3f5f"
            },
            "baxis": {
             "endlinecolor": "#2a3f5f",
             "gridcolor": "white",
             "linecolor": "white",
             "minorgridcolor": "white",
             "startlinecolor": "#2a3f5f"
            },
            "type": "carpet"
           }
          ],
          "choropleth": [
           {
            "colorbar": {
             "outlinewidth": 0,
             "ticks": ""
            },
            "type": "choropleth"
           }
          ],
          "contour": [
           {
            "colorbar": {
             "outlinewidth": 0,
             "ticks": ""
            },
            "colorscale": [
             [
              0,
              "#0d0887"
             ],
             [
              0.1111111111111111,
              "#46039f"
             ],
             [
              0.2222222222222222,
              "#7201a8"
             ],
             [
              0.3333333333333333,
              "#9c179e"
             ],
             [
              0.4444444444444444,
              "#bd3786"
             ],
             [
              0.5555555555555556,
              "#d8576b"
             ],
             [
              0.6666666666666666,
              "#ed7953"
             ],
             [
              0.7777777777777778,
              "#fb9f3a"
             ],
             [
              0.8888888888888888,
              "#fdca26"
             ],
             [
              1,
              "#f0f921"
             ]
            ],
            "type": "contour"
           }
          ],
          "contourcarpet": [
           {
            "colorbar": {
             "outlinewidth": 0,
             "ticks": ""
            },
            "type": "contourcarpet"
           }
          ],
          "heatmap": [
           {
            "colorbar": {
             "outlinewidth": 0,
             "ticks": ""
            },
            "colorscale": [
             [
              0,
              "#0d0887"
             ],
             [
              0.1111111111111111,
              "#46039f"
             ],
             [
              0.2222222222222222,
              "#7201a8"
             ],
             [
              0.3333333333333333,
              "#9c179e"
             ],
             [
              0.4444444444444444,
              "#bd3786"
             ],
             [
              0.5555555555555556,
              "#d8576b"
             ],
             [
              0.6666666666666666,
              "#ed7953"
             ],
             [
              0.7777777777777778,
              "#fb9f3a"
             ],
             [
              0.8888888888888888,
              "#fdca26"
             ],
             [
              1,
              "#f0f921"
             ]
            ],
            "type": "heatmap"
           }
          ],
          "heatmapgl": [
           {
            "colorbar": {
             "outlinewidth": 0,
             "ticks": ""
            },
            "colorscale": [
             [
              0,
              "#0d0887"
             ],
             [
              0.1111111111111111,
              "#46039f"
             ],
             [
              0.2222222222222222,
              "#7201a8"
             ],
             [
              0.3333333333333333,
              "#9c179e"
             ],
             [
              0.4444444444444444,
              "#bd3786"
             ],
             [
              0.5555555555555556,
              "#d8576b"
             ],
             [
              0.6666666666666666,
              "#ed7953"
             ],
             [
              0.7777777777777778,
              "#fb9f3a"
             ],
             [
              0.8888888888888888,
              "#fdca26"
             ],
             [
              1,
              "#f0f921"
             ]
            ],
            "type": "heatmapgl"
           }
          ],
          "histogram": [
           {
            "marker": {
             "pattern": {
              "fillmode": "overlay",
              "size": 10,
              "solidity": 0.2
             }
            },
            "type": "histogram"
           }
          ],
          "histogram2d": [
           {
            "colorbar": {
             "outlinewidth": 0,
             "ticks": ""
            },
            "colorscale": [
             [
              0,
              "#0d0887"
             ],
             [
              0.1111111111111111,
              "#46039f"
             ],
             [
              0.2222222222222222,
              "#7201a8"
             ],
             [
              0.3333333333333333,
              "#9c179e"
             ],
             [
              0.4444444444444444,
              "#bd3786"
             ],
             [
              0.5555555555555556,
              "#d8576b"
             ],
             [
              0.6666666666666666,
              "#ed7953"
             ],
             [
              0.7777777777777778,
              "#fb9f3a"
             ],
             [
              0.8888888888888888,
              "#fdca26"
             ],
             [
              1,
              "#f0f921"
             ]
            ],
            "type": "histogram2d"
           }
          ],
          "histogram2dcontour": [
           {
            "colorbar": {
             "outlinewidth": 0,
             "ticks": ""
            },
            "colorscale": [
             [
              0,
              "#0d0887"
             ],
             [
              0.1111111111111111,
              "#46039f"
             ],
             [
              0.2222222222222222,
              "#7201a8"
             ],
             [
              0.3333333333333333,
              "#9c179e"
             ],
             [
              0.4444444444444444,
              "#bd3786"
             ],
             [
              0.5555555555555556,
              "#d8576b"
             ],
             [
              0.6666666666666666,
              "#ed7953"
             ],
             [
              0.7777777777777778,
              "#fb9f3a"
             ],
             [
              0.8888888888888888,
              "#fdca26"
             ],
             [
              1,
              "#f0f921"
             ]
            ],
            "type": "histogram2dcontour"
           }
          ],
          "mesh3d": [
           {
            "colorbar": {
             "outlinewidth": 0,
             "ticks": ""
            },
            "type": "mesh3d"
           }
          ],
          "parcoords": [
           {
            "line": {
             "colorbar": {
              "outlinewidth": 0,
              "ticks": ""
             }
            },
            "type": "parcoords"
           }
          ],
          "pie": [
           {
            "automargin": true,
            "type": "pie"
           }
          ],
          "scatter": [
           {
            "fillpattern": {
             "fillmode": "overlay",
             "size": 10,
             "solidity": 0.2
            },
            "type": "scatter"
           }
          ],
          "scatter3d": [
           {
            "line": {
             "colorbar": {
              "outlinewidth": 0,
              "ticks": ""
             }
            },
            "marker": {
             "colorbar": {
              "outlinewidth": 0,
              "ticks": ""
             }
            },
            "type": "scatter3d"
           }
          ],
          "scattercarpet": [
           {
            "marker": {
             "colorbar": {
              "outlinewidth": 0,
              "ticks": ""
             }
            },
            "type": "scattercarpet"
           }
          ],
          "scattergeo": [
           {
            "marker": {
             "colorbar": {
              "outlinewidth": 0,
              "ticks": ""
             }
            },
            "type": "scattergeo"
           }
          ],
          "scattergl": [
           {
            "marker": {
             "colorbar": {
              "outlinewidth": 0,
              "ticks": ""
             }
            },
            "type": "scattergl"
           }
          ],
          "scattermapbox": [
           {
            "marker": {
             "colorbar": {
              "outlinewidth": 0,
              "ticks": ""
             }
            },
            "type": "scattermapbox"
           }
          ],
          "scatterpolar": [
           {
            "marker": {
             "colorbar": {
              "outlinewidth": 0,
              "ticks": ""
             }
            },
            "type": "scatterpolar"
           }
          ],
          "scatterpolargl": [
           {
            "marker": {
             "colorbar": {
              "outlinewidth": 0,
              "ticks": ""
             }
            },
            "type": "scatterpolargl"
           }
          ],
          "scatterternary": [
           {
            "marker": {
             "colorbar": {
              "outlinewidth": 0,
              "ticks": ""
             }
            },
            "type": "scatterternary"
           }
          ],
          "surface": [
           {
            "colorbar": {
             "outlinewidth": 0,
             "ticks": ""
            },
            "colorscale": [
             [
              0,
              "#0d0887"
             ],
             [
              0.1111111111111111,
              "#46039f"
             ],
             [
              0.2222222222222222,
              "#7201a8"
             ],
             [
              0.3333333333333333,
              "#9c179e"
             ],
             [
              0.4444444444444444,
              "#bd3786"
             ],
             [
              0.5555555555555556,
              "#d8576b"
             ],
             [
              0.6666666666666666,
              "#ed7953"
             ],
             [
              0.7777777777777778,
              "#fb9f3a"
             ],
             [
              0.8888888888888888,
              "#fdca26"
             ],
             [
              1,
              "#f0f921"
             ]
            ],
            "type": "surface"
           }
          ],
          "table": [
           {
            "cells": {
             "fill": {
              "color": "#EBF0F8"
             },
             "line": {
              "color": "white"
             }
            },
            "header": {
             "fill": {
              "color": "#C8D4E3"
             },
             "line": {
              "color": "white"
             }
            },
            "type": "table"
           }
          ]
         },
         "layout": {
          "annotationdefaults": {
           "arrowcolor": "#2a3f5f",
           "arrowhead": 0,
           "arrowwidth": 1
          },
          "autotypenumbers": "strict",
          "coloraxis": {
           "colorbar": {
            "outlinewidth": 0,
            "ticks": ""
           }
          },
          "colorscale": {
           "diverging": [
            [
             0,
             "#8e0152"
            ],
            [
             0.1,
             "#c51b7d"
            ],
            [
             0.2,
             "#de77ae"
            ],
            [
             0.3,
             "#f1b6da"
            ],
            [
             0.4,
             "#fde0ef"
            ],
            [
             0.5,
             "#f7f7f7"
            ],
            [
             0.6,
             "#e6f5d0"
            ],
            [
             0.7,
             "#b8e186"
            ],
            [
             0.8,
             "#7fbc41"
            ],
            [
             0.9,
             "#4d9221"
            ],
            [
             1,
             "#276419"
            ]
           ],
           "sequential": [
            [
             0,
             "#0d0887"
            ],
            [
             0.1111111111111111,
             "#46039f"
            ],
            [
             0.2222222222222222,
             "#7201a8"
            ],
            [
             0.3333333333333333,
             "#9c179e"
            ],
            [
             0.4444444444444444,
             "#bd3786"
            ],
            [
             0.5555555555555556,
             "#d8576b"
            ],
            [
             0.6666666666666666,
             "#ed7953"
            ],
            [
             0.7777777777777778,
             "#fb9f3a"
            ],
            [
             0.8888888888888888,
             "#fdca26"
            ],
            [
             1,
             "#f0f921"
            ]
           ],
           "sequentialminus": [
            [
             0,
             "#0d0887"
            ],
            [
             0.1111111111111111,
             "#46039f"
            ],
            [
             0.2222222222222222,
             "#7201a8"
            ],
            [
             0.3333333333333333,
             "#9c179e"
            ],
            [
             0.4444444444444444,
             "#bd3786"
            ],
            [
             0.5555555555555556,
             "#d8576b"
            ],
            [
             0.6666666666666666,
             "#ed7953"
            ],
            [
             0.7777777777777778,
             "#fb9f3a"
            ],
            [
             0.8888888888888888,
             "#fdca26"
            ],
            [
             1,
             "#f0f921"
            ]
           ]
          },
          "colorway": [
           "#636efa",
           "#EF553B",
           "#00cc96",
           "#ab63fa",
           "#FFA15A",
           "#19d3f3",
           "#FF6692",
           "#B6E880",
           "#FF97FF",
           "#FECB52"
          ],
          "font": {
           "color": "#2a3f5f"
          },
          "geo": {
           "bgcolor": "white",
           "lakecolor": "white",
           "landcolor": "#E5ECF6",
           "showlakes": true,
           "showland": true,
           "subunitcolor": "white"
          },
          "hoverlabel": {
           "align": "left"
          },
          "hovermode": "closest",
          "mapbox": {
           "style": "light"
          },
          "paper_bgcolor": "white",
          "plot_bgcolor": "#E5ECF6",
          "polar": {
           "angularaxis": {
            "gridcolor": "white",
            "linecolor": "white",
            "ticks": ""
           },
           "bgcolor": "#E5ECF6",
           "radialaxis": {
            "gridcolor": "white",
            "linecolor": "white",
            "ticks": ""
           }
          },
          "scene": {
           "xaxis": {
            "backgroundcolor": "#E5ECF6",
            "gridcolor": "white",
            "gridwidth": 2,
            "linecolor": "white",
            "showbackground": true,
            "ticks": "",
            "zerolinecolor": "white"
           },
           "yaxis": {
            "backgroundcolor": "#E5ECF6",
            "gridcolor": "white",
            "gridwidth": 2,
            "linecolor": "white",
            "showbackground": true,
            "ticks": "",
            "zerolinecolor": "white"
           },
           "zaxis": {
            "backgroundcolor": "#E5ECF6",
            "gridcolor": "white",
            "gridwidth": 2,
            "linecolor": "white",
            "showbackground": true,
            "ticks": "",
            "zerolinecolor": "white"
           }
          },
          "shapedefaults": {
           "line": {
            "color": "#2a3f5f"
           }
          },
          "ternary": {
           "aaxis": {
            "gridcolor": "white",
            "linecolor": "white",
            "ticks": ""
           },
           "baxis": {
            "gridcolor": "white",
            "linecolor": "white",
            "ticks": ""
           },
           "bgcolor": "#E5ECF6",
           "caxis": {
            "gridcolor": "white",
            "linecolor": "white",
            "ticks": ""
           }
          },
          "title": {
           "x": 0.05
          },
          "xaxis": {
           "automargin": true,
           "gridcolor": "white",
           "linecolor": "white",
           "ticks": "",
           "title": {
            "standoff": 15
           },
           "zerolinecolor": "white",
           "zerolinewidth": 2
          },
          "yaxis": {
           "automargin": true,
           "gridcolor": "white",
           "linecolor": "white",
           "ticks": "",
           "title": {
            "standoff": 15
           },
           "zerolinecolor": "white",
           "zerolinewidth": 2
          }
         }
        },
        "title": {
         "text": "Number of Accidents in Different Weather"
        }
       }
      }
     },
     "metadata": {},
     "output_type": "display_data"
    }
   ],
   "source": [
    "import pandas as pd\n",
    "import plotly.graph_objects as go\n",
    "import plotly.express as px\n",
    "\n",
    "# datasets importen\n",
    "df = pd.read_csv('../resources/dataset_weather/weather_accidents.csv')\n",
    "\n",
    "# Filter the df to detroit\n",
    "df_detroit = df[df['City'] == 'Detroit']\n",
    "\n",
    "# Drop irralevant columns\n",
    "df_detroit = df_detroit.drop(columns=['Severity', 'City'])\n",
    "\n",
    "# Count the entries per day\n",
    "accident_count = df_detroit['Date'].value_counts().sort_index()\n",
    "\n",
    "# Merge count with df\n",
    "df_detroit_count = pd.merge(df_detroit, accident_count, left_on=['Date'], right_on=[accident_count.index])\n",
    "\n",
    "# Group dataframe by date\n",
    "df_detroit_count = df_detroit_count.groupby('Date').mean()\n",
    "df_detroit_count = df_detroit_count.reset_index()\n",
    "\n",
    "# Converting the the dates to the names of the month\n",
    "df_detroit_count['Date'] = pd.to_datetime(df_detroit_count['Date'])\n",
    "df_detroit_count['Date'] = df_detroit_count['Date'].dt.month_name()\n",
    "\n",
    "# Binning so the plot will show nice catagories\n",
    "df_detroit_count['Temp_bins'] = pd.cut(df_detroit_count['Temperature'], [0,275,1000], labels=['Freezing', 'Not Freezing'])\n",
    "df_detroit_count['Humidity_bins'] = pd.qcut(df_detroit_count['Humidity'], q=3, labels=['Low','Medium','High'])\n",
    "df_detroit_count['Wind_Speed_bins'] = pd.qcut(df_detroit_count['Wind_Speed_km'], q=3, labels=['Low','Medium','High'])\n",
    "df_detroit_count['count_bins'] = pd.qcut(df_detroit_count['count'], q=3, labels=['Low','Medium','High'])\n",
    "\n",
    "\n",
    "# Creating the dimensions for the plot\n",
    "dimensions=[\n",
    "    {'label': 'Month', 'values': df_detroit_count['Date']},\n",
    "    {'label': 'Temperature', 'values': df_detroit_count['Temp_bins'], 'categoryarray': ['Not Freezing', 'Freezing'] ,\"categoryorder\": \"array\"},\n",
    "    {'label': 'Humidity', 'values': df_detroit_count['Humidity_bins'], 'categoryarray': ['High','Medium', 'Low'] ,\"categoryorder\": \"array\"},\n",
    "    {'label': 'Wind Speed', 'values': df_detroit_count['Wind_Speed_bins'], 'categoryarray': ['High','Medium', 'Low'] ,\"categoryorder\": \"array\"},\n",
    "    {'label': 'Number of Accidents', 'values': df_detroit_count['count_bins'], 'categoryarray': ['High','Medium', 'Low'] ,\"categoryorder\": \"array\"}\n",
    "]\n",
    "\n",
    "color_values = dimensions[-1]['values']\n",
    "unique_values = list(set(color_values))\n",
    "color_map = {value: idx for idx, value in enumerate(unique_values)}\n",
    "color_scale = ['rgb(102,194,165)', 'rgb(252,141,98)', 'rgb(141,160,203)']\n",
    "\n",
    "# Map the color values to the color indices\n",
    "line_colors = [color_map[value] for value in color_values]\n",
    "\n",
    "\n",
    "# Create the parcats chart\n",
    "fig = go.Figure(data = [go.Parcats(\n",
    "    dimensions=dimensions,\n",
    "    line={'color': line_colors, 'colorscale': color_scale}\n",
    ")])\n",
    "fig.update_layout(\n",
    "    title='Number of Accidents in Different Weather',\n",
    "    height=600)\n",
    "\n",
    "# Show the diagram\n",
    "fig.show()"
   ]
  },
  {
   "cell_type": "markdown",
   "metadata": {},
   "source": [
    "### Number of accidents and Weather scores\n",
    "The two Bubble Maps are meant to put the correlation between our weather-score, and the amount of accidents in a city, into perspective. In the final version we want to make this 1 big plot instead of two smaller ones, but we ran out of time. We will also look into other variables that might have an effect on the er of accidents(like the total amount of roads in an area)."
   ]
  },
  {
   "cell_type": "code",
   "execution_count": 2,
   "metadata": {},
   "outputs": [],
   "source": [
    "# from matplotlib import scale\n",
    "# import pandas as pd\n",
    "# import plotly.graph_objects as go\n",
    "\n",
    "# df = pd.read_csv('../resources/BubbleMapData.csv')\n",
    "# groottes = [(0, 5), (5, 50), (50, 500), (500, 5000), (5000, 500000)]\n",
    "# colors = [\"Black\", \"Yellow\", \"Red\", \"Green\", \"Blue\"]\n",
    "\n",
    "# scale = 0.01\n",
    "\n",
    "# fig = go.Figure()\n",
    "\n",
    "# for i in range(len(groottes)):\n",
    "#     lim = groottes[i]\n",
    "#     df_sub = df[(df['ongelukken'] >= lim[0]) & (df['ongelukken'] < lim[1])]\n",
    "#     fig.add_trace(go.Scattergeo(\n",
    "#         locationmode='USA-states',\n",
    "#         lon=df_sub['lng'],\n",
    "#         lat=df_sub['lat'],\n",
    "#         text=df_sub['City'] + ': ' + df_sub['ongelukken'].astype(str) + ' ongelukken',\n",
    "#         mode='markers',\n",
    "#         marker=dict(\n",
    "#             size=df_sub['ongelukken'] * scale,\n",
    "#             color=colors[i],\n",
    "#             line_color='rgb(40,40,40)',\n",
    "#             line_width=0.5,\n",
    "#             sizemode='area'\n",
    "#         ),\n",
    "#         name=f'{lim[0]} - {lim[1]} accidents'\n",
    "#     ))\n",
    "\n",
    "# fig.update_layout(\n",
    "#     title_text='Number of accidents in the VS for each city',\n",
    "#     showlegend=True,\n",
    "#     geo=dict(\n",
    "#         scope='usa',\n",
    "#         landcolor='rgb(217, 217, 217)',\n",
    "#     )\n",
    "# )\n",
    "\n",
    "# fig.show()"
   ]
  },
  {
   "cell_type": "code",
   "execution_count": 3,
   "metadata": {},
   "outputs": [],
   "source": [
    "# from matplotlib import scale\n",
    "# import pandas as pd\n",
    "# import plotly.express as px\n",
    "# import plotly.graph_objects as go\n",
    "\n",
    "# df = pd.read_csv('../resources/dataset_weather/WeatherBubbleData.csv')\n",
    "\n",
    "# grootte = [(0,0.30),(0.30,0.35),(0.35,0.40),(0.40,0.45),(0.45,0.50),(0.50,1)]\n",
    "# color_scale = px.colors.diverging.Tealrose\n",
    "\n",
    "# def assign_size(score):\n",
    "#     for i, (min_range, max_range) in enumerate(grootte):\n",
    "#         if min_range <= score < max_range:\n",
    "#             return (i + 1) * 5 \n",
    "#     return 5 \n",
    "\n",
    "\n",
    "# hover_text = []\n",
    "# for index, row in df.iterrows():\n",
    "#     hover_text.append(f\"City: {row['city']}<br>Score: {row['score']}\")\n",
    "\n",
    "\n",
    "# fig = go.Figure()\n",
    "\n",
    "# fig.add_trace(go.Scattergeo(\n",
    "#     locationmode='USA-states',\n",
    "#     lon=df['lng'],\n",
    "#     lat=df['lat'],\n",
    "#     mode='markers',\n",
    "#     marker=dict(\n",
    "#         size=[assign_size(score) for score in df['score']],\n",
    "#         color=df['score'],\n",
    "#         colorscale=color_scale,  \n",
    "#         colorbar=dict(title='Weather Score'),  \n",
    "#         line_color='rgb(40, 40, 40)',\n",
    "#         line_width=0.5,\n",
    "#         sizemode='diameter', \n",
    "#         opacity=0.8\n",
    "#     ),\n",
    "#     text=hover_text,  \n",
    "#     hoverinfo='text',  \n",
    "# ))\n",
    "\n",
    "# fig.update_layout(\n",
    "#     title='Weather scores for the big American cities',\n",
    "#     geo=dict(\n",
    "#         scope='usa',\n",
    "#         landcolor='rgb(217, 217, 217)',\n",
    "#     )\n",
    "# )\n",
    "\n",
    "\n",
    "# fig.show()"
   ]
  },
  {
   "cell_type": "markdown",
   "metadata": {},
   "source": [
    "### Effect of freezing \n",
    "\n",
    "When analysing this graph, some noticable features are the amount of accidents per datapoint rather than it being spread out evenly. This is because the only datapoints in the graphed dataset are days with freezing temperatures the datapoints are only of one state so the data is lower than graph beforementioned graph with all cities combined. "
   ]
  },
  {
   "cell_type": "code",
   "execution_count": 7,
   "metadata": {
    "tags": [
     "hide-input"
    ]
   },
   "outputs": [
    {
     "data": {
      "application/vnd.plotly.v1+json": {
       "config": {
        "plotlyServerURL": "https://plot.ly"
       },
       "data": [
        {
         "alignmentgroup": "True",
         "hovertemplate": "Temp_bins=%{x}<br>count=%{y}<extra></extra>",
         "legendgroup": "",
         "marker": {
          "color": "#636efa"
         },
         "name": "",
         "notched": false,
         "offsetgroup": "",
         "orientation": "v",
         "showlegend": false,
         "type": "box",
         "x": [
          "Not Freezing",
          "Not Freezing",
          "Not Freezing",
          "Not Freezing",
          "Not Freezing",
          "Not Freezing",
          "Not Freezing",
          "Not Freezing",
          "Not Freezing",
          "Not Freezing",
          "Freezing",
          "Not Freezing",
          "Not Freezing",
          "Not Freezing",
          "Not Freezing",
          "Not Freezing",
          "Not Freezing",
          "Not Freezing",
          "Not Freezing",
          "Not Freezing",
          "Freezing",
          "Not Freezing",
          "Not Freezing",
          "Not Freezing",
          "Not Freezing",
          "Not Freezing",
          "Not Freezing",
          "Not Freezing",
          "Not Freezing",
          "Not Freezing",
          "Not Freezing",
          "Not Freezing",
          "Not Freezing",
          "Not Freezing",
          "Not Freezing",
          "Not Freezing",
          "Not Freezing",
          "Not Freezing",
          "Not Freezing",
          "Freezing",
          "Not Freezing",
          "Not Freezing",
          "Freezing",
          "Not Freezing",
          "Not Freezing",
          "Not Freezing",
          "Not Freezing",
          "Not Freezing",
          "Not Freezing",
          "Not Freezing",
          "Freezing",
          "Not Freezing",
          "Not Freezing",
          "Not Freezing",
          "Not Freezing",
          "Not Freezing",
          "Not Freezing",
          "Not Freezing",
          "Not Freezing",
          "Not Freezing",
          "Not Freezing",
          "Not Freezing",
          "Not Freezing",
          "Not Freezing",
          "Not Freezing",
          "Not Freezing",
          "Not Freezing",
          "Not Freezing",
          "Not Freezing",
          "Not Freezing",
          "Not Freezing",
          "Freezing",
          "Not Freezing",
          "Freezing",
          "Not Freezing",
          "Not Freezing",
          "Not Freezing",
          "Not Freezing",
          "Not Freezing",
          "Not Freezing",
          "Not Freezing",
          "Freezing",
          "Not Freezing",
          "Not Freezing",
          "Not Freezing",
          "Not Freezing",
          "Not Freezing",
          "Not Freezing",
          "Not Freezing",
          "Not Freezing",
          "Not Freezing",
          "Not Freezing",
          "Not Freezing",
          "Not Freezing",
          "Not Freezing",
          "Not Freezing",
          "Not Freezing",
          "Not Freezing",
          "Not Freezing",
          "Not Freezing",
          "Not Freezing",
          "Freezing",
          "Not Freezing",
          "Freezing",
          "Not Freezing",
          "Not Freezing",
          "Not Freezing",
          "Not Freezing",
          "Not Freezing",
          "Not Freezing",
          "Not Freezing",
          "Freezing",
          "Not Freezing",
          "Not Freezing",
          "Not Freezing",
          "Not Freezing",
          "Not Freezing",
          "Not Freezing",
          "Not Freezing",
          "Not Freezing",
          "Not Freezing",
          "Not Freezing",
          "Not Freezing",
          "Not Freezing",
          "Not Freezing",
          "Not Freezing",
          "Not Freezing",
          "Not Freezing",
          "Not Freezing",
          "Freezing",
          "Freezing",
          "Not Freezing",
          "Not Freezing",
          "Not Freezing",
          "Not Freezing",
          "Not Freezing",
          "Not Freezing",
          "Not Freezing",
          "Not Freezing",
          "Not Freezing",
          "Freezing",
          "Not Freezing",
          "Not Freezing",
          "Not Freezing",
          "Not Freezing",
          "Not Freezing",
          "Not Freezing",
          "Not Freezing",
          "Freezing",
          "Freezing",
          "Freezing",
          "Freezing",
          "Not Freezing",
          "Not Freezing",
          "Not Freezing",
          "Not Freezing",
          "Not Freezing",
          "Not Freezing",
          "Not Freezing",
          "Freezing",
          "Freezing",
          "Not Freezing",
          "Not Freezing",
          "Not Freezing",
          "Not Freezing",
          "Not Freezing",
          "Not Freezing",
          "Not Freezing",
          "Not Freezing",
          "Not Freezing",
          "Freezing",
          "Freezing",
          "Freezing",
          "Freezing",
          "Freezing",
          "Freezing",
          "Freezing",
          "Freezing",
          "Freezing",
          "Freezing",
          "Freezing",
          "Freezing",
          "Not Freezing",
          "Freezing",
          "Not Freezing",
          "Not Freezing",
          "Freezing",
          "Not Freezing",
          "Freezing",
          "Freezing",
          "Freezing",
          "Not Freezing",
          "Not Freezing",
          "Not Freezing",
          "Not Freezing",
          "Not Freezing",
          "Not Freezing",
          "Not Freezing",
          "Not Freezing",
          "Not Freezing",
          "Freezing",
          "Freezing",
          "Freezing",
          "Freezing",
          "Not Freezing",
          "Not Freezing",
          "Freezing",
          "Freezing",
          "Not Freezing",
          "Not Freezing",
          "Not Freezing",
          "Not Freezing",
          "Not Freezing",
          "Not Freezing",
          "Freezing",
          "Freezing",
          "Freezing",
          "Freezing",
          "Freezing",
          "Freezing",
          "Freezing",
          "Freezing",
          "Not Freezing",
          "Not Freezing",
          "Not Freezing",
          "Not Freezing",
          "Not Freezing",
          "Not Freezing",
          "Not Freezing",
          "Not Freezing",
          "Freezing",
          "Freezing",
          "Freezing",
          "Freezing",
          "Freezing",
          "Not Freezing",
          "Not Freezing",
          "Not Freezing",
          "Not Freezing",
          "Not Freezing",
          "Not Freezing",
          "Not Freezing",
          "Not Freezing",
          "Freezing",
          "Not Freezing",
          "Not Freezing",
          "Not Freezing",
          "Freezing",
          "Freezing",
          "Not Freezing",
          "Not Freezing",
          "Not Freezing",
          "Not Freezing",
          "Not Freezing",
          "Not Freezing",
          "Not Freezing",
          "Not Freezing",
          "Freezing",
          "Freezing",
          "Freezing",
          "Freezing",
          "Freezing",
          "Freezing",
          "Not Freezing",
          "Not Freezing",
          "Not Freezing",
          "Freezing",
          "Freezing",
          "Not Freezing",
          "Not Freezing",
          "Not Freezing",
          "Not Freezing",
          "Not Freezing",
          "Not Freezing",
          "Not Freezing",
          "Not Freezing",
          "Freezing",
          "Freezing",
          "Freezing",
          "Not Freezing",
          "Not Freezing",
          "Not Freezing",
          "Not Freezing",
          "Not Freezing",
          "Not Freezing",
          "Not Freezing",
          "Not Freezing",
          "Not Freezing",
          "Not Freezing",
          "Not Freezing",
          "Not Freezing",
          "Not Freezing",
          "Not Freezing",
          "Not Freezing",
          "Not Freezing",
          "Not Freezing",
          "Not Freezing",
          "Not Freezing",
          "Not Freezing",
          "Not Freezing",
          "Not Freezing",
          "Not Freezing",
          "Not Freezing",
          "Not Freezing",
          "Not Freezing",
          "Freezing",
          "Freezing",
          "Freezing",
          "Not Freezing",
          "Not Freezing",
          "Not Freezing",
          "Not Freezing",
          "Not Freezing",
          "Not Freezing",
          "Not Freezing",
          "Not Freezing",
          "Not Freezing",
          "Not Freezing",
          "Not Freezing",
          "Not Freezing",
          "Not Freezing",
          "Not Freezing",
          "Not Freezing",
          "Not Freezing",
          "Not Freezing",
          "Not Freezing",
          "Not Freezing",
          "Not Freezing",
          "Not Freezing",
          "Not Freezing",
          "Not Freezing",
          "Not Freezing",
          "Not Freezing",
          "Not Freezing",
          "Freezing",
          "Freezing",
          "Not Freezing",
          "Not Freezing",
          "Not Freezing",
          "Not Freezing",
          "Not Freezing",
          "Not Freezing",
          "Not Freezing",
          "Not Freezing",
          "Not Freezing",
          "Not Freezing",
          "Not Freezing",
          "Not Freezing",
          "Not Freezing",
          "Not Freezing",
          "Not Freezing",
          "Not Freezing",
          "Not Freezing",
          "Not Freezing",
          "Not Freezing",
          "Not Freezing",
          "Not Freezing",
          "Not Freezing",
          "Not Freezing",
          "Not Freezing",
          "Not Freezing",
          "Not Freezing",
          "Not Freezing",
          "Freezing",
          "Not Freezing",
          "Not Freezing",
          "Not Freezing",
          "Not Freezing",
          "Not Freezing",
          "Not Freezing",
          "Not Freezing",
          "Not Freezing",
          "Not Freezing",
          "Not Freezing",
          "Not Freezing",
          "Not Freezing",
          "Not Freezing",
          "Not Freezing",
          "Not Freezing",
          "Not Freezing",
          "Not Freezing",
          "Not Freezing",
          "Not Freezing",
          "Not Freezing",
          "Not Freezing",
          "Not Freezing",
          "Not Freezing",
          "Not Freezing",
          "Not Freezing",
          "Not Freezing",
          "Not Freezing",
          "Not Freezing",
          "Not Freezing",
          "Freezing",
          "Not Freezing",
          "Not Freezing",
          "Not Freezing",
          "Not Freezing",
          "Not Freezing",
          "Not Freezing",
          "Not Freezing",
          "Not Freezing",
          "Not Freezing",
          "Not Freezing",
          "Not Freezing",
          "Not Freezing",
          "Not Freezing",
          "Not Freezing",
          "Not Freezing",
          "Not Freezing",
          "Not Freezing",
          "Not Freezing",
          "Not Freezing",
          "Not Freezing",
          "Not Freezing",
          "Not Freezing",
          "Not Freezing",
          "Not Freezing",
          "Not Freezing",
          "Not Freezing",
          "Not Freezing",
          "Not Freezing",
          "Not Freezing",
          "Freezing",
          "Freezing",
          "Not Freezing",
          "Not Freezing",
          "Not Freezing",
          "Not Freezing",
          "Not Freezing",
          "Not Freezing",
          "Not Freezing",
          "Not Freezing",
          "Not Freezing",
          "Not Freezing",
          "Not Freezing",
          "Not Freezing",
          "Not Freezing",
          "Not Freezing",
          "Not Freezing",
          "Not Freezing",
          "Not Freezing",
          "Not Freezing",
          "Not Freezing",
          "Not Freezing",
          "Not Freezing",
          "Not Freezing",
          "Not Freezing",
          "Not Freezing",
          "Not Freezing",
          "Not Freezing",
          "Not Freezing",
          "Freezing",
          "Freezing",
          "Freezing",
          "Not Freezing",
          "Not Freezing",
          "Not Freezing",
          "Not Freezing",
          "Not Freezing",
          "Not Freezing",
          "Not Freezing",
          "Freezing",
          "Not Freezing",
          "Not Freezing",
          "Not Freezing",
          "Not Freezing",
          "Not Freezing",
          "Not Freezing",
          "Not Freezing",
          "Not Freezing",
          "Not Freezing",
          "Not Freezing",
          "Not Freezing",
          "Not Freezing",
          "Not Freezing",
          "Not Freezing",
          "Not Freezing",
          "Not Freezing",
          "Not Freezing",
          "Not Freezing",
          "Not Freezing",
          "Not Freezing",
          "Freezing",
          "Not Freezing",
          "Not Freezing",
          "Not Freezing",
          "Not Freezing",
          "Not Freezing",
          "Not Freezing",
          "Not Freezing",
          "Not Freezing",
          "Not Freezing",
          "Not Freezing",
          "Not Freezing",
          "Not Freezing",
          "Freezing",
          "Not Freezing",
          "Freezing",
          "Freezing",
          "Not Freezing",
          "Not Freezing",
          "Not Freezing",
          "Not Freezing",
          "Not Freezing",
          "Not Freezing",
          "Not Freezing",
          "Not Freezing",
          "Freezing",
          "Not Freezing",
          "Not Freezing",
          "Not Freezing",
          "Not Freezing",
          "Not Freezing",
          "Not Freezing",
          "Not Freezing",
          "Freezing"
         ],
         "x0": " ",
         "xaxis": "x",
         "y": [
          9,
          11,
          7,
          12,
          3,
          11,
          14,
          14,
          21,
          9,
          11,
          3,
          8,
          13,
          17,
          9,
          17,
          9,
          4,
          5,
          18,
          9,
          3,
          4,
          2,
          5,
          20,
          13,
          17,
          9,
          7,
          10,
          14,
          10,
          12,
          14,
          12,
          5,
          11,
          16,
          11,
          3,
          11,
          6,
          7,
          6,
          18,
          12,
          6,
          8,
          7,
          17,
          4,
          12,
          16,
          12,
          11,
          11,
          6,
          4,
          8,
          9,
          25,
          9,
          15,
          14,
          2,
          10,
          11,
          11,
          13,
          17,
          1,
          3,
          9,
          9,
          3,
          7,
          13,
          17,
          3,
          11,
          20,
          24,
          12,
          14,
          18,
          8,
          12,
          5,
          14,
          5,
          5,
          11,
          1,
          29,
          18,
          34,
          32,
          25,
          10,
          5,
          16,
          19,
          14,
          13,
          14,
          12,
          3,
          5,
          13,
          11,
          6,
          11,
          4,
          8,
          16,
          9,
          20,
          34,
          17,
          9,
          5,
          13,
          15,
          24,
          16,
          11,
          9,
          21,
          23,
          26,
          14,
          1,
          6,
          14,
          14,
          6,
          25,
          11,
          2,
          2,
          9,
          10,
          16,
          15,
          23,
          9,
          14,
          9,
          25,
          7,
          15,
          16,
          5,
          3,
          22,
          23,
          14,
          18,
          11,
          1,
          9,
          28,
          10,
          12,
          16,
          15,
          13,
          13,
          31,
          8,
          16,
          19,
          24,
          21,
          6,
          21,
          16,
          17,
          19,
          7,
          8,
          11,
          6,
          5,
          8,
          11,
          8,
          4,
          2,
          10,
          5,
          17,
          21,
          1,
          4,
          20,
          15,
          25,
          21,
          7,
          2,
          19,
          15,
          7,
          15,
          15,
          4,
          8,
          22,
          12,
          14,
          13,
          15,
          9,
          7,
          15,
          19,
          35,
          20,
          10,
          13,
          8,
          16,
          20,
          14,
          9,
          15,
          6,
          9,
          11,
          9,
          21,
          15,
          6,
          4,
          13,
          5,
          11,
          11,
          5,
          3,
          4,
          18,
          15,
          36,
          17,
          9,
          6,
          4,
          16,
          25,
          11,
          5,
          9,
          7,
          23,
          14,
          10,
          23,
          10,
          6,
          4,
          17,
          11,
          6,
          3,
          19,
          4,
          6,
          16,
          17,
          9,
          33,
          10,
          7,
          10,
          15,
          16,
          19,
          21,
          8,
          10,
          6,
          17,
          14,
          12,
          9,
          5,
          8,
          15,
          13,
          10,
          16,
          7,
          6,
          3,
          11,
          9,
          14,
          20,
          14,
          7,
          9,
          24,
          14,
          17,
          28,
          23,
          4,
          6,
          24,
          11,
          7,
          11,
          9,
          8,
          15,
          2,
          9,
          12,
          8,
          7,
          24,
          7,
          18,
          11,
          7,
          5,
          1,
          1,
          8,
          1,
          12,
          15,
          6,
          3,
          7,
          5,
          17,
          9,
          26,
          6,
          7,
          15,
          14,
          24,
          18,
          12,
          5,
          7,
          14,
          10,
          17,
          17,
          2,
          6,
          11,
          11,
          16,
          4,
          25,
          3,
          5,
          6,
          3,
          15,
          7,
          16,
          2,
          9,
          18,
          18,
          18,
          9,
          4,
          2,
          4,
          8,
          15,
          10,
          12,
          7,
          6,
          6,
          12,
          10,
          12,
          7,
          8,
          6,
          5,
          15,
          13,
          9,
          10,
          9,
          5,
          5,
          9,
          6,
          15,
          8,
          2,
          9,
          15,
          16,
          25,
          12,
          7,
          8,
          2,
          13,
          22,
          9,
          13,
          7,
          5,
          24,
          20,
          14,
          9,
          13,
          3,
          5,
          6,
          12,
          6,
          17,
          21,
          7,
          5,
          15,
          18,
          19,
          13,
          10,
          3,
          16,
          28,
          19,
          15,
          20,
          8,
          5,
          11,
          16,
          14,
          15,
          17,
          5,
          2,
          7,
          14,
          14,
          16,
          18,
          9,
          15,
          20,
          12,
          34,
          9,
          8,
          16,
          16,
          16,
          10,
          12,
          10,
          4,
          5,
          5,
          3,
          5,
          5,
          6,
          1,
          2,
          6,
          3,
          12,
          4,
          2,
          7,
          7,
          3,
          2,
          6,
          6,
          3,
          7,
          7,
          25,
          6,
          9,
          17,
          16,
          5,
          3,
          6,
          7,
          18,
          16,
          22,
          16,
          12,
          12,
          17,
          6,
          6,
          9,
          8,
          6,
          5,
          12
         ],
         "y0": " ",
         "yaxis": "y"
        }
       ],
       "layout": {
        "boxmode": "group",
        "legend": {
         "tracegroupgap": 0
        },
        "margin": {
         "t": 60
        },
        "template": {
         "data": {
          "bar": [
           {
            "error_x": {
             "color": "#2a3f5f"
            },
            "error_y": {
             "color": "#2a3f5f"
            },
            "marker": {
             "line": {
              "color": "#E5ECF6",
              "width": 0.5
             },
             "pattern": {
              "fillmode": "overlay",
              "size": 10,
              "solidity": 0.2
             }
            },
            "type": "bar"
           }
          ],
          "barpolar": [
           {
            "marker": {
             "line": {
              "color": "#E5ECF6",
              "width": 0.5
             },
             "pattern": {
              "fillmode": "overlay",
              "size": 10,
              "solidity": 0.2
             }
            },
            "type": "barpolar"
           }
          ],
          "carpet": [
           {
            "aaxis": {
             "endlinecolor": "#2a3f5f",
             "gridcolor": "white",
             "linecolor": "white",
             "minorgridcolor": "white",
             "startlinecolor": "#2a3f5f"
            },
            "baxis": {
             "endlinecolor": "#2a3f5f",
             "gridcolor": "white",
             "linecolor": "white",
             "minorgridcolor": "white",
             "startlinecolor": "#2a3f5f"
            },
            "type": "carpet"
           }
          ],
          "choropleth": [
           {
            "colorbar": {
             "outlinewidth": 0,
             "ticks": ""
            },
            "type": "choropleth"
           }
          ],
          "contour": [
           {
            "colorbar": {
             "outlinewidth": 0,
             "ticks": ""
            },
            "colorscale": [
             [
              0,
              "#0d0887"
             ],
             [
              0.1111111111111111,
              "#46039f"
             ],
             [
              0.2222222222222222,
              "#7201a8"
             ],
             [
              0.3333333333333333,
              "#9c179e"
             ],
             [
              0.4444444444444444,
              "#bd3786"
             ],
             [
              0.5555555555555556,
              "#d8576b"
             ],
             [
              0.6666666666666666,
              "#ed7953"
             ],
             [
              0.7777777777777778,
              "#fb9f3a"
             ],
             [
              0.8888888888888888,
              "#fdca26"
             ],
             [
              1,
              "#f0f921"
             ]
            ],
            "type": "contour"
           }
          ],
          "contourcarpet": [
           {
            "colorbar": {
             "outlinewidth": 0,
             "ticks": ""
            },
            "type": "contourcarpet"
           }
          ],
          "heatmap": [
           {
            "colorbar": {
             "outlinewidth": 0,
             "ticks": ""
            },
            "colorscale": [
             [
              0,
              "#0d0887"
             ],
             [
              0.1111111111111111,
              "#46039f"
             ],
             [
              0.2222222222222222,
              "#7201a8"
             ],
             [
              0.3333333333333333,
              "#9c179e"
             ],
             [
              0.4444444444444444,
              "#bd3786"
             ],
             [
              0.5555555555555556,
              "#d8576b"
             ],
             [
              0.6666666666666666,
              "#ed7953"
             ],
             [
              0.7777777777777778,
              "#fb9f3a"
             ],
             [
              0.8888888888888888,
              "#fdca26"
             ],
             [
              1,
              "#f0f921"
             ]
            ],
            "type": "heatmap"
           }
          ],
          "heatmapgl": [
           {
            "colorbar": {
             "outlinewidth": 0,
             "ticks": ""
            },
            "colorscale": [
             [
              0,
              "#0d0887"
             ],
             [
              0.1111111111111111,
              "#46039f"
             ],
             [
              0.2222222222222222,
              "#7201a8"
             ],
             [
              0.3333333333333333,
              "#9c179e"
             ],
             [
              0.4444444444444444,
              "#bd3786"
             ],
             [
              0.5555555555555556,
              "#d8576b"
             ],
             [
              0.6666666666666666,
              "#ed7953"
             ],
             [
              0.7777777777777778,
              "#fb9f3a"
             ],
             [
              0.8888888888888888,
              "#fdca26"
             ],
             [
              1,
              "#f0f921"
             ]
            ],
            "type": "heatmapgl"
           }
          ],
          "histogram": [
           {
            "marker": {
             "pattern": {
              "fillmode": "overlay",
              "size": 10,
              "solidity": 0.2
             }
            },
            "type": "histogram"
           }
          ],
          "histogram2d": [
           {
            "colorbar": {
             "outlinewidth": 0,
             "ticks": ""
            },
            "colorscale": [
             [
              0,
              "#0d0887"
             ],
             [
              0.1111111111111111,
              "#46039f"
             ],
             [
              0.2222222222222222,
              "#7201a8"
             ],
             [
              0.3333333333333333,
              "#9c179e"
             ],
             [
              0.4444444444444444,
              "#bd3786"
             ],
             [
              0.5555555555555556,
              "#d8576b"
             ],
             [
              0.6666666666666666,
              "#ed7953"
             ],
             [
              0.7777777777777778,
              "#fb9f3a"
             ],
             [
              0.8888888888888888,
              "#fdca26"
             ],
             [
              1,
              "#f0f921"
             ]
            ],
            "type": "histogram2d"
           }
          ],
          "histogram2dcontour": [
           {
            "colorbar": {
             "outlinewidth": 0,
             "ticks": ""
            },
            "colorscale": [
             [
              0,
              "#0d0887"
             ],
             [
              0.1111111111111111,
              "#46039f"
             ],
             [
              0.2222222222222222,
              "#7201a8"
             ],
             [
              0.3333333333333333,
              "#9c179e"
             ],
             [
              0.4444444444444444,
              "#bd3786"
             ],
             [
              0.5555555555555556,
              "#d8576b"
             ],
             [
              0.6666666666666666,
              "#ed7953"
             ],
             [
              0.7777777777777778,
              "#fb9f3a"
             ],
             [
              0.8888888888888888,
              "#fdca26"
             ],
             [
              1,
              "#f0f921"
             ]
            ],
            "type": "histogram2dcontour"
           }
          ],
          "mesh3d": [
           {
            "colorbar": {
             "outlinewidth": 0,
             "ticks": ""
            },
            "type": "mesh3d"
           }
          ],
          "parcoords": [
           {
            "line": {
             "colorbar": {
              "outlinewidth": 0,
              "ticks": ""
             }
            },
            "type": "parcoords"
           }
          ],
          "pie": [
           {
            "automargin": true,
            "type": "pie"
           }
          ],
          "scatter": [
           {
            "fillpattern": {
             "fillmode": "overlay",
             "size": 10,
             "solidity": 0.2
            },
            "type": "scatter"
           }
          ],
          "scatter3d": [
           {
            "line": {
             "colorbar": {
              "outlinewidth": 0,
              "ticks": ""
             }
            },
            "marker": {
             "colorbar": {
              "outlinewidth": 0,
              "ticks": ""
             }
            },
            "type": "scatter3d"
           }
          ],
          "scattercarpet": [
           {
            "marker": {
             "colorbar": {
              "outlinewidth": 0,
              "ticks": ""
             }
            },
            "type": "scattercarpet"
           }
          ],
          "scattergeo": [
           {
            "marker": {
             "colorbar": {
              "outlinewidth": 0,
              "ticks": ""
             }
            },
            "type": "scattergeo"
           }
          ],
          "scattergl": [
           {
            "marker": {
             "colorbar": {
              "outlinewidth": 0,
              "ticks": ""
             }
            },
            "type": "scattergl"
           }
          ],
          "scattermapbox": [
           {
            "marker": {
             "colorbar": {
              "outlinewidth": 0,
              "ticks": ""
             }
            },
            "type": "scattermapbox"
           }
          ],
          "scatterpolar": [
           {
            "marker": {
             "colorbar": {
              "outlinewidth": 0,
              "ticks": ""
             }
            },
            "type": "scatterpolar"
           }
          ],
          "scatterpolargl": [
           {
            "marker": {
             "colorbar": {
              "outlinewidth": 0,
              "ticks": ""
             }
            },
            "type": "scatterpolargl"
           }
          ],
          "scatterternary": [
           {
            "marker": {
             "colorbar": {
              "outlinewidth": 0,
              "ticks": ""
             }
            },
            "type": "scatterternary"
           }
          ],
          "surface": [
           {
            "colorbar": {
             "outlinewidth": 0,
             "ticks": ""
            },
            "colorscale": [
             [
              0,
              "#0d0887"
             ],
             [
              0.1111111111111111,
              "#46039f"
             ],
             [
              0.2222222222222222,
              "#7201a8"
             ],
             [
              0.3333333333333333,
              "#9c179e"
             ],
             [
              0.4444444444444444,
              "#bd3786"
             ],
             [
              0.5555555555555556,
              "#d8576b"
             ],
             [
              0.6666666666666666,
              "#ed7953"
             ],
             [
              0.7777777777777778,
              "#fb9f3a"
             ],
             [
              0.8888888888888888,
              "#fdca26"
             ],
             [
              1,
              "#f0f921"
             ]
            ],
            "type": "surface"
           }
          ],
          "table": [
           {
            "cells": {
             "fill": {
              "color": "#EBF0F8"
             },
             "line": {
              "color": "white"
             }
            },
            "header": {
             "fill": {
              "color": "#C8D4E3"
             },
             "line": {
              "color": "white"
             }
            },
            "type": "table"
           }
          ]
         },
         "layout": {
          "annotationdefaults": {
           "arrowcolor": "#2a3f5f",
           "arrowhead": 0,
           "arrowwidth": 1
          },
          "autotypenumbers": "strict",
          "coloraxis": {
           "colorbar": {
            "outlinewidth": 0,
            "ticks": ""
           }
          },
          "colorscale": {
           "diverging": [
            [
             0,
             "#8e0152"
            ],
            [
             0.1,
             "#c51b7d"
            ],
            [
             0.2,
             "#de77ae"
            ],
            [
             0.3,
             "#f1b6da"
            ],
            [
             0.4,
             "#fde0ef"
            ],
            [
             0.5,
             "#f7f7f7"
            ],
            [
             0.6,
             "#e6f5d0"
            ],
            [
             0.7,
             "#b8e186"
            ],
            [
             0.8,
             "#7fbc41"
            ],
            [
             0.9,
             "#4d9221"
            ],
            [
             1,
             "#276419"
            ]
           ],
           "sequential": [
            [
             0,
             "#0d0887"
            ],
            [
             0.1111111111111111,
             "#46039f"
            ],
            [
             0.2222222222222222,
             "#7201a8"
            ],
            [
             0.3333333333333333,
             "#9c179e"
            ],
            [
             0.4444444444444444,
             "#bd3786"
            ],
            [
             0.5555555555555556,
             "#d8576b"
            ],
            [
             0.6666666666666666,
             "#ed7953"
            ],
            [
             0.7777777777777778,
             "#fb9f3a"
            ],
            [
             0.8888888888888888,
             "#fdca26"
            ],
            [
             1,
             "#f0f921"
            ]
           ],
           "sequentialminus": [
            [
             0,
             "#0d0887"
            ],
            [
             0.1111111111111111,
             "#46039f"
            ],
            [
             0.2222222222222222,
             "#7201a8"
            ],
            [
             0.3333333333333333,
             "#9c179e"
            ],
            [
             0.4444444444444444,
             "#bd3786"
            ],
            [
             0.5555555555555556,
             "#d8576b"
            ],
            [
             0.6666666666666666,
             "#ed7953"
            ],
            [
             0.7777777777777778,
             "#fb9f3a"
            ],
            [
             0.8888888888888888,
             "#fdca26"
            ],
            [
             1,
             "#f0f921"
            ]
           ]
          },
          "colorway": [
           "#636efa",
           "#EF553B",
           "#00cc96",
           "#ab63fa",
           "#FFA15A",
           "#19d3f3",
           "#FF6692",
           "#B6E880",
           "#FF97FF",
           "#FECB52"
          ],
          "font": {
           "color": "#2a3f5f"
          },
          "geo": {
           "bgcolor": "white",
           "lakecolor": "white",
           "landcolor": "#E5ECF6",
           "showlakes": true,
           "showland": true,
           "subunitcolor": "white"
          },
          "hoverlabel": {
           "align": "left"
          },
          "hovermode": "closest",
          "mapbox": {
           "style": "light"
          },
          "paper_bgcolor": "white",
          "plot_bgcolor": "#E5ECF6",
          "polar": {
           "angularaxis": {
            "gridcolor": "white",
            "linecolor": "white",
            "ticks": ""
           },
           "bgcolor": "#E5ECF6",
           "radialaxis": {
            "gridcolor": "white",
            "linecolor": "white",
            "ticks": ""
           }
          },
          "scene": {
           "xaxis": {
            "backgroundcolor": "#E5ECF6",
            "gridcolor": "white",
            "gridwidth": 2,
            "linecolor": "white",
            "showbackground": true,
            "ticks": "",
            "zerolinecolor": "white"
           },
           "yaxis": {
            "backgroundcolor": "#E5ECF6",
            "gridcolor": "white",
            "gridwidth": 2,
            "linecolor": "white",
            "showbackground": true,
            "ticks": "",
            "zerolinecolor": "white"
           },
           "zaxis": {
            "backgroundcolor": "#E5ECF6",
            "gridcolor": "white",
            "gridwidth": 2,
            "linecolor": "white",
            "showbackground": true,
            "ticks": "",
            "zerolinecolor": "white"
           }
          },
          "shapedefaults": {
           "line": {
            "color": "#2a3f5f"
           }
          },
          "ternary": {
           "aaxis": {
            "gridcolor": "white",
            "linecolor": "white",
            "ticks": ""
           },
           "baxis": {
            "gridcolor": "white",
            "linecolor": "white",
            "ticks": ""
           },
           "bgcolor": "#E5ECF6",
           "caxis": {
            "gridcolor": "white",
            "linecolor": "white",
            "ticks": ""
           }
          },
          "title": {
           "x": 0.05
          },
          "xaxis": {
           "automargin": true,
           "gridcolor": "white",
           "linecolor": "white",
           "ticks": "",
           "title": {
            "standoff": 15
           },
           "zerolinecolor": "white",
           "zerolinewidth": 2
          },
          "yaxis": {
           "automargin": true,
           "gridcolor": "white",
           "linecolor": "white",
           "ticks": "",
           "title": {
            "standoff": 15
           },
           "zerolinecolor": "white",
           "zerolinewidth": 2
          }
         }
        },
        "xaxis": {
         "anchor": "y",
         "domain": [
          0,
          1
         ],
         "title": {
          "text": "Temp_bins"
         }
        },
        "yaxis": {
         "anchor": "x",
         "domain": [
          0,
          1
         ],
         "title": {
          "text": "count"
         }
        }
       }
      }
     },
     "metadata": {},
     "output_type": "display_data"
    }
   ],
   "source": [
    "box_plot = px.box(df_detroit_count, x=\"Temp_bins\", y=\"count\")\n",
    "box_plot.show()"
   ]
  },
  {
   "cell_type": "markdown",
   "metadata": {},
   "source": [
    "## The Second Perspective\n",
    "Accidents are not the cause of the weather, but rather the causes of other factors such as the city, the state and the road condition. Weather can contribute, but is a minor factor as most vehicles are built to withstand most weather events. Urban infrastructure, regional traffic laws, and maintenance of roadways play significant roles in accident occurrence. Therefore, addressing these factors is crucial for improving road safety and reducing accidents."
   ]
  },
  {
   "cell_type": "markdown",
   "metadata": {},
   "source": [
    "### Surrounding conditions\n",
    "In the following graph you can see that most accidents take place with no relevant infrastructure such as traffic stops or traffic lighs nearby. It is however notable that aside from the no infrastructure, most accidents take place at junctions or traffic_signs. These are also the places that are most susceptible to human error. We can conclude from this graph that the place where the traffic accident takes place is relevant to the cause of the accidents."
   ]
  },
  {
   "cell_type": "code",
   "execution_count": 5,
   "metadata": {
    "tags": [
     "hide-input"
    ]
   },
   "outputs": [
    {
     "data": {
      "application/vnd.plotly.v1+json": {
       "config": {
        "plotlyServerURL": "https://plot.ly"
       },
       "data": [
        {
         "domain": {
          "x": [
           0,
           1
          ],
          "y": [
           0,
           1
          ]
         },
         "hole": 0.8,
         "hovertemplate": "label=%{label}<br>value=%{value}<extra></extra>",
         "labels": [
          "Other",
          "Other",
          "Crossing",
          "Other",
          "Junction",
          "Other",
          "Other",
          "Other",
          "Station",
          "Stop",
          "Other",
          "Traffic_Signal",
          "Other",
          "No Infrastructure"
         ],
         "legendgroup": "",
         "name": "",
         "showlegend": true,
         "textinfo": "label+percent",
         "textposition": "outside",
         "type": "pie",
         "values": [
          6123,
          104,
          50091,
          2362,
          44275,
          793,
          3845,
          10,
          12319,
          10544,
          338,
          79514,
          0,
          261378
         ]
        }
       ],
       "layout": {
        "height": 500,
        "legend": {
         "tracegroupgap": 0
        },
        "showlegend": false,
        "template": {
         "data": {
          "bar": [
           {
            "error_x": {
             "color": "#2a3f5f"
            },
            "error_y": {
             "color": "#2a3f5f"
            },
            "marker": {
             "line": {
              "color": "#E5ECF6",
              "width": 0.5
             },
             "pattern": {
              "fillmode": "overlay",
              "size": 10,
              "solidity": 0.2
             }
            },
            "type": "bar"
           }
          ],
          "barpolar": [
           {
            "marker": {
             "line": {
              "color": "#E5ECF6",
              "width": 0.5
             },
             "pattern": {
              "fillmode": "overlay",
              "size": 10,
              "solidity": 0.2
             }
            },
            "type": "barpolar"
           }
          ],
          "carpet": [
           {
            "aaxis": {
             "endlinecolor": "#2a3f5f",
             "gridcolor": "white",
             "linecolor": "white",
             "minorgridcolor": "white",
             "startlinecolor": "#2a3f5f"
            },
            "baxis": {
             "endlinecolor": "#2a3f5f",
             "gridcolor": "white",
             "linecolor": "white",
             "minorgridcolor": "white",
             "startlinecolor": "#2a3f5f"
            },
            "type": "carpet"
           }
          ],
          "choropleth": [
           {
            "colorbar": {
             "outlinewidth": 0,
             "ticks": ""
            },
            "type": "choropleth"
           }
          ],
          "contour": [
           {
            "colorbar": {
             "outlinewidth": 0,
             "ticks": ""
            },
            "colorscale": [
             [
              0,
              "#0d0887"
             ],
             [
              0.1111111111111111,
              "#46039f"
             ],
             [
              0.2222222222222222,
              "#7201a8"
             ],
             [
              0.3333333333333333,
              "#9c179e"
             ],
             [
              0.4444444444444444,
              "#bd3786"
             ],
             [
              0.5555555555555556,
              "#d8576b"
             ],
             [
              0.6666666666666666,
              "#ed7953"
             ],
             [
              0.7777777777777778,
              "#fb9f3a"
             ],
             [
              0.8888888888888888,
              "#fdca26"
             ],
             [
              1,
              "#f0f921"
             ]
            ],
            "type": "contour"
           }
          ],
          "contourcarpet": [
           {
            "colorbar": {
             "outlinewidth": 0,
             "ticks": ""
            },
            "type": "contourcarpet"
           }
          ],
          "heatmap": [
           {
            "colorbar": {
             "outlinewidth": 0,
             "ticks": ""
            },
            "colorscale": [
             [
              0,
              "#0d0887"
             ],
             [
              0.1111111111111111,
              "#46039f"
             ],
             [
              0.2222222222222222,
              "#7201a8"
             ],
             [
              0.3333333333333333,
              "#9c179e"
             ],
             [
              0.4444444444444444,
              "#bd3786"
             ],
             [
              0.5555555555555556,
              "#d8576b"
             ],
             [
              0.6666666666666666,
              "#ed7953"
             ],
             [
              0.7777777777777778,
              "#fb9f3a"
             ],
             [
              0.8888888888888888,
              "#fdca26"
             ],
             [
              1,
              "#f0f921"
             ]
            ],
            "type": "heatmap"
           }
          ],
          "heatmapgl": [
           {
            "colorbar": {
             "outlinewidth": 0,
             "ticks": ""
            },
            "colorscale": [
             [
              0,
              "#0d0887"
             ],
             [
              0.1111111111111111,
              "#46039f"
             ],
             [
              0.2222222222222222,
              "#7201a8"
             ],
             [
              0.3333333333333333,
              "#9c179e"
             ],
             [
              0.4444444444444444,
              "#bd3786"
             ],
             [
              0.5555555555555556,
              "#d8576b"
             ],
             [
              0.6666666666666666,
              "#ed7953"
             ],
             [
              0.7777777777777778,
              "#fb9f3a"
             ],
             [
              0.8888888888888888,
              "#fdca26"
             ],
             [
              1,
              "#f0f921"
             ]
            ],
            "type": "heatmapgl"
           }
          ],
          "histogram": [
           {
            "marker": {
             "pattern": {
              "fillmode": "overlay",
              "size": 10,
              "solidity": 0.2
             }
            },
            "type": "histogram"
           }
          ],
          "histogram2d": [
           {
            "colorbar": {
             "outlinewidth": 0,
             "ticks": ""
            },
            "colorscale": [
             [
              0,
              "#0d0887"
             ],
             [
              0.1111111111111111,
              "#46039f"
             ],
             [
              0.2222222222222222,
              "#7201a8"
             ],
             [
              0.3333333333333333,
              "#9c179e"
             ],
             [
              0.4444444444444444,
              "#bd3786"
             ],
             [
              0.5555555555555556,
              "#d8576b"
             ],
             [
              0.6666666666666666,
              "#ed7953"
             ],
             [
              0.7777777777777778,
              "#fb9f3a"
             ],
             [
              0.8888888888888888,
              "#fdca26"
             ],
             [
              1,
              "#f0f921"
             ]
            ],
            "type": "histogram2d"
           }
          ],
          "histogram2dcontour": [
           {
            "colorbar": {
             "outlinewidth": 0,
             "ticks": ""
            },
            "colorscale": [
             [
              0,
              "#0d0887"
             ],
             [
              0.1111111111111111,
              "#46039f"
             ],
             [
              0.2222222222222222,
              "#7201a8"
             ],
             [
              0.3333333333333333,
              "#9c179e"
             ],
             [
              0.4444444444444444,
              "#bd3786"
             ],
             [
              0.5555555555555556,
              "#d8576b"
             ],
             [
              0.6666666666666666,
              "#ed7953"
             ],
             [
              0.7777777777777778,
              "#fb9f3a"
             ],
             [
              0.8888888888888888,
              "#fdca26"
             ],
             [
              1,
              "#f0f921"
             ]
            ],
            "type": "histogram2dcontour"
           }
          ],
          "mesh3d": [
           {
            "colorbar": {
             "outlinewidth": 0,
             "ticks": ""
            },
            "type": "mesh3d"
           }
          ],
          "parcoords": [
           {
            "line": {
             "colorbar": {
              "outlinewidth": 0,
              "ticks": ""
             }
            },
            "type": "parcoords"
           }
          ],
          "pie": [
           {
            "automargin": true,
            "type": "pie"
           }
          ],
          "scatter": [
           {
            "fillpattern": {
             "fillmode": "overlay",
             "size": 10,
             "solidity": 0.2
            },
            "type": "scatter"
           }
          ],
          "scatter3d": [
           {
            "line": {
             "colorbar": {
              "outlinewidth": 0,
              "ticks": ""
             }
            },
            "marker": {
             "colorbar": {
              "outlinewidth": 0,
              "ticks": ""
             }
            },
            "type": "scatter3d"
           }
          ],
          "scattercarpet": [
           {
            "marker": {
             "colorbar": {
              "outlinewidth": 0,
              "ticks": ""
             }
            },
            "type": "scattercarpet"
           }
          ],
          "scattergeo": [
           {
            "marker": {
             "colorbar": {
              "outlinewidth": 0,
              "ticks": ""
             }
            },
            "type": "scattergeo"
           }
          ],
          "scattergl": [
           {
            "marker": {
             "colorbar": {
              "outlinewidth": 0,
              "ticks": ""
             }
            },
            "type": "scattergl"
           }
          ],
          "scattermapbox": [
           {
            "marker": {
             "colorbar": {
              "outlinewidth": 0,
              "ticks": ""
             }
            },
            "type": "scattermapbox"
           }
          ],
          "scatterpolar": [
           {
            "marker": {
             "colorbar": {
              "outlinewidth": 0,
              "ticks": ""
             }
            },
            "type": "scatterpolar"
           }
          ],
          "scatterpolargl": [
           {
            "marker": {
             "colorbar": {
              "outlinewidth": 0,
              "ticks": ""
             }
            },
            "type": "scatterpolargl"
           }
          ],
          "scatterternary": [
           {
            "marker": {
             "colorbar": {
              "outlinewidth": 0,
              "ticks": ""
             }
            },
            "type": "scatterternary"
           }
          ],
          "surface": [
           {
            "colorbar": {
             "outlinewidth": 0,
             "ticks": ""
            },
            "colorscale": [
             [
              0,
              "#0d0887"
             ],
             [
              0.1111111111111111,
              "#46039f"
             ],
             [
              0.2222222222222222,
              "#7201a8"
             ],
             [
              0.3333333333333333,
              "#9c179e"
             ],
             [
              0.4444444444444444,
              "#bd3786"
             ],
             [
              0.5555555555555556,
              "#d8576b"
             ],
             [
              0.6666666666666666,
              "#ed7953"
             ],
             [
              0.7777777777777778,
              "#fb9f3a"
             ],
             [
              0.8888888888888888,
              "#fdca26"
             ],
             [
              1,
              "#f0f921"
             ]
            ],
            "type": "surface"
           }
          ],
          "table": [
           {
            "cells": {
             "fill": {
              "color": "#EBF0F8"
             },
             "line": {
              "color": "white"
             }
            },
            "header": {
             "fill": {
              "color": "#C8D4E3"
             },
             "line": {
              "color": "white"
             }
            },
            "type": "table"
           }
          ]
         },
         "layout": {
          "annotationdefaults": {
           "arrowcolor": "#2a3f5f",
           "arrowhead": 0,
           "arrowwidth": 1
          },
          "autotypenumbers": "strict",
          "coloraxis": {
           "colorbar": {
            "outlinewidth": 0,
            "ticks": ""
           }
          },
          "colorscale": {
           "diverging": [
            [
             0,
             "#8e0152"
            ],
            [
             0.1,
             "#c51b7d"
            ],
            [
             0.2,
             "#de77ae"
            ],
            [
             0.3,
             "#f1b6da"
            ],
            [
             0.4,
             "#fde0ef"
            ],
            [
             0.5,
             "#f7f7f7"
            ],
            [
             0.6,
             "#e6f5d0"
            ],
            [
             0.7,
             "#b8e186"
            ],
            [
             0.8,
             "#7fbc41"
            ],
            [
             0.9,
             "#4d9221"
            ],
            [
             1,
             "#276419"
            ]
           ],
           "sequential": [
            [
             0,
             "#0d0887"
            ],
            [
             0.1111111111111111,
             "#46039f"
            ],
            [
             0.2222222222222222,
             "#7201a8"
            ],
            [
             0.3333333333333333,
             "#9c179e"
            ],
            [
             0.4444444444444444,
             "#bd3786"
            ],
            [
             0.5555555555555556,
             "#d8576b"
            ],
            [
             0.6666666666666666,
             "#ed7953"
            ],
            [
             0.7777777777777778,
             "#fb9f3a"
            ],
            [
             0.8888888888888888,
             "#fdca26"
            ],
            [
             1,
             "#f0f921"
            ]
           ],
           "sequentialminus": [
            [
             0,
             "#0d0887"
            ],
            [
             0.1111111111111111,
             "#46039f"
            ],
            [
             0.2222222222222222,
             "#7201a8"
            ],
            [
             0.3333333333333333,
             "#9c179e"
            ],
            [
             0.4444444444444444,
             "#bd3786"
            ],
            [
             0.5555555555555556,
             "#d8576b"
            ],
            [
             0.6666666666666666,
             "#ed7953"
            ],
            [
             0.7777777777777778,
             "#fb9f3a"
            ],
            [
             0.8888888888888888,
             "#fdca26"
            ],
            [
             1,
             "#f0f921"
            ]
           ]
          },
          "colorway": [
           "#636efa",
           "#EF553B",
           "#00cc96",
           "#ab63fa",
           "#FFA15A",
           "#19d3f3",
           "#FF6692",
           "#B6E880",
           "#FF97FF",
           "#FECB52"
          ],
          "font": {
           "color": "#2a3f5f"
          },
          "geo": {
           "bgcolor": "white",
           "lakecolor": "white",
           "landcolor": "#E5ECF6",
           "showlakes": true,
           "showland": true,
           "subunitcolor": "white"
          },
          "hoverlabel": {
           "align": "left"
          },
          "hovermode": "closest",
          "mapbox": {
           "style": "light"
          },
          "paper_bgcolor": "white",
          "plot_bgcolor": "#E5ECF6",
          "polar": {
           "angularaxis": {
            "gridcolor": "white",
            "linecolor": "white",
            "ticks": ""
           },
           "bgcolor": "#E5ECF6",
           "radialaxis": {
            "gridcolor": "white",
            "linecolor": "white",
            "ticks": ""
           }
          },
          "scene": {
           "xaxis": {
            "backgroundcolor": "#E5ECF6",
            "gridcolor": "white",
            "gridwidth": 2,
            "linecolor": "white",
            "showbackground": true,
            "ticks": "",
            "zerolinecolor": "white"
           },
           "yaxis": {
            "backgroundcolor": "#E5ECF6",
            "gridcolor": "white",
            "gridwidth": 2,
            "linecolor": "white",
            "showbackground": true,
            "ticks": "",
            "zerolinecolor": "white"
           },
           "zaxis": {
            "backgroundcolor": "#E5ECF6",
            "gridcolor": "white",
            "gridwidth": 2,
            "linecolor": "white",
            "showbackground": true,
            "ticks": "",
            "zerolinecolor": "white"
           }
          },
          "shapedefaults": {
           "line": {
            "color": "#2a3f5f"
           }
          },
          "ternary": {
           "aaxis": {
            "gridcolor": "white",
            "linecolor": "white",
            "ticks": ""
           },
           "baxis": {
            "gridcolor": "white",
            "linecolor": "white",
            "ticks": ""
           },
           "bgcolor": "#E5ECF6",
           "caxis": {
            "gridcolor": "white",
            "linecolor": "white",
            "ticks": ""
           }
          },
          "title": {
           "x": 0.05
          },
          "xaxis": {
           "automargin": true,
           "gridcolor": "white",
           "linecolor": "white",
           "ticks": "",
           "title": {
            "standoff": 15
           },
           "zerolinecolor": "white",
           "zerolinewidth": 2
          },
          "yaxis": {
           "automargin": true,
           "gridcolor": "white",
           "linecolor": "white",
           "ticks": "",
           "title": {
            "standoff": 15
           },
           "zerolinecolor": "white",
           "zerolinewidth": 2
          }
         }
        },
        "title": {
         "text": "Distribution of Traffic Accidents by Infrastructure Proximity"
        },
        "width": 800
       }
      }
     },
     "metadata": {},
     "output_type": "display_data"
    }
   ],
   "source": [
    "import plotly.express as px\n",
    "import pandas as pd\n",
    "\n",
    "\n",
    "df = pd.read_csv('../resources/us_accidents_filtered_rows.csv')\n",
    "\n",
    "infrastructures = ['Amenity', 'Bump', 'Crossing', 'Give_Way', 'Junction', 'No_Exit', \n",
    "                   'Railway', 'Roundabout', 'Station', 'Stop', 'Traffic_Calming', \n",
    "                   'Traffic_Signal', 'Turning_Loop']\n",
    "\n",
    "# Check if all infrastructure columns are False for each row\n",
    "def all_false(row):\n",
    "    return all(not row[infra] for infra in infrastructures)\n",
    "\n",
    "# Apply the function row-wise to create a boolean mask\n",
    "all_false_mask = df.apply(all_false, axis=1)\n",
    "\n",
    "# Count rows where all infrastructure columns are False\n",
    "no_infrastructure_count = all_false_mask.sum()\n",
    "\n",
    "# Count occurrences of True values for each infrastructure type\n",
    "counts = [df[infra].sum() for infra in infrastructures]\n",
    "\n",
    "# If there are rows with all False values, add a category for \"No Infrastructure Near Accidents\"\n",
    "if no_infrastructure_count > 0:\n",
    "    infrastructures.append('No Infrastructure')\n",
    "    counts.append(no_infrastructure_count)\n",
    "\n",
    "# Create lists for labels and values\n",
    "labels = infrastructures\n",
    "values = counts\n",
    "\n",
    "# Calculate total number of accidents\n",
    "total_accidents = sum(values)\n",
    "\n",
    "# Calculate percentages\n",
    "percentages = [count / total_accidents * 100 for count in counts]\n",
    "\n",
    "threshold = 1.3\n",
    "combined_labels = []\n",
    "combined_values = []\n",
    "\n",
    "for label, value, percent in zip(labels, values, percentages):\n",
    "    if percent < threshold:\n",
    "        combined_labels.append('Other')\n",
    "        combined_values.append(value)\n",
    "    else:\n",
    "        combined_labels.append(label)\n",
    "        combined_values.append(value)\n",
    "\n",
    "fig = px.pie(names=combined_labels, values=combined_values, title='Distribution of Traffic Accidents by Infrastructure Proximity',\n",
    "             hole=0.8,\n",
    "             labels={'label': 'percent'},\n",
    "             width=800, height=500)\n",
    "\n",
    "\n",
    "fig.update_traces(textposition='outside', textinfo='label+percent')\n",
    "fig.update_layout(showlegend=False)\n",
    "\n",
    "fig.show()\n",
    "\n"
   ]
  },
  {
   "cell_type": "markdown",
   "metadata": {},
   "source": [
    "### The Drivers"
   ]
  },
  {
   "cell_type": "code",
   "execution_count": 6,
   "metadata": {
    "tags": [
     "hide-input"
    ]
   },
   "outputs": [
    {
     "data": {
      "application/vnd.plotly.v1+json": {
       "config": {
        "plotlyServerURL": "https://plot.ly"
       },
       "data": [
        {
         "hovertemplate": "=traffic accidents<br>Date (Months)=%{x}<br>Count=%{y}<extra></extra>",
         "legendgroup": "traffic accidents",
         "line": {
          "color": "#636efa",
          "dash": "solid"
         },
         "marker": {
          "symbol": "circle"
         },
         "mode": "lines",
         "name": "traffic accidents",
         "orientation": "v",
         "showlegend": true,
         "type": "scatter",
         "x": [
          "2016-01",
          "2016-02",
          "2016-03",
          "2016-04",
          "2016-05",
          "2016-06",
          "2016-07",
          "2016-08",
          "2016-09",
          "2016-10",
          "2016-11",
          "2016-12",
          "2017-01",
          "2017-02",
          "2017-03",
          "2017-04",
          "2017-05",
          "2017-06",
          "2017-07",
          "2017-08",
          "2017-09",
          "2017-10",
          "2017-11",
          "2017-12"
         ],
         "xaxis": "x",
         "y": [
          7,
          985,
          6330,
          18088,
          17610,
          30538,
          45780,
          56457,
          54698,
          55669,
          65040,
          59619,
          55713,
          51679,
          57315,
          48115,
          41136,
          46272,
          42459,
          80955,
          76902,
          74975,
          70127,
          71642
         ],
         "yaxis": "y"
        },
        {
         "hovertemplate": "=traffic violations<br>Date (Months)=%{x}<br>Count=%{y}<extra></extra>",
         "legendgroup": "traffic violations",
         "line": {
          "color": "#EF553B",
          "dash": "solid"
         },
         "marker": {
          "symbol": "circle"
         },
         "mode": "lines",
         "name": "traffic violations",
         "orientation": "v",
         "showlegend": true,
         "type": "scatter",
         "x": [
          "2016-01",
          "2016-02",
          "2016-03",
          "2016-04",
          "2016-05",
          "2016-06",
          "2016-07",
          "2016-08",
          "2016-09",
          "2016-10",
          "2016-11",
          "2016-12",
          "2017-01",
          "2017-02",
          "2017-03",
          "2017-04",
          "2017-05",
          "2017-06",
          "2017-07",
          "2017-08",
          "2017-09",
          "2017-10",
          "2017-11",
          "2017-12"
         ],
         "xaxis": "x",
         "y": [
          8497,
          10923,
          12813,
          12516,
          12284,
          11225,
          10546,
          10039,
          9771,
          10504,
          9191,
          9134,
          11212,
          11058,
          10665,
          9007,
          10441,
          9327,
          10042,
          2403,
          10873,
          9760,
          10427,
          8562
         ],
         "yaxis": "y"
        }
       ],
       "layout": {
        "legend": {
         "title": {
          "text": ""
         },
         "tracegroupgap": 0
        },
        "template": {
         "data": {
          "bar": [
           {
            "error_x": {
             "color": "#2a3f5f"
            },
            "error_y": {
             "color": "#2a3f5f"
            },
            "marker": {
             "line": {
              "color": "#E5ECF6",
              "width": 0.5
             },
             "pattern": {
              "fillmode": "overlay",
              "size": 10,
              "solidity": 0.2
             }
            },
            "type": "bar"
           }
          ],
          "barpolar": [
           {
            "marker": {
             "line": {
              "color": "#E5ECF6",
              "width": 0.5
             },
             "pattern": {
              "fillmode": "overlay",
              "size": 10,
              "solidity": 0.2
             }
            },
            "type": "barpolar"
           }
          ],
          "carpet": [
           {
            "aaxis": {
             "endlinecolor": "#2a3f5f",
             "gridcolor": "white",
             "linecolor": "white",
             "minorgridcolor": "white",
             "startlinecolor": "#2a3f5f"
            },
            "baxis": {
             "endlinecolor": "#2a3f5f",
             "gridcolor": "white",
             "linecolor": "white",
             "minorgridcolor": "white",
             "startlinecolor": "#2a3f5f"
            },
            "type": "carpet"
           }
          ],
          "choropleth": [
           {
            "colorbar": {
             "outlinewidth": 0,
             "ticks": ""
            },
            "type": "choropleth"
           }
          ],
          "contour": [
           {
            "colorbar": {
             "outlinewidth": 0,
             "ticks": ""
            },
            "colorscale": [
             [
              0,
              "#0d0887"
             ],
             [
              0.1111111111111111,
              "#46039f"
             ],
             [
              0.2222222222222222,
              "#7201a8"
             ],
             [
              0.3333333333333333,
              "#9c179e"
             ],
             [
              0.4444444444444444,
              "#bd3786"
             ],
             [
              0.5555555555555556,
              "#d8576b"
             ],
             [
              0.6666666666666666,
              "#ed7953"
             ],
             [
              0.7777777777777778,
              "#fb9f3a"
             ],
             [
              0.8888888888888888,
              "#fdca26"
             ],
             [
              1,
              "#f0f921"
             ]
            ],
            "type": "contour"
           }
          ],
          "contourcarpet": [
           {
            "colorbar": {
             "outlinewidth": 0,
             "ticks": ""
            },
            "type": "contourcarpet"
           }
          ],
          "heatmap": [
           {
            "colorbar": {
             "outlinewidth": 0,
             "ticks": ""
            },
            "colorscale": [
             [
              0,
              "#0d0887"
             ],
             [
              0.1111111111111111,
              "#46039f"
             ],
             [
              0.2222222222222222,
              "#7201a8"
             ],
             [
              0.3333333333333333,
              "#9c179e"
             ],
             [
              0.4444444444444444,
              "#bd3786"
             ],
             [
              0.5555555555555556,
              "#d8576b"
             ],
             [
              0.6666666666666666,
              "#ed7953"
             ],
             [
              0.7777777777777778,
              "#fb9f3a"
             ],
             [
              0.8888888888888888,
              "#fdca26"
             ],
             [
              1,
              "#f0f921"
             ]
            ],
            "type": "heatmap"
           }
          ],
          "heatmapgl": [
           {
            "colorbar": {
             "outlinewidth": 0,
             "ticks": ""
            },
            "colorscale": [
             [
              0,
              "#0d0887"
             ],
             [
              0.1111111111111111,
              "#46039f"
             ],
             [
              0.2222222222222222,
              "#7201a8"
             ],
             [
              0.3333333333333333,
              "#9c179e"
             ],
             [
              0.4444444444444444,
              "#bd3786"
             ],
             [
              0.5555555555555556,
              "#d8576b"
             ],
             [
              0.6666666666666666,
              "#ed7953"
             ],
             [
              0.7777777777777778,
              "#fb9f3a"
             ],
             [
              0.8888888888888888,
              "#fdca26"
             ],
             [
              1,
              "#f0f921"
             ]
            ],
            "type": "heatmapgl"
           }
          ],
          "histogram": [
           {
            "marker": {
             "pattern": {
              "fillmode": "overlay",
              "size": 10,
              "solidity": 0.2
             }
            },
            "type": "histogram"
           }
          ],
          "histogram2d": [
           {
            "colorbar": {
             "outlinewidth": 0,
             "ticks": ""
            },
            "colorscale": [
             [
              0,
              "#0d0887"
             ],
             [
              0.1111111111111111,
              "#46039f"
             ],
             [
              0.2222222222222222,
              "#7201a8"
             ],
             [
              0.3333333333333333,
              "#9c179e"
             ],
             [
              0.4444444444444444,
              "#bd3786"
             ],
             [
              0.5555555555555556,
              "#d8576b"
             ],
             [
              0.6666666666666666,
              "#ed7953"
             ],
             [
              0.7777777777777778,
              "#fb9f3a"
             ],
             [
              0.8888888888888888,
              "#fdca26"
             ],
             [
              1,
              "#f0f921"
             ]
            ],
            "type": "histogram2d"
           }
          ],
          "histogram2dcontour": [
           {
            "colorbar": {
             "outlinewidth": 0,
             "ticks": ""
            },
            "colorscale": [
             [
              0,
              "#0d0887"
             ],
             [
              0.1111111111111111,
              "#46039f"
             ],
             [
              0.2222222222222222,
              "#7201a8"
             ],
             [
              0.3333333333333333,
              "#9c179e"
             ],
             [
              0.4444444444444444,
              "#bd3786"
             ],
             [
              0.5555555555555556,
              "#d8576b"
             ],
             [
              0.6666666666666666,
              "#ed7953"
             ],
             [
              0.7777777777777778,
              "#fb9f3a"
             ],
             [
              0.8888888888888888,
              "#fdca26"
             ],
             [
              1,
              "#f0f921"
             ]
            ],
            "type": "histogram2dcontour"
           }
          ],
          "mesh3d": [
           {
            "colorbar": {
             "outlinewidth": 0,
             "ticks": ""
            },
            "type": "mesh3d"
           }
          ],
          "parcoords": [
           {
            "line": {
             "colorbar": {
              "outlinewidth": 0,
              "ticks": ""
             }
            },
            "type": "parcoords"
           }
          ],
          "pie": [
           {
            "automargin": true,
            "type": "pie"
           }
          ],
          "scatter": [
           {
            "fillpattern": {
             "fillmode": "overlay",
             "size": 10,
             "solidity": 0.2
            },
            "type": "scatter"
           }
          ],
          "scatter3d": [
           {
            "line": {
             "colorbar": {
              "outlinewidth": 0,
              "ticks": ""
             }
            },
            "marker": {
             "colorbar": {
              "outlinewidth": 0,
              "ticks": ""
             }
            },
            "type": "scatter3d"
           }
          ],
          "scattercarpet": [
           {
            "marker": {
             "colorbar": {
              "outlinewidth": 0,
              "ticks": ""
             }
            },
            "type": "scattercarpet"
           }
          ],
          "scattergeo": [
           {
            "marker": {
             "colorbar": {
              "outlinewidth": 0,
              "ticks": ""
             }
            },
            "type": "scattergeo"
           }
          ],
          "scattergl": [
           {
            "marker": {
             "colorbar": {
              "outlinewidth": 0,
              "ticks": ""
             }
            },
            "type": "scattergl"
           }
          ],
          "scattermapbox": [
           {
            "marker": {
             "colorbar": {
              "outlinewidth": 0,
              "ticks": ""
             }
            },
            "type": "scattermapbox"
           }
          ],
          "scatterpolar": [
           {
            "marker": {
             "colorbar": {
              "outlinewidth": 0,
              "ticks": ""
             }
            },
            "type": "scatterpolar"
           }
          ],
          "scatterpolargl": [
           {
            "marker": {
             "colorbar": {
              "outlinewidth": 0,
              "ticks": ""
             }
            },
            "type": "scatterpolargl"
           }
          ],
          "scatterternary": [
           {
            "marker": {
             "colorbar": {
              "outlinewidth": 0,
              "ticks": ""
             }
            },
            "type": "scatterternary"
           }
          ],
          "surface": [
           {
            "colorbar": {
             "outlinewidth": 0,
             "ticks": ""
            },
            "colorscale": [
             [
              0,
              "#0d0887"
             ],
             [
              0.1111111111111111,
              "#46039f"
             ],
             [
              0.2222222222222222,
              "#7201a8"
             ],
             [
              0.3333333333333333,
              "#9c179e"
             ],
             [
              0.4444444444444444,
              "#bd3786"
             ],
             [
              0.5555555555555556,
              "#d8576b"
             ],
             [
              0.6666666666666666,
              "#ed7953"
             ],
             [
              0.7777777777777778,
              "#fb9f3a"
             ],
             [
              0.8888888888888888,
              "#fdca26"
             ],
             [
              1,
              "#f0f921"
             ]
            ],
            "type": "surface"
           }
          ],
          "table": [
           {
            "cells": {
             "fill": {
              "color": "#EBF0F8"
             },
             "line": {
              "color": "white"
             }
            },
            "header": {
             "fill": {
              "color": "#C8D4E3"
             },
             "line": {
              "color": "white"
             }
            },
            "type": "table"
           }
          ]
         },
         "layout": {
          "annotationdefaults": {
           "arrowcolor": "#2a3f5f",
           "arrowhead": 0,
           "arrowwidth": 1
          },
          "autotypenumbers": "strict",
          "coloraxis": {
           "colorbar": {
            "outlinewidth": 0,
            "ticks": ""
           }
          },
          "colorscale": {
           "diverging": [
            [
             0,
             "#8e0152"
            ],
            [
             0.1,
             "#c51b7d"
            ],
            [
             0.2,
             "#de77ae"
            ],
            [
             0.3,
             "#f1b6da"
            ],
            [
             0.4,
             "#fde0ef"
            ],
            [
             0.5,
             "#f7f7f7"
            ],
            [
             0.6,
             "#e6f5d0"
            ],
            [
             0.7,
             "#b8e186"
            ],
            [
             0.8,
             "#7fbc41"
            ],
            [
             0.9,
             "#4d9221"
            ],
            [
             1,
             "#276419"
            ]
           ],
           "sequential": [
            [
             0,
             "#0d0887"
            ],
            [
             0.1111111111111111,
             "#46039f"
            ],
            [
             0.2222222222222222,
             "#7201a8"
            ],
            [
             0.3333333333333333,
             "#9c179e"
            ],
            [
             0.4444444444444444,
             "#bd3786"
            ],
            [
             0.5555555555555556,
             "#d8576b"
            ],
            [
             0.6666666666666666,
             "#ed7953"
            ],
            [
             0.7777777777777778,
             "#fb9f3a"
            ],
            [
             0.8888888888888888,
             "#fdca26"
            ],
            [
             1,
             "#f0f921"
            ]
           ],
           "sequentialminus": [
            [
             0,
             "#0d0887"
            ],
            [
             0.1111111111111111,
             "#46039f"
            ],
            [
             0.2222222222222222,
             "#7201a8"
            ],
            [
             0.3333333333333333,
             "#9c179e"
            ],
            [
             0.4444444444444444,
             "#bd3786"
            ],
            [
             0.5555555555555556,
             "#d8576b"
            ],
            [
             0.6666666666666666,
             "#ed7953"
            ],
            [
             0.7777777777777778,
             "#fb9f3a"
            ],
            [
             0.8888888888888888,
             "#fdca26"
            ],
            [
             1,
             "#f0f921"
            ]
           ]
          },
          "colorway": [
           "#636efa",
           "#EF553B",
           "#00cc96",
           "#ab63fa",
           "#FFA15A",
           "#19d3f3",
           "#FF6692",
           "#B6E880",
           "#FF97FF",
           "#FECB52"
          ],
          "font": {
           "color": "#2a3f5f"
          },
          "geo": {
           "bgcolor": "white",
           "lakecolor": "white",
           "landcolor": "#E5ECF6",
           "showlakes": true,
           "showland": true,
           "subunitcolor": "white"
          },
          "hoverlabel": {
           "align": "left"
          },
          "hovermode": "closest",
          "mapbox": {
           "style": "light"
          },
          "paper_bgcolor": "white",
          "plot_bgcolor": "#E5ECF6",
          "polar": {
           "angularaxis": {
            "gridcolor": "white",
            "linecolor": "white",
            "ticks": ""
           },
           "bgcolor": "#E5ECF6",
           "radialaxis": {
            "gridcolor": "white",
            "linecolor": "white",
            "ticks": ""
           }
          },
          "scene": {
           "xaxis": {
            "backgroundcolor": "#E5ECF6",
            "gridcolor": "white",
            "gridwidth": 2,
            "linecolor": "white",
            "showbackground": true,
            "ticks": "",
            "zerolinecolor": "white"
           },
           "yaxis": {
            "backgroundcolor": "#E5ECF6",
            "gridcolor": "white",
            "gridwidth": 2,
            "linecolor": "white",
            "showbackground": true,
            "ticks": "",
            "zerolinecolor": "white"
           },
           "zaxis": {
            "backgroundcolor": "#E5ECF6",
            "gridcolor": "white",
            "gridwidth": 2,
            "linecolor": "white",
            "showbackground": true,
            "ticks": "",
            "zerolinecolor": "white"
           }
          },
          "shapedefaults": {
           "line": {
            "color": "#2a3f5f"
           }
          },
          "ternary": {
           "aaxis": {
            "gridcolor": "white",
            "linecolor": "white",
            "ticks": ""
           },
           "baxis": {
            "gridcolor": "white",
            "linecolor": "white",
            "ticks": ""
           },
           "bgcolor": "#E5ECF6",
           "caxis": {
            "gridcolor": "white",
            "linecolor": "white",
            "ticks": ""
           }
          },
          "title": {
           "x": 0.05
          },
          "xaxis": {
           "automargin": true,
           "gridcolor": "white",
           "linecolor": "white",
           "ticks": "",
           "title": {
            "standoff": 15
           },
           "zerolinecolor": "white",
           "zerolinewidth": 2
          },
          "yaxis": {
           "automargin": true,
           "gridcolor": "white",
           "linecolor": "white",
           "ticks": "",
           "title": {
            "standoff": 15
           },
           "zerolinecolor": "white",
           "zerolinewidth": 2
          }
         }
        },
        "title": {
         "text": "Monthly Traffic Accidents and Traffic Violations"
        },
        "xaxis": {
         "anchor": "y",
         "domain": [
          0,
          1
         ],
         "title": {
          "text": "Date (Months)"
         }
        },
        "yaxis": {
         "anchor": "x",
         "domain": [
          0,
          1
         ],
         "title": {
          "text": "Count"
         }
        }
       }
      }
     },
     "metadata": {},
     "output_type": "display_data"
    }
   ],
   "source": [
    "df_violations = pd.read_csv('../resources/traffic_violations_filtered.csv')\n",
    "df_accidents = pd.read_csv('../resources/us_accidents.csv')\n",
    "\n",
    "# Convert the date columns to datetime\n",
    "df_accidents['date'] = pd.to_datetime(df_accidents['Start_Time'])\n",
    "df_violations['date'] = pd.to_datetime(df_violations['Date Of Stop'])\n",
    "\n",
    "# Extract year and month, and aggregate by month\n",
    "df_accidents['month'] = df_accidents['date'].dt.to_period('M')\n",
    "df_violations['month'] = df_violations['date'].dt.to_period('M')\n",
    "\n",
    "accidents_per_month = df_accidents.groupby('month').size().reset_index(name='traffic accidents')\n",
    "violations_per_month = df_violations.groupby('month').size().reset_index(name='traffic violations')\n",
    "\n",
    "# Merge the aggregated data on the month\n",
    "df_merged = pd.merge(accidents_per_month, violations_per_month, on='month', how='outer').fillna(0)\n",
    "\n",
    "# Convert 'month' back to string for plotting\n",
    "df_merged['month'] = df_merged['month'].astype(str)\n",
    "\n",
    "# Melt the dataframe for Plotly Express\n",
    "df_melted = df_merged.melt(id_vars='month', value_vars=['traffic accidents', 'traffic violations'], \n",
    "                           var_name='type', value_name='count')\n",
    "\n",
    "# Create the line plot\n",
    "fig = px.line(df_melted, x='month', y='count', color='type', \n",
    "              labels={'month': 'Date (Months)', 'count': 'Count', 'type': ''},\n",
    "              title='Monthly Traffic Accidents and Traffic Violations')\n",
    "\n",
    "# Show the plot\n",
    "fig.show()\n"
   ]
  },
  {
   "cell_type": "markdown",
   "metadata": {},
   "source": [
    "### Reflection\n",
    "\n",
    "Height van de parquet aanpassen <br>\n",
    "In de barplot aangeven welke dagen het heeft gevroren, ipv een aparte grafiek daarvoor. \n"
   ]
  },
  {
   "cell_type": "markdown",
   "metadata": {},
   "source": [
    "### References\n",
    "https://www.kaggle.com/datasets/sobhanmoosavi/us-accidents <br>\n",
    "https://www.kaggle.com/datasets/selfishgene/historical-hourly-weather-data/data?select=weather_description.csv"
   ]
  }
 ],
 "metadata": {
  "kernelspec": {
   "display_name": "base",
   "language": "python",
   "name": "python3"
  },
  "language_info": {
   "codemirror_mode": {
    "name": "ipython",
    "version": 3
   },
   "file_extension": ".py",
   "mimetype": "text/x-python",
   "name": "python",
   "nbconvert_exporter": "python",
   "pygments_lexer": "ipython3",
   "version": "3.10.14"
  }
 },
 "nbformat": 4,
 "nbformat_minor": 2
}
